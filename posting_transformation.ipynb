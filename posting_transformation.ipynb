{
  "cells": [
    {
      "cell_type": "code",
      "execution_count": null,
      "metadata": {
        "colab": {
          "base_uri": "https://localhost:8080/"
        },
        "id": "LfxeQKVqHZ7-",
        "outputId": "3c6b300a-9ce5-4ebe-9de5-b038fac310d6"
      },
      "outputs": [
        {
          "name": "stdout",
          "output_type": "stream",
          "text": [
            "\r0% [Working]\r            \rHit:1 https://cloud.r-project.org/bin/linux/ubuntu jammy-cran40/ InRelease\n",
            "\r0% [Waiting for headers] [Waiting for headers] [Connecting to ppa.launchpadcontent.net] [Waiting for\r                                                                                                    \rHit:2 https://developer.download.nvidia.com/compute/cuda/repos/ubuntu2204/x86_64  InRelease\n",
            "\r                                                                                                    \r0% [Waiting for headers] [Waiting for headers] [Connecting to ppa.launchpadcontent.net]\r                                                                                       \rHit:3 http://security.ubuntu.com/ubuntu jammy-security InRelease\n",
            "\r                                                                                       \r0% [Waiting for headers] [Connecting to ppa.launchpadcontent.net (185.125.190.80)]\r                                                                                  \rHit:4 http://archive.ubuntu.com/ubuntu jammy InRelease\n",
            "Hit:5 http://archive.ubuntu.com/ubuntu jammy-updates InRelease\n",
            "Hit:6 http://archive.ubuntu.com/ubuntu jammy-backports InRelease\n",
            "Hit:7 https://ppa.launchpadcontent.net/c2d4u.team/c2d4u4.0+/ubuntu jammy InRelease\n",
            "Hit:8 https://ppa.launchpadcontent.net/deadsnakes/ppa/ubuntu jammy InRelease\n",
            "Hit:9 https://ppa.launchpadcontent.net/graphics-drivers/ppa/ubuntu jammy InRelease\n",
            "Hit:10 https://ppa.launchpadcontent.net/ubuntugis/ppa/ubuntu jammy InRelease\n",
            "Reading package lists... Done\n"
          ]
        }
      ],
      "source": [
        "# prompt: set up spark -3.4.3\n",
        "\n",
        "!apt-get update\n",
        "!apt-get install openjdk-11-jdk-headless -qq > /dev/null\n",
        "!wget -q http://www.apache.org/dist/spark/spark-3.4.3/spark-3.4.3-bin-hadoop3.tgz\n",
        "!tar xf spark-3.4.3-bin-hadoop3.tgz\n",
        "!pip install -q findspark\n",
        "!export PATH=$PATH:/content/spark-3.4.3-bin-hadoop3/bin\n",
        "!export JAVA_HOME=/usr/lib/jvm/java-11-openjdk-amd64\n"
      ]
    },
    {
      "cell_type": "code",
      "execution_count": null,
      "metadata": {
        "colab": {
          "base_uri": "https://localhost:8080/"
        },
        "id": "KbeB2efHHrLO",
        "outputId": "701f510b-60e6-418b-e4dc-b599046e5eb8"
      },
      "outputs": [
        {
          "name": "stdout",
          "output_type": "stream",
          "text": [
            "<pyspark.sql.session.SparkSession object at 0x7993dc8cf880>\n"
          ]
        }
      ],
      "source": [
        "# Set Spark Home\n",
        "os.environ[\"SPARK_HOME\"] = \"/content/spark-3.4.3-bin-hadoop3\"\n",
        "\n",
        "# Create a SparkSession\n",
        "from pyspark.sql import SparkSession\n",
        "\n",
        "spark = SparkSession.builder.appName(\"analysis\").getOrCreate()\n",
        "\n",
        "# Print the SparkSession\n",
        "print(spark)"
      ]
    },
    {
      "cell_type": "code",
      "execution_count": null,
      "metadata": {
        "colab": {
          "base_uri": "https://localhost:8080/",
          "height": 219
        },
        "id": "xhRfi0JXHwUi",
        "outputId": "25f76c8b-ac5f-4c3f-8e0e-2c66e8a8518b"
      },
      "outputs": [
        {
          "data": {
            "text/html": [
              "\n",
              "            <div>\n",
              "                <p><b>SparkSession - in-memory</b></p>\n",
              "                \n",
              "        <div>\n",
              "            <p><b>SparkContext</b></p>\n",
              "\n",
              "            <p><a href=\"http://111d00ce60ee:4040\">Spark UI</a></p>\n",
              "\n",
              "            <dl>\n",
              "              <dt>Version</dt>\n",
              "                <dd><code>v3.4.3</code></dd>\n",
              "              <dt>Master</dt>\n",
              "                <dd><code>local[*]</code></dd>\n",
              "              <dt>AppName</dt>\n",
              "                <dd><code>analysis</code></dd>\n",
              "            </dl>\n",
              "        </div>\n",
              "        \n",
              "            </div>\n",
              "        "
            ],
            "text/plain": [
              "<pyspark.sql.session.SparkSession at 0x7993dc8cf880>"
            ]
          },
          "execution_count": 15,
          "metadata": {},
          "output_type": "execute_result"
        }
      ],
      "source": [
        "spark"
      ]
    },
    {
      "cell_type": "code",
      "execution_count": null,
      "metadata": {
        "id": "9KI1QDIHKswt"
      },
      "outputs": [],
      "source": [
        "posting=spark.read.format(\"csv\").option(\"header\",\"true\").load(\"/content/marketing_sample_for_naukri_com-jobs__20190701_20190830__30k_data.csv\")"
      ]
    },
    {
      "cell_type": "code",
      "execution_count": null,
      "metadata": {
        "colab": {
          "base_uri": "https://localhost:8080/"
        },
        "id": "mexC2cAvK2Uk",
        "outputId": "af1a781d-324e-4784-fda0-7f10fb0fba01"
      },
      "outputs": [
        {
          "name": "stdout",
          "output_type": "stream",
          "text": [
            "+--------------------+--------------------+--------------------+--------------------+-----------------------+--------------------+--------------------+--------------------+--------------------+--------------------+--------------------+\n",
            "|             Uniq Id|     Crawl Timestamp|           Job Title|          Job Salary|Job Experience Required|          Key Skills|       Role Category|            Location|     Functional Area|            Industry|                Role|\n",
            "+--------------------+--------------------+--------------------+--------------------+-----------------------+--------------------+--------------------+--------------------+--------------------+--------------------+--------------------+\n",
            "|9be62c49a0b7ebe98...|2019-07-05 01:46:...| Digital Media Pl...| Not Disclosed by...|             5 - 10 yrs| Media Planning| ...|         Advertising|              Mumbai|Marketing , Adver...|Advertising, PR, ...|Media Planning Ex...|\n",
            "|3c52d436e39f596b2...|2019-07-06 08:04:...| Online Bidding E...| Not Disclosed by...|              2 - 5 yrs| pre sales| closi...|        Retail Sales|           Pune,Pune|Sales , Retail , ...|IT-Software, Soft...|Sales Executive/O...|\n",
            "|ffad8a2396c60be2b...|2019-08-05 15:50:...| Trainee Research...| Not Disclosed by...|              0 - 1 yrs| Computer science...|                 R&D|             Gurgaon|Engineering Desig...|Recruitment, Staf...|       R&D Executive|\n",
            "|7b921f51b5c2fb862...|2019-08-05 15:31:...|   Technical Support| 2,00,000 - 4,00,...|              0 - 5 yrs|   Technical Support|Admin/Maintenance...|              Mumbai|IT Software - App...|IT-Software, Soft...|Technical Support...|\n",
            "|2d8b7d44e138a54d5...|2019-07-05 02:48:...| Software Test En...| Not Disclosed by...|              2 - 5 yrs| manual testing| ...|Programming & Design|           Hyderabad|IT Software - QA ...|IT-Software, Soft...|    Testing Engineer|\n",
            "|c9628ea8d9cfd2ca7...|2019-08-05 03:59:...| Opening For Adob...| 7,00,000 - 17,00...|              5 - 7 yrs| adobe experience...|Programming & Design|                Pune|IT Software - App...|IT-Software, Soft...|      System Analyst|\n",
            "|2008eb365fa0ebcb1...|2019-07-06 09:20:...| Sales- Fresher-f...| 2,00,000 - 3,00,...|              0 - 0 yrs| channel partners...|        Retail Sales|           Bengaluru|Sales , Retail , ...|Real Estate, Prop...|Sales Executive/O...|\n",
            "|9642bed00e26183e4...|2019-08-04 03:31:...| Opportunity For ...| Not Disclosed by...|             9 - 14 yrs| TFS| Azure| Git|...|Programming & Design|           Hyderabad|IT Software - App...|IT-Software, Soft...| Technical Architect|\n",
            "|2633768efe8c6f72d...|2019-07-06 15:41:...|           BDE- PUNE| Not Disclosed by...|              2 - 7 yrs|                 Bde| Institutional Sales|                Pune|Sales , Retail , ...|IT-Software, Soft...|Sales Executive/O...|\n",
            "|138a9ab97a766d804...|2019-07-04 12:37:...| Technical Suppor...| Not Disclosed by...|              1 - 5 yrs| technical suppor...|               Voice|           Bengaluru|ITES , BPO , KPO ...|IT-Software, Soft...|Associate/Senior ...|\n",
            "|823c36988178cf5c9...|2019-08-05 17:37:...| Executive Assist...| 25,00,000 - 35,0...|             5 - 10 yrs| secretary| execu...|Corporate Plannin...|              Mumbai|Strategy , Manage...|Courier, Transpor...|Corporate Plannin...|\n",
            "|a607d6b0ce2e03b55...|2019-08-05 14:03:...|       SEO Executive| Not Disclosed by...|              1 - 6 yrs| website| web ana...|Admin/Maintenance...|Noida,Delhi,Noida...|IT Software - eCo...|IT-Software, Soft...|           Webmaster|\n",
            "|fe0f1e3bae37f5a69...|2019-07-07 02:26:...| Workflow Coordin...| Not Disclosed by...|              2 - 7 yrs| operations| work...|          Operations|         Delhi,Delhi|ITES , BPO , KPO ...|BPO, Call Centre,...|Process Flow Analyst|\n",
            "|225c4680e3df32fba...|2019-08-04 09:37:...|         Oracle IDAM|         Openings: 1|            3 - 7 Years| Oracle IDAM|OIM|OAM|Programming & Design|Bengaluru,Hyderab...|IT Software - App...|IT-Software / Sof...|  Software Developer|\n",
            "|d3fac027fd78efae2...|2019-07-04 20:06:...| Looking Facebook...| 3,50,000 - 5,00,...|              2 - 4 yrs| digital marketin...|Online/Digital Ma...|             Gurgaon|Marketing , Adver...|Advertising, PR, ...|Social Media Mark...|\n",
            "|04eb1d641b91b8083...|2019-08-05 04:32:...| Wanted Engineeri...| Not Disclosed by...|              0 - 1 yrs| instrumentation ...|                null|             Chennai|               Other|               Other|               Other|\n",
            "|f501e8c72bdb217c4...|2019-07-06 19:30:...| Tooling &amp; Sa...| Not Disclosed by...|              2 - 7 yrs| Help Desk| Custo...|  Engineering Design|           Faridabad|Engineering Desig...|Industrial Produc...|Senior Design Eng...|\n",
            "|d3a1f8730445764ca...|2019-08-06 07:55:...|     Account Manager| Not Disclosed by...|              3 - 7 yrs| Report Generatio...|            Accounts|              Mumbai|Accounts , Financ...|IT-Software, Soft...|    Accounts Manager|\n",
            "|201088d1d59684152...|2019-08-04 20:46:...|   Magento Developer| Not Disclosed by...|              2 - 7 yrs| Copyright| Email...|Programming & Design|           Ahmedabad|IT Software - eCo...|Textiles, Garment...|  Software Developer|\n",
            "|29efa47a392d94db3...|2019-08-04 22:29:...| Looking For Trai...| Not Disclosed by...|              0 - 3 yrs| C#| MS Dynamics ...|Programming & Design|           Hyderabad|IT Software - App...|IT-Software, Soft...|  Software Developer|\n",
            "+--------------------+--------------------+--------------------+--------------------+-----------------------+--------------------+--------------------+--------------------+--------------------+--------------------+--------------------+\n",
            "only showing top 20 rows\n",
            "\n"
          ]
        }
      ],
      "source": [
        "posting.show()"
      ]
    },
    {
      "cell_type": "code",
      "execution_count": null,
      "metadata": {
        "colab": {
          "base_uri": "https://localhost:8080/"
        },
        "id": "mjoFYV1zK7TK",
        "outputId": "54f31210-cdb4-4771-f28c-5c2182f593f0"
      },
      "outputs": [
        {
          "data": {
            "text/plain": [
              "Row(Uniq Id='9be62c49a0b7ebe982a4af1edaa7bc5f', Crawl Timestamp='2019-07-05 01:46:07 +0000', Job Title=' Digital Media Planner', Job Salary=' Not Disclosed by Recruiter ', Job Experience Required='5 - 10 yrs', Key Skills=' Media Planning| Digital Media', Role Category='Advertising', Location='Mumbai', Functional Area='Marketing , Advertising , MR , PR , Media Planning', Industry='Advertising, PR, MR, Event Management', Role='Media Planning Executive/Manager')"
            ]
          },
          "execution_count": 294,
          "metadata": {},
          "output_type": "execute_result"
        }
      ],
      "source": [
        "posting.head()"
      ]
    },
    {
      "cell_type": "code",
      "execution_count": null,
      "metadata": {
        "colab": {
          "base_uri": "https://localhost:8080/"
        },
        "id": "GS8D9qMbLIrp",
        "outputId": "97eeeef6-8c37-4b9e-bebb-a5c234dc95a7"
      },
      "outputs": [
        {
          "name": "stdout",
          "output_type": "stream",
          "text": [
            "+-------+---------------+---------+----------+-----------------------+----------+-------------+--------+---------------+--------+----+\n",
            "|Uniq Id|Crawl Timestamp|Job Title|Job Salary|Job Experience Required|Key Skills|Role Category|Location|Functional Area|Industry|Role|\n",
            "+-------+---------------+---------+----------+-----------------------+----------+-------------+--------+---------------+--------+----+\n",
            "|      0|              0|      575|        50|                    573|      1271|         2304|     577|            573|     573| 900|\n",
            "+-------+---------------+---------+----------+-----------------------+----------+-------------+--------+---------------+--------+----+\n",
            "\n"
          ]
        }
      ],
      "source": [
        "from pyspark.sql.functions import col, sum\n",
        "\n",
        "posting.select([sum(col(c).isNull().cast(\"int\")).alias(c) for c in posting.columns]).show()"
      ]
    },
    {
      "cell_type": "code",
      "execution_count": null,
      "metadata": {
        "id": "qYzMzr6cLL19"
      },
      "outputs": [],
      "source": [
        "posting = posting.dropna()"
      ]
    },
    {
      "cell_type": "code",
      "execution_count": null,
      "metadata": {
        "id": "hKsrtdZbLPCX"
      },
      "outputs": [],
      "source": [
        "from pyspark.sql.functions import col\n",
        "\n",
        "posting = posting.filter((col(\"Uniq Id\") != \"\") &\n",
        "                         ((col(\"Job Title\") != \"\") |\n",
        "                          (col(\"Job Salary\") != \"\") |\n",
        "                          (col(\"Job Experience Required\") != \"\") |\n",
        "                          (col(\"Key Skills\") != \"\") |\n",
        "                          (col(\"Role Category\") != \"\") |\n",
        "                          (col(\"Location\") != \"\") |\n",
        "                          (col(\"Functional Area\") != \"\") |\n",
        "                          (col(\"Industry\") != \"\") |\n",
        "                          (col(\"Role\") != \"\")))"
      ]
    },
    {
      "cell_type": "code",
      "execution_count": null,
      "metadata": {
        "colab": {
          "base_uri": "https://localhost:8080/"
        },
        "id": "64-66PadLRHI",
        "outputId": "68b0c156-519f-4241-b95b-3d0138086d38"
      },
      "outputs": [
        {
          "name": "stdout",
          "output_type": "stream",
          "text": [
            "root\n",
            " |-- Uniq Id: string (nullable = true)\n",
            " |-- Crawl Timestamp: string (nullable = true)\n",
            " |-- Job Title: string (nullable = true)\n",
            " |-- Job Salary: string (nullable = true)\n",
            " |-- Job Experience Required: string (nullable = true)\n",
            " |-- Key Skills: string (nullable = true)\n",
            " |-- Role Category: string (nullable = true)\n",
            " |-- Location: string (nullable = true)\n",
            " |-- Functional Area: string (nullable = true)\n",
            " |-- Industry: string (nullable = true)\n",
            " |-- Role: string (nullable = true)\n",
            "\n"
          ]
        }
      ],
      "source": [
        "posting.printSchema()"
      ]
    },
    {
      "cell_type": "code",
      "execution_count": null,
      "metadata": {
        "colab": {
          "base_uri": "https://localhost:8080/"
        },
        "id": "PTTAMsJELTRq",
        "outputId": "567eb450-ea18-4b8d-ef32-5c53485c672a"
      },
      "outputs": [
        {
          "name": "stdout",
          "output_type": "stream",
          "text": [
            "+--------------------+\n",
            "|           Job Title|\n",
            "+--------------------+\n",
            "| Inbound Technica...|\n",
            "| Adeeba Group is ...|\n",
            "|   Embedded Engineer|\n",
            "| Group Leader - M...|\n",
            "| Fresher Engineer...|\n",
            "| Nutrition Execut...|\n",
            "| J2EE Full Stack ...|\n",
            "| System Administr...|\n",
            "| DIS Technology A...|\n",
            "|Assistant Manager...|\n",
            "|Amazon Hiring Dat...|\n",
            "| Opening for Seni...|\n",
            "| Senior Executive...|\n",
            "| HR Manager Jobs ...|\n",
            "| Share Point Deve...|\n",
            "|     Java Developer,|\n",
            "| Pediatrician Con...|\n",
            "| Team Leader : Cr...|\n",
            "| Required 10th/12...|\n",
            "|Supply Chain and ...|\n",
            "+--------------------+\n",
            "only showing top 20 rows\n",
            "\n"
          ]
        }
      ],
      "source": [
        "unique_job_titles = posting.select(\"Job Title\").distinct()\n",
        "unique_job_titles.show()"
      ]
    },
    {
      "cell_type": "code",
      "execution_count": null,
      "metadata": {
        "colab": {
          "base_uri": "https://localhost:8080/"
        },
        "id": "LfQHLRAwLVVY",
        "outputId": "094bdfab-72b2-4e64-8dd6-8479fd160e30"
      },
      "outputs": [
        {
          "name": "stdout",
          "output_type": "stream",
          "text": [
            "+--------------------+\n",
            "|          Job Salary|\n",
            "+--------------------+\n",
            "| 1,25,000 - 4,25,...|\n",
            "| 12,00,000 - 20,0...|\n",
            "| INR 2,00,000 - 2...|\n",
            "| INR Both Side Ca...|\n",
            "| 2,75,000 - 5,50,...|\n",
            "| 8,50,000 - 9,00,...|\n",
            "| 6,00,000 - 13,00...|\n",
            "| 18,00,000 - 20,0...|\n",
            "| 9,00,000 - 15,00...|\n",
            "|INR 5,00,000 - 10...|\n",
            "| 7,50,000 - 10,00...|\n",
            "| INR 2,50,000 - 4...|\n",
            "| 1,00,000 - 2,25,...|\n",
            "| INR 5,50,000 - 6...|\n",
            "| 8,00,000 - 16,00...|\n",
            "| At par with indu...|\n",
            "| 1,50,000 - 4,00,...|\n",
            "| Best in the Indu...|\n",
            "| Best in the Market |\n",
            "| 2,25,000 - 2,50,...|\n",
            "+--------------------+\n",
            "only showing top 20 rows\n",
            "\n"
          ]
        }
      ],
      "source": [
        "unique_job_titles = posting.select(\"Job Salary\").distinct()\n",
        "unique_job_titles.show()"
      ]
    },
    {
      "cell_type": "code",
      "execution_count": null,
      "metadata": {
        "colab": {
          "base_uri": "https://localhost:8080/"
        },
        "id": "Q_RH675LLXY_",
        "outputId": "d6a66176-a987-48d3-ab4e-a0270c68b3e7"
      },
      "outputs": [
        {
          "name": "stdout",
          "output_type": "stream",
          "text": [
            "+-----------------------+\n",
            "|Job Experience Required|\n",
            "+-----------------------+\n",
            "|              0 - 3 yrs|\n",
            "|            1 - 3 Years|\n",
            "|          14 - 16 Years|\n",
            "|             2 - 10 yrs|\n",
            "|          12 - 18 Years|\n",
            "|              0 - 4 yrs|\n",
            "|             7 - 12 yrs|\n",
            "|              5 - 7 yrs|\n",
            "|             9 - 12 yrs|\n",
            "|            2 - 4 Years|\n",
            "|            11 - 18 yrs|\n",
            "|              2 - 7 yrs|\n",
            "|                0 Years|\n",
            "|            15 - 23 yrs|\n",
            "|          14 - 22 Years|\n",
            "|          12 - 20 Years|\n",
            "|            17 - 27 yrs|\n",
            "|              1 - 7 yrs|\n",
            "|              1 - 4 yrs|\n",
            "|           7 - 12 Years|\n",
            "+-----------------------+\n",
            "only showing top 20 rows\n",
            "\n"
          ]
        }
      ],
      "source": [
        "unique_job_titles = posting.select(\"Job Experience Required\").distinct()\n",
        "unique_job_titles.show()"
      ]
    },
    {
      "cell_type": "code",
      "execution_count": null,
      "metadata": {
        "colab": {
          "base_uri": "https://localhost:8080/"
        },
        "id": "H229N2q_LZN6",
        "outputId": "7c2b23a0-59dd-4b4d-cda2-d29f73a5c51e"
      },
      "outputs": [
        {
          "name": "stdout",
          "output_type": "stream",
          "text": [
            "+--------------------+\n",
            "|          Key Skills|\n",
            "+--------------------+\n",
            "| Outbound| Medica...|\n",
            "|    land acquisition|\n",
            "| Relationship man...|\n",
            "| Outbound| Techni...|\n",
            "| Angularjs| Java|...|\n",
            "| Email| PDF| EMEA...|\n",
            "| Application Soft...|\n",
            "| Estimation| Tend...|\n",
            "| QA automation| L...|\n",
            "| Contract managem...|\n",
            "| SAP SD| SAP SD C...|\n",
            "| b2b sales| busin...|\n",
            "| rfp| presales| r...|\n",
            "| International Sa...|\n",
            "| Web Technologies...|\n",
            "| Attendance| Trai...|\n",
            "| bd| Sales| Direc...|\n",
            "| Secondary resear...|\n",
            "| PHP| MySQL| SEO|...|\n",
            "| Field Sales| Mar...|\n",
            "+--------------------+\n",
            "only showing top 20 rows\n",
            "\n"
          ]
        }
      ],
      "source": [
        "unique_job_titles = posting.select(\"Key Skills\").distinct()\n",
        "unique_job_titles.show()"
      ]
    },
    {
      "cell_type": "code",
      "execution_count": null,
      "metadata": {
        "colab": {
          "base_uri": "https://localhost:8080/"
        },
        "id": "9qy-umhsLbb2",
        "outputId": "577e8dc9-ef1a-4f61-d7eb-6f0dcd2c91b5"
      },
      "outputs": [
        {
          "name": "stdout",
          "output_type": "stream",
          "text": [
            "+--------------------+\n",
            "|       Role Category|\n",
            "+--------------------+\n",
            "| After Sales Service|\n",
            "|  Investment Banking|\n",
            "|\"Xoriant Corporat...|\n",
            "|Magma Fincorp Lim...|\n",
            "|             Telecom|\n",
            "|Operations/Processes|\n",
            "|Allegis Group Ind...|\n",
            "|At TEKsystems, we...|\n",
            "|       Card Products|\n",
            "|Company Profile H...|\n",
            "|Programming & Design|\n",
            "|               Voice|\n",
            "|\"* A US based $4....|\n",
            "|Interaction with ...|\n",
            "|Saisun Outsourcin...|\n",
            "| Working with Org...|\n",
            "|            Teachers|\n",
            "|Mutual Funds/Fund...|\n",
            "|Language Teachers...|\n",
            "|           OYO ROOMS|\n",
            "+--------------------+\n",
            "only showing top 20 rows\n",
            "\n"
          ]
        }
      ],
      "source": [
        "unique_job_titles = posting.select(\"Role Category\").distinct()\n",
        "unique_job_titles.show()"
      ]
    },
    {
      "cell_type": "code",
      "execution_count": null,
      "metadata": {
        "colab": {
          "base_uri": "https://localhost:8080/"
        },
        "id": "rbWXsjwbLeGT",
        "outputId": "00b280f4-910a-45c6-9778-d0be12cd92cc"
      },
      "outputs": [
        {
          "name": "stdout",
          "output_type": "stream",
          "text": [
            "+--------------------+\n",
            "|            Location|\n",
            "+--------------------+\n",
            "|Bengaluru,Chennai...|\n",
            "|Bengaluru,Hyderab...|\n",
            "| Bengaluru, Pune,...|\n",
            "|Chennai,Delhi NCR...|\n",
            "|Bhiwadi,Gurgaon,M...|\n",
            "|Hyderabad,Pune,Ko...|\n",
            "|Delhi NCR,Mumbai,...|\n",
            "|Ahmedabad,Other C...|\n",
            "|           Bangalore|\n",
            "|    Vellore, Chennai|\n",
            "|Hyderabad (Pochar...|\n",
            "|Delhi NCR,Bengalu...|\n",
            "|         Pune,Mumbai|\n",
            "|Mumbai,Bengaluru,...|\n",
            "|Bengaluru,Delhi,J...|\n",
            "|Bengaluru,Ahmedab...|\n",
            "|Mumbai (Prabhadev...|\n",
            "|Ahmedabad,Surat,J...|\n",
            "|Faridabad,Delhi,M...|\n",
            "|Delhi NCR,Bengalu...|\n",
            "+--------------------+\n",
            "only showing top 20 rows\n",
            "\n"
          ]
        }
      ],
      "source": [
        "unique_job_titles = posting.select(\"Location\").distinct()\n",
        "unique_job_titles.show()"
      ]
    },
    {
      "cell_type": "code",
      "execution_count": null,
      "metadata": {
        "colab": {
          "base_uri": "https://localhost:8080/"
        },
        "id": "nDH4Pp_QLgLN",
        "outputId": "89ee319e-d9bd-4680-91d9-c02ce4020238"
      },
      "outputs": [
        {
          "name": "stdout",
          "output_type": "stream",
          "text": [
            "+--------------------+\n",
            "|     Functional Area|\n",
            "+--------------------+\n",
            "|Architecture , In...|\n",
            "|IT Software - Sys...|\n",
            "|IT Software - Mid...|\n",
            "|TV , Films , Prod...|\n",
            "|Accounts , Financ...|\n",
            "|Allegis Group Ind...|\n",
            "|Export , Import ,...|\n",
            "|At TEKsystems, we...|\n",
            "|Teaching , Educat...|\n",
            "|Production , Manu...|\n",
            "|Marketing , Adver...|\n",
            "|IT Software - App...|\n",
            "| Infrastructure a...|\n",
            "| the company spec...|\n",
            "|Sales , Retail , ...|\n",
            "|Purchase / Logist...|\n",
            "|000 colleagues in...|\n",
            "| Infrastructure a...|\n",
            "| share knowledge ...|\n",
            "|Strategy , Manage...|\n",
            "+--------------------+\n",
            "only showing top 20 rows\n",
            "\n"
          ]
        }
      ],
      "source": [
        "unique_job_titles = posting.select(\"Functional Area\").distinct()\n",
        "unique_job_titles.show()"
      ]
    },
    {
      "cell_type": "code",
      "execution_count": null,
      "metadata": {
        "colab": {
          "base_uri": "https://localhost:8080/"
        },
        "id": "f4bGB8UoLiE5",
        "outputId": "b3fc6c12-9f67-40b8-f433-10a40722bc0f"
      },
      "outputs": [
        {
          "name": "stdout",
          "output_type": "stream",
          "text": [
            "+--------------------+\n",
            "|            Industry|\n",
            "+--------------------+\n",
            "|Automobile / Auto...|\n",
            "|  Retail / Wholesale|\n",
            "|000 employees acr...|\n",
            "|Allegis Group Ind...|\n",
            "|NGO, Social Servi...|\n",
            "|        Broadcasting|\n",
            "| Government, Defence|\n",
            "|Travel / Hotels /...|\n",
            "|At TEKsystems, we...|\n",
            "|Architecture / In...|\n",
            "|IT-Software, Soft...|\n",
            "|Recruitment, Staf...|\n",
            "|Aviation, Aerospa...|\n",
            "|Travel , Hotels ,...|\n",
            "|Semiconductors, E...|\n",
            "|Banking, Financia...|\n",
            "| Brewery, Distillery|\n",
            "|Consumer Electron...|\n",
            "|Real Estate, Prop...|\n",
            "|Media, Entertainm...|\n",
            "+--------------------+\n",
            "only showing top 20 rows\n",
            "\n"
          ]
        }
      ],
      "source": [
        "unique_job_titles = posting.select(\"Industry\").distinct()\n",
        "unique_job_titles.show()"
      ]
    },
    {
      "cell_type": "code",
      "execution_count": null,
      "metadata": {
        "colab": {
          "base_uri": "https://localhost:8080/"
        },
        "id": "iQ7XAHnRLju5",
        "outputId": "05fb1052-6e21-42b7-85a1-383e6a1d3189"
      },
      "outputs": [
        {
          "name": "stdout",
          "output_type": "stream",
          "text": [
            "+--------------------+\n",
            "|                Role|\n",
            "+--------------------+\n",
            "|Assistant Manager...|\n",
            "|        Ground Staff|\n",
            "|    Product Designer|\n",
            "|Head / VP / GM-Ta...|\n",
            "|        Cardiologist|\n",
            "|         RF Engineer|\n",
            "|   Financial Analyst|\n",
            "|Team Lead/Technic...|\n",
            "|Tour Management M...|\n",
            "|Database Architec...|\n",
            "|Allegis Group Ind...|\n",
            "|           Webmaster|\n",
            "|  Sales / BD Manager|\n",
            "|Structural Engine...|\n",
            "|    Treasury Manager|\n",
            "|Mechanical Engine...|\n",
            "|At TEKsystems, we...|\n",
            "|   Footwear Designer|\n",
            "|Service Delivery ...|\n",
            "|        2nd Engineer|\n",
            "+--------------------+\n",
            "only showing top 20 rows\n",
            "\n"
          ]
        }
      ],
      "source": [
        "unique_job_titles = posting.select(\"Role\").distinct()\n",
        "unique_job_titles.show()"
      ]
    },
    {
      "cell_type": "code",
      "execution_count": null,
      "metadata": {
        "id": "gZujUON2LlcD"
      },
      "outputs": [],
      "source": [
        "posting = posting.drop(\"Crawl Timestamp\")"
      ]
    },
    {
      "cell_type": "code",
      "execution_count": null,
      "metadata": {
        "colab": {
          "base_uri": "https://localhost:8080/"
        },
        "id": "ED10wmHcLnlA",
        "outputId": "01a0432e-91c1-47de-b043-74de92737a4d"
      },
      "outputs": [
        {
          "name": "stdout",
          "output_type": "stream",
          "text": [
            "root\n",
            " |-- Uniq Id: string (nullable = true)\n",
            " |-- Job Title: string (nullable = true)\n",
            " |-- Job Salary: string (nullable = true)\n",
            " |-- Job Experience Required: string (nullable = true)\n",
            " |-- Key Skills: string (nullable = true)\n",
            " |-- Role Category: string (nullable = true)\n",
            " |-- Location: string (nullable = true)\n",
            " |-- Functional Area: string (nullable = true)\n",
            " |-- Industry: string (nullable = true)\n",
            " |-- Role: string (nullable = true)\n",
            "\n"
          ]
        }
      ],
      "source": [
        "posting.printSchema()"
      ]
    },
    {
      "cell_type": "code",
      "execution_count": null,
      "metadata": {
        "colab": {
          "base_uri": "https://localhost:8080/"
        },
        "id": "dJkmq60CLpLZ",
        "outputId": "ff9d2002-16e0-447e-c8f5-fb81d2a49db0"
      },
      "outputs": [
        {
          "name": "stdout",
          "output_type": "stream",
          "text": [
            "+--------------------+--------------------+--------------------+-----------------------+--------------------+--------------------+--------------------+--------------------+--------------------+--------------------+\n",
            "|             Uniq Id|           Job Title|          Job Salary|Job Experience Required|          Key Skills|       Role Category|            Location|     Functional Area|            Industry|                Role|\n",
            "+--------------------+--------------------+--------------------+-----------------------+--------------------+--------------------+--------------------+--------------------+--------------------+--------------------+\n",
            "|9be62c49a0b7ebe98...| Digital Media Pl...| Not Disclosed by...|             5 - 10 yrs| Media Planning| ...|         Advertising|              Mumbai|Marketing , Adver...|Advertising, PR, ...|Media Planning Ex...|\n",
            "|3c52d436e39f596b2...| Online Bidding E...| Not Disclosed by...|              2 - 5 yrs| pre sales| closi...|        Retail Sales|           Pune,Pune|Sales , Retail , ...|IT-Software, Soft...|Sales Executive/O...|\n",
            "|ffad8a2396c60be2b...|    Trainee Research| Not Disclosed by...|              0 - 1 yrs| Computer science...|                 R&D|             Gurgaon|Engineering Desig...|Recruitment, Staf...|       R&D Executive|\n",
            "|ffad8a2396c60be2b...| Research Executi...| Not Disclosed by...|              0 - 1 yrs| Computer science...|                 R&D|             Gurgaon|Engineering Desig...|Recruitment, Staf...|       R&D Executive|\n",
            "|7b921f51b5c2fb862...|   Technical Support| 2,00,000 - 4,00,...|              0 - 5 yrs|   Technical Support|Admin/Maintenance...|              Mumbai|IT Software - App...|IT-Software, Soft...|Technical Support...|\n",
            "|2d8b7d44e138a54d5...| Software Test En...| Not Disclosed by...|              2 - 5 yrs| manual testing| ...|Programming & Design|           Hyderabad|IT Software - QA ...|IT-Software, Soft...|    Testing Engineer|\n",
            "|c9628ea8d9cfd2ca7...| Opening For Adob...| 7,00,000 - 17,00...|              5 - 7 yrs| adobe experience...|Programming & Design|                Pune|IT Software - App...|IT-Software, Soft...|      System Analyst|\n",
            "|2008eb365fa0ebcb1...| Sales- Fresher-f...| 2,00,000 - 3,00,...|              0 - 0 yrs| channel partners...|        Retail Sales|           Bengaluru|Sales , Retail , ...|Real Estate, Prop...|Sales Executive/O...|\n",
            "|9642bed00e26183e4...| Opportunity For ...| Not Disclosed by...|             9 - 14 yrs| TFS| Azure| Git|...|Programming & Design|           Hyderabad|IT Software - App...|IT-Software, Soft...| Technical Architect|\n",
            "|2633768efe8c6f72d...|           BDE- PUNE| Not Disclosed by...|              2 - 7 yrs|                 Bde| Institutional Sales|                Pune|Sales , Retail , ...|IT-Software, Soft...|Sales Executive/O...|\n",
            "|138a9ab97a766d804...|   Technical Support| Not Disclosed by...|              1 - 5 yrs| technical suppor...|               Voice|           Bengaluru|ITES , BPO , KPO ...|IT-Software, Soft...|Associate/Senior ...|\n",
            "|138a9ab97a766d804...|     Product Support| Not Disclosed by...|              1 - 5 yrs| technical suppor...|               Voice|           Bengaluru|ITES , BPO , KPO ...|IT-Software, Soft...|Associate/Senior ...|\n",
            "|823c36988178cf5c9...| Executive Assist...| 25,00,000 - 35,0...|             5 - 10 yrs| secretary| execu...|Corporate Plannin...|              Mumbai|Strategy , Manage...|Courier, Transpor...|Corporate Plannin...|\n",
            "|a607d6b0ce2e03b55...|       SEO Executive| Not Disclosed by...|              1 - 6 yrs| website| web ana...|Admin/Maintenance...|Noida,Delhi,Noida...|IT Software - eCo...|IT-Software, Soft...|           Webmaster|\n",
            "|fe0f1e3bae37f5a69...| Workflow Coordin...| Not Disclosed by...|              2 - 7 yrs| operations| work...|          Operations|         Delhi,Delhi|ITES , BPO , KPO ...|BPO, Call Centre,...|Process Flow Analyst|\n",
            "|225c4680e3df32fba...|         Oracle IDAM|         Openings: 1|            3 - 7 Years| Oracle IDAM|OIM|OAM|Programming & Design|Bengaluru,Hyderab...|IT Software - App...|IT-Software / Sof...|  Software Developer|\n",
            "|d3fac027fd78efae2...|   Looking Facebook | 3,50,000 - 5,00,...|              2 - 4 yrs| digital marketin...|Online/Digital Ma...|             Gurgaon|Marketing , Adver...|Advertising, PR, ...|Social Media Mark...|\n",
            "|d3fac027fd78efae2...|social Media Mana...| 3,50,000 - 5,00,...|              2 - 4 yrs| digital marketin...|Online/Digital Ma...|             Gurgaon|Marketing , Adver...|Advertising, PR, ...|Social Media Mark...|\n",
            "|f501e8c72bdb217c4...| Tooling &amp; Sa...| Not Disclosed by...|              2 - 7 yrs| Help Desk| Custo...|  Engineering Design|           Faridabad|Engineering Desig...|Industrial Produc...|Senior Design Eng...|\n",
            "|d3a1f8730445764ca...|     Account Manager| Not Disclosed by...|              3 - 7 yrs| Report Generatio...|            Accounts|              Mumbai|Accounts , Financ...|IT-Software, Soft...|    Accounts Manager|\n",
            "+--------------------+--------------------+--------------------+-----------------------+--------------------+--------------------+--------------------+--------------------+--------------------+--------------------+\n",
            "only showing top 20 rows\n",
            "\n"
          ]
        }
      ],
      "source": [
        "from pyspark.sql.functions import split, explode\n",
        "posting = posting.withColumn(\"Job Title\", explode(split(posting[\"Job Title\"], \"/\")))\n",
        "\n",
        "# Show the DataFrame with split \"Job Title\"\n",
        "posting.show()"
      ]
    },
    {
      "cell_type": "code",
      "execution_count": null,
      "metadata": {
        "colab": {
          "base_uri": "https://localhost:8080/"
        },
        "id": "k6-1P_mSLrJS",
        "outputId": "a21e5fbb-2786-4a61-efd6-a69c5747ec69"
      },
      "outputs": [
        {
          "name": "stdout",
          "output_type": "stream",
          "text": [
            "+--------------------------------+--------------------------------------------------------------+----------------------------+-----------------------+------------------------------------------------------------------------------------------------------------------------------------------------------------------------+------------------------------------------+-----------------------------------+------------------------------------------------------+----------------------------------------------+---------------------------------------+--------------+----------------------------+\n",
            "|Uniq Id                         |Job Title                                                     |Job Salary                  |Job Experience Required|Key Skills                                                                                                                                                              |Role Category                             |Location                           |Functional Area                                       |Industry                                      |Role                                   |Highest Salary|Lowest Salary               |\n",
            "+--------------------------------+--------------------------------------------------------------+----------------------------+-----------------------+------------------------------------------------------------------------------------------------------------------------------------------------------------------------+------------------------------------------+-----------------------------------+------------------------------------------------------+----------------------------------------------+---------------------------------------+--------------+----------------------------+\n",
            "|9be62c49a0b7ebe982a4af1edaa7bc5f| Digital Media Planner                                        | Not Disclosed by Recruiter |5 - 10 yrs             | Media Planning| Digital Media                                                                                                                                          |Advertising                               |Mumbai                             |Marketing , Advertising , MR , PR , Media Planning    |Advertising, PR, MR, Event Management         |Media Planning Executive/Manager       |null          | Not Disclosed by Recruiter |\n",
            "|3c52d436e39f596b22519da2612f6a56| Online Bidding Executive                                     | Not Disclosed by Recruiter |2 - 5 yrs              | pre sales| closing| software knowledge| clients| requirements| negotiating| client| online bidding| good communication| technology                                     |Retail Sales                              |Pune,Pune                          |Sales , Retail , Business Development                 |IT-Software, Software Services                |Sales Executive/Officer                |null          | Not Disclosed by Recruiter |\n",
            "|ffad8a2396c60be2bf6d0e2ff47c58d4| Trainee Research                                             | Not Disclosed by Recruiter |0 - 1 yrs              | Computer science| Fabrication| Quality check| Intellectual property| Electronics| Support services| Research| Management| Human resource management| Research Executive|R&D                                       |Gurgaon                            |Engineering Design , R&D                              |Recruitment, Staffing                         |R&D Executive                          |null          | Not Disclosed by Recruiter |\n",
            "|ffad8a2396c60be2bf6d0e2ff47c58d4| Research Executive- Hi- Tech Operations                      | Not Disclosed by Recruiter |0 - 1 yrs              | Computer science| Fabrication| Quality check| Intellectual property| Electronics| Support services| Research| Management| Human resource management| Research Executive|R&D                                       |Gurgaon                            |Engineering Design , R&D                              |Recruitment, Staffing                         |R&D Executive                          |null          | Not Disclosed by Recruiter |\n",
            "|7b921f51b5c2fb862b4a5f7a54c37f75| Technical Support                                            | 2,00,000 - 4,00,000 PA.    |0 - 5 yrs              | Technical Support                                                                                                                                                      |Admin/Maintenance/Security/Datawarehousing|Mumbai                             |IT Software - Application Programming , Maintenance   |IT-Software, Software Services                |Technical Support Engineer             |4,00,000 PA.  | 2,00,000                   |\n",
            "|2d8b7d44e138a54d5dc841163138de50| Software Test Engineer -hyderabad                            | Not Disclosed by Recruiter |2 - 5 yrs              | manual testing| test engineering| test cases| web testing| web technologies                                                                                            |Programming & Design                      |Hyderabad                          |IT Software - QA & Testing                            |IT-Software, Software Services                |Testing Engineer                       |null          | Not Disclosed by Recruiter |\n",
            "|c9628ea8d9cfd2ca72e14d53783aca90| Opening For Adobe Analytics Specialist                       | 7,00,000 - 17,00,000 PA.   |5 - 7 yrs              | adobe experience manager| digital| digital marketing| adobe analytics| data analytics| aem| adobe| sitecatalyst                                                        |Programming & Design                      |Pune                               |IT Software - Application Programming , Maintenance   |IT-Software, Software Services                |System Analyst                         |17,00,000 PA. | 7,00,000                   |\n",
            "|2008eb365fa0ebcb1ccd9a50efc3da49| Sales- Fresher-for Leading Property Consultant               | 2,00,000 - 3,00,000 PA.    |0 - 0 yrs              | channel partners| real estate| negotiation| property| Residential Sales                                                                                                |Retail Sales                              |Bengaluru                          |Sales , Retail , Business Development                 |Real Estate, Property                         |Sales Executive/Officer                |3,00,000 PA.  | 2,00,000                   |\n",
            "|9642bed00e26183e41ab73778bf48108| Opportunity For Azure Devops Architect For Hyderabad Location| Not Disclosed by Recruiter |9 - 14 yrs             | TFS| Azure| Git| VSTS| Docker| DynaTrace| Splunk| AWS                                                                                                                  |Programming & Design                      |Hyderabad                          |IT Software - Application Programming , Maintenance   |IT-Software, Software Services                |Technical Architect                    |null          | Not Disclosed by Recruiter |\n",
            "|2633768efe8c6f72d75158f1c173f893| BDE- PUNE                                                    | Not Disclosed by Recruiter |2 - 7 yrs              | Bde                                                                                                                                                                    |Institutional Sales                       |Pune                               |Sales , Retail , Business Development                 |IT-Software, Software Services                |Sales Executive/Officer                |null          | Not Disclosed by Recruiter |\n",
            "|138a9ab97a766d8048f5b246172f65ed| Technical Support                                            | Not Disclosed by Recruiter |1 - 5 yrs              | technical support| support services| application support| communication skills| voice based process| semi voice| semi voice process                                    |Voice                                     |Bengaluru                          |ITES , BPO , KPO , LPO , Customer Service , Operations|IT-Software, Software Services                |Associate/Senior Associate -(Technical)|null          | Not Disclosed by Recruiter |\n",
            "|138a9ab97a766d8048f5b246172f65ed| Product Support                                              | Not Disclosed by Recruiter |1 - 5 yrs              | technical support| support services| application support| communication skills| voice based process| semi voice| semi voice process                                    |Voice                                     |Bengaluru                          |ITES , BPO , KPO , LPO , Customer Service , Operations|IT-Software, Software Services                |Associate/Senior Associate -(Technical)|null          | Not Disclosed by Recruiter |\n",
            "|823c36988178cf5c9a6a34e4fc75d4e0| Executive Assistant To Chairman                              | 25,00,000 - 35,00,000 PA.  |5 - 10 yrs             | secretary| executive assistant| ea                                                                                                                                     |Corporate Planning/Consulting/Strategy    |Mumbai                             |Strategy , Management Consulting , Corporate Planning |Courier, Transportation, Freight , Warehousing|Corporate Planning/Strategy Manager    |35,00,000 PA. | 25,00,000                  |\n",
            "|a607d6b0ce2e03b55463d12199932a86| SEO Executive                                                | Not Disclosed by Recruiter |1 - 6 yrs              | website| web analytics| xml| link building| google analytics| case studies| seo| social media| tracking| maintaining                                                   |Admin/Maintenance/Security/Datawarehousing|Noida,Delhi,Noida/Greater Noida    |IT Software - eCommerce , Internet Technologies       |IT-Software, Software Services                |Webmaster                              |null          | Not Disclosed by Recruiter |\n",
            "|fe0f1e3bae37f5a698e27659797333ca| Workflow Coordinator                                         | Not Disclosed by Recruiter |2 - 7 yrs              | operations| workflow| tat| monitoring| mts| email                                                                                                                      |Operations                                |Delhi,Delhi                        |ITES , BPO , KPO , LPO , Customer Service , Operations|BPO, Call Centre, ITeS                        |Process Flow Analyst                   |null          | Not Disclosed by Recruiter |\n",
            "|225c4680e3df32fbaf9c625ca18ae47c|Oracle IDAM                                                   |Openings: 1                 | 3 - 7 Years           |Oracle IDAM|OIM|OAM                                                                                                                                                     |Programming & Design                      |Bengaluru,Hyderabad,Kolkata,Chennai|IT Software - Application Programming , Maintenance   |IT-Software / Software Services               |Software Developer                     |null          |Openings: 1                 |\n",
            "|d3fac027fd78efae29c1f9394a6cd576| Looking Facebook                                             | 3,50,000 - 5,00,000 PA.    |2 - 4 yrs              | digital marketing| seo| social media marketing| content marketing| email marketing| sem| google analytics| campaign management| facebook| media management             |Online/Digital Marketing                  |Gurgaon                            |Marketing , Advertising , MR , PR , Media Planning    |Advertising, PR, MR, Event Management         |Social Media Marketing Manager         |5,00,000 PA.  | 3,50,000                   |\n",
            "|d3fac027fd78efae29c1f9394a6cd576|social Media Manager For our Digital Marketing Ageny          | 3,50,000 - 5,00,000 PA.    |2 - 4 yrs              | digital marketing| seo| social media marketing| content marketing| email marketing| sem| google analytics| campaign management| facebook| media management             |Online/Digital Marketing                  |Gurgaon                            |Marketing , Advertising , MR , PR , Media Planning    |Advertising, PR, MR, Event Management         |Social Media Marketing Manager         |5,00,000 PA.  | 3,50,000                   |\n",
            "|f501e8c72bdb217c4b61c712ed9c1361| Tooling &amp; Sampling                                       | Not Disclosed by Recruiter |2 - 7 yrs              | Help Desk| Customer Service| customer relationship| access controls| Asset Management| Vendor Management                                                               |Engineering Design                        |Faridabad                          |Engineering Design , R&D                              |Industrial Products, Heavy Machinery          |Senior Design Engineer                 |null          | Not Disclosed by Recruiter |\n",
            "|d3a1f8730445764ca02e01883fc7c39e| Account Manager                                              | Not Disclosed by Recruiter |3 - 7 yrs              | Report Generation| Policies| analytical| procedures| Analysts| Data Entry| analytical skills                                                                           |Accounts                                  |Mumbai                             |Accounts , Finance , Tax , Company Secretary , Audit  |IT-Software, Software Services                |Accounts Manager                       |null          | Not Disclosed by Recruiter |\n",
            "+--------------------------------+--------------------------------------------------------------+----------------------------+-----------------------+------------------------------------------------------------------------------------------------------------------------------------------------------------------------+------------------------------------------+-----------------------------------+------------------------------------------------------+----------------------------------------------+---------------------------------------+--------------+----------------------------+\n",
            "only showing top 20 rows\n",
            "\n"
          ]
        }
      ],
      "source": [
        "split_salary = split(posting[\"Job Salary\"], \" - \")\n",
        "\n",
        "# Extract highest and lowest salaries\n",
        "df = posting.withColumn(\"Highest Salary\", split_salary.getItem(1))\n",
        "df = df.withColumn(\"Lowest Salary\", split_salary.getItem(0))\n",
        "\n",
        "# Show the DataFrame with extracted salaries\n",
        "df.show(truncate=False)"
      ]
    },
    {
      "cell_type": "code",
      "execution_count": null,
      "metadata": {
        "colab": {
          "base_uri": "https://localhost:8080/"
        },
        "id": "ofhE8u0ULw1O",
        "outputId": "353a5558-893f-4d85-acfc-7cb2b810fd74"
      },
      "outputs": [
        {
          "name": "stdout",
          "output_type": "stream",
          "text": [
            "+----------------------------+\n",
            "|Job Salary                  |\n",
            "+----------------------------+\n",
            "| Not Disclosed by Recruiter |\n",
            "| Not Disclosed by Recruiter |\n",
            "| Not Disclosed by Recruiter |\n",
            "| Not Disclosed by Recruiter |\n",
            "| 2,00,000 - 4,00,000 PA.    |\n",
            "| Not Disclosed by Recruiter |\n",
            "| 7,00,000 - 17,00,000 PA.   |\n",
            "| 2,00,000 - 3,00,000 PA.    |\n",
            "| Not Disclosed by Recruiter |\n",
            "| Not Disclosed by Recruiter |\n",
            "| Not Disclosed by Recruiter |\n",
            "| Not Disclosed by Recruiter |\n",
            "| 25,00,000 - 35,00,000 PA.  |\n",
            "| Not Disclosed by Recruiter |\n",
            "| Not Disclosed by Recruiter |\n",
            "|Openings: 1                 |\n",
            "| 3,50,000 - 5,00,000 PA.    |\n",
            "| 3,50,000 - 5,00,000 PA.    |\n",
            "| Not Disclosed by Recruiter |\n",
            "| Not Disclosed by Recruiter |\n",
            "+----------------------------+\n",
            "only showing top 20 rows\n",
            "\n",
            "+--------------+\n",
            "|Highest Salary|\n",
            "+--------------+\n",
            "|null          |\n",
            "|null          |\n",
            "|null          |\n",
            "|null          |\n",
            "|4,00,000 PA.  |\n",
            "|null          |\n",
            "|17,00,000 PA. |\n",
            "|3,00,000 PA.  |\n",
            "|null          |\n",
            "|null          |\n",
            "|null          |\n",
            "|null          |\n",
            "|35,00,000 PA. |\n",
            "|null          |\n",
            "|null          |\n",
            "|null          |\n",
            "|5,00,000 PA.  |\n",
            "|5,00,000 PA.  |\n",
            "|null          |\n",
            "|null          |\n",
            "+--------------+\n",
            "only showing top 20 rows\n",
            "\n",
            "+----------------------------+\n",
            "|Lowest Salary               |\n",
            "+----------------------------+\n",
            "| Not Disclosed by Recruiter |\n",
            "| Not Disclosed by Recruiter |\n",
            "| Not Disclosed by Recruiter |\n",
            "| Not Disclosed by Recruiter |\n",
            "| 2,00,000                   |\n",
            "| Not Disclosed by Recruiter |\n",
            "| 7,00,000                   |\n",
            "| 2,00,000                   |\n",
            "| Not Disclosed by Recruiter |\n",
            "| Not Disclosed by Recruiter |\n",
            "| Not Disclosed by Recruiter |\n",
            "| Not Disclosed by Recruiter |\n",
            "| 25,00,000                  |\n",
            "| Not Disclosed by Recruiter |\n",
            "| Not Disclosed by Recruiter |\n",
            "|Openings: 1                 |\n",
            "| 3,50,000                   |\n",
            "| 3,50,000                   |\n",
            "| Not Disclosed by Recruiter |\n",
            "| Not Disclosed by Recruiter |\n",
            "+----------------------------+\n",
            "only showing top 20 rows\n",
            "\n"
          ]
        }
      ],
      "source": [
        "# Print Job Salary\n",
        "df.select(\"Job Salary\").show(truncate=False)\n",
        "\n",
        "# Print Highest Salary\n",
        "df.select(\"Highest Salary\").show(truncate=False)\n",
        "\n",
        "# Print Lowest Salary\n",
        "df.select(\"Lowest Salary\").show(truncate=False)\n",
        "\n",
        "df=df.drop(\"Highest Salary\",\"Lowest Salary\")"
      ]
    },
    {
      "cell_type": "code",
      "execution_count": null,
      "metadata": {
        "colab": {
          "base_uri": "https://localhost:8080/"
        },
        "id": "y9zOvOBYL6nj",
        "outputId": "70e6b04d-f685-4138-8581-3ff6efef63af"
      },
      "outputs": [
        {
          "name": "stdout",
          "output_type": "stream",
          "text": [
            "+--------------------------------+--------------+-------------+\n",
            "|Uniq Id                         |Highest Salary|Lowest Salary|\n",
            "+--------------------------------+--------------+-------------+\n",
            "|9be62c49a0b7ebe982a4af1edaa7bc5f|              |             |\n",
            "|3c52d436e39f596b22519da2612f6a56|              |             |\n",
            "|ffad8a2396c60be2bf6d0e2ff47c58d4|              |             |\n",
            "|ffad8a2396c60be2bf6d0e2ff47c58d4|              |             |\n",
            "|7b921f51b5c2fb862b4a5f7a54c37f75|2,00,000      |4,00,000     |\n",
            "|2d8b7d44e138a54d5dc841163138de50|              |             |\n",
            "|c9628ea8d9cfd2ca72e14d53783aca90|7,00,000      |17,00,000    |\n",
            "|2008eb365fa0ebcb1ccd9a50efc3da49|2,00,000      |3,00,000     |\n",
            "|9642bed00e26183e41ab73778bf48108|              |             |\n",
            "|2633768efe8c6f72d75158f1c173f893|              |             |\n",
            "|138a9ab97a766d8048f5b246172f65ed|              |             |\n",
            "|138a9ab97a766d8048f5b246172f65ed|              |             |\n",
            "|823c36988178cf5c9a6a34e4fc75d4e0|25,00,000     |35,00,000    |\n",
            "|a607d6b0ce2e03b55463d12199932a86|              |             |\n",
            "|fe0f1e3bae37f5a698e27659797333ca|              |             |\n",
            "|225c4680e3df32fbaf9c625ca18ae47c|              |             |\n",
            "|d3fac027fd78efae29c1f9394a6cd576|3,50,000      |5,00,000     |\n",
            "|d3fac027fd78efae29c1f9394a6cd576|3,50,000      |5,00,000     |\n",
            "|f501e8c72bdb217c4b61c712ed9c1361|              |             |\n",
            "|d3a1f8730445764ca02e01883fc7c39e|              |             |\n",
            "+--------------------------------+--------------+-------------+\n",
            "only showing top 20 rows\n",
            "\n"
          ]
        }
      ],
      "source": [
        "\n",
        "from pyspark.sql.functions import col, regexp_extract\n",
        "\n",
        "pattern = r'(\\d{1,2},\\d{2},000) - (\\d{1,2},\\d{2},000) PA.'\n",
        "\n",
        "# Extract highest and lowest salary using regular expression\n",
        "extracted_salaries = df.select(\n",
        "    col(\"Uniq Id\"),\n",
        "    regexp_extract(col(\"Job Salary\"), pattern, 1).alias(\"Highest Salary\"),\n",
        "    regexp_extract(col(\"Job Salary\"), pattern, 2).alias(\"Lowest Salary\")\n",
        ")\n",
        "\n",
        "# Show the extracted salaries\n",
        "extracted_salaries.show(truncate=False)\n"
      ]
    },
    {
      "cell_type": "code",
      "execution_count": null,
      "metadata": {
        "colab": {
          "base_uri": "https://localhost:8080/"
        },
        "id": "PiKu8KakPLRk",
        "outputId": "3b7d1c56-d62c-4338-f31b-c35c93c32490"
      },
      "outputs": [
        {
          "name": "stdout",
          "output_type": "stream",
          "text": [
            "Count of rows in extracted_salaries: 32646\n",
            "Count of rows in df: 32646\n"
          ]
        }
      ],
      "source": [
        "# prompt: count row of extracted_salaries and df\n",
        "\n",
        "print(\"Count of rows in extracted_salaries:\", extracted_salaries.count())\n",
        "print(\"Count of rows in df:\", df.count())\n"
      ]
    },
    {
      "cell_type": "code",
      "execution_count": null,
      "metadata": {
        "colab": {
          "base_uri": "https://localhost:8080/"
        },
        "id": "xA3_HyN-UZke",
        "outputId": "f645f9ca-eb2a-412f-9f42-4f4fb71ddcc4"
      },
      "outputs": [
        {
          "name": "stdout",
          "output_type": "stream",
          "text": [
            "+--------------------------------+--------------------------------------------------------------+----------------------------+-----------------------+------------------------------------------------------------------------------------------------------------------------------------------------------------------------+------------------------------------------+-----------------------------------+------------------------------------------------------+----------------------------------------------+---------------------------------------+--------------+-------------+\n",
            "|Uniq Id                         |Job Title                                                     |Job Salary                  |Job Experience Required|Key Skills                                                                                                                                                              |Role Category                             |Location                           |Functional Area                                       |Industry                                      |Role                                   |Highest Salary|Lowest Salary|\n",
            "+--------------------------------+--------------------------------------------------------------+----------------------------+-----------------------+------------------------------------------------------------------------------------------------------------------------------------------------------------------------+------------------------------------------+-----------------------------------+------------------------------------------------------+----------------------------------------------+---------------------------------------+--------------+-------------+\n",
            "|9be62c49a0b7ebe982a4af1edaa7bc5f| Digital Media Planner                                        | Not Disclosed by Recruiter |5 - 10 yrs             | Media Planning| Digital Media                                                                                                                                          |Advertising                               |Mumbai                             |Marketing , Advertising , MR , PR , Media Planning    |Advertising, PR, MR, Event Management         |Media Planning Executive/Manager       |              |             |\n",
            "|3c52d436e39f596b22519da2612f6a56| Online Bidding Executive                                     | Not Disclosed by Recruiter |2 - 5 yrs              | pre sales| closing| software knowledge| clients| requirements| negotiating| client| online bidding| good communication| technology                                     |Retail Sales                              |Pune,Pune                          |Sales , Retail , Business Development                 |IT-Software, Software Services                |Sales Executive/Officer                |              |             |\n",
            "|ffad8a2396c60be2bf6d0e2ff47c58d4| Trainee Research                                             | Not Disclosed by Recruiter |0 - 1 yrs              | Computer science| Fabrication| Quality check| Intellectual property| Electronics| Support services| Research| Management| Human resource management| Research Executive|R&D                                       |Gurgaon                            |Engineering Design , R&D                              |Recruitment, Staffing                         |R&D Executive                          |              |             |\n",
            "|ffad8a2396c60be2bf6d0e2ff47c58d4| Trainee Research                                             | Not Disclosed by Recruiter |0 - 1 yrs              | Computer science| Fabrication| Quality check| Intellectual property| Electronics| Support services| Research| Management| Human resource management| Research Executive|R&D                                       |Gurgaon                            |Engineering Design , R&D                              |Recruitment, Staffing                         |R&D Executive                          |              |             |\n",
            "|ffad8a2396c60be2bf6d0e2ff47c58d4| Research Executive- Hi- Tech Operations                      | Not Disclosed by Recruiter |0 - 1 yrs              | Computer science| Fabrication| Quality check| Intellectual property| Electronics| Support services| Research| Management| Human resource management| Research Executive|R&D                                       |Gurgaon                            |Engineering Design , R&D                              |Recruitment, Staffing                         |R&D Executive                          |              |             |\n",
            "|ffad8a2396c60be2bf6d0e2ff47c58d4| Research Executive- Hi- Tech Operations                      | Not Disclosed by Recruiter |0 - 1 yrs              | Computer science| Fabrication| Quality check| Intellectual property| Electronics| Support services| Research| Management| Human resource management| Research Executive|R&D                                       |Gurgaon                            |Engineering Design , R&D                              |Recruitment, Staffing                         |R&D Executive                          |              |             |\n",
            "|7b921f51b5c2fb862b4a5f7a54c37f75| Technical Support                                            | 2,00,000 - 4,00,000 PA.    |0 - 5 yrs              | Technical Support                                                                                                                                                      |Admin/Maintenance/Security/Datawarehousing|Mumbai                             |IT Software - Application Programming , Maintenance   |IT-Software, Software Services                |Technical Support Engineer             |2,00,000      |4,00,000     |\n",
            "|2d8b7d44e138a54d5dc841163138de50| Software Test Engineer -hyderabad                            | Not Disclosed by Recruiter |2 - 5 yrs              | manual testing| test engineering| test cases| web testing| web technologies                                                                                            |Programming & Design                      |Hyderabad                          |IT Software - QA & Testing                            |IT-Software, Software Services                |Testing Engineer                       |              |             |\n",
            "|c9628ea8d9cfd2ca72e14d53783aca90| Opening For Adobe Analytics Specialist                       | 7,00,000 - 17,00,000 PA.   |5 - 7 yrs              | adobe experience manager| digital| digital marketing| adobe analytics| data analytics| aem| adobe| sitecatalyst                                                        |Programming & Design                      |Pune                               |IT Software - Application Programming , Maintenance   |IT-Software, Software Services                |System Analyst                         |7,00,000      |17,00,000    |\n",
            "|2008eb365fa0ebcb1ccd9a50efc3da49| Sales- Fresher-for Leading Property Consultant               | 2,00,000 - 3,00,000 PA.    |0 - 0 yrs              | channel partners| real estate| negotiation| property| Residential Sales                                                                                                |Retail Sales                              |Bengaluru                          |Sales , Retail , Business Development                 |Real Estate, Property                         |Sales Executive/Officer                |2,00,000      |3,00,000     |\n",
            "|9642bed00e26183e41ab73778bf48108| Opportunity For Azure Devops Architect For Hyderabad Location| Not Disclosed by Recruiter |9 - 14 yrs             | TFS| Azure| Git| VSTS| Docker| DynaTrace| Splunk| AWS                                                                                                                  |Programming & Design                      |Hyderabad                          |IT Software - Application Programming , Maintenance   |IT-Software, Software Services                |Technical Architect                    |              |             |\n",
            "|2633768efe8c6f72d75158f1c173f893| BDE- PUNE                                                    | Not Disclosed by Recruiter |2 - 7 yrs              | Bde                                                                                                                                                                    |Institutional Sales                       |Pune                               |Sales , Retail , Business Development                 |IT-Software, Software Services                |Sales Executive/Officer                |              |             |\n",
            "|138a9ab97a766d8048f5b246172f65ed| Technical Support                                            | Not Disclosed by Recruiter |1 - 5 yrs              | technical support| support services| application support| communication skills| voice based process| semi voice| semi voice process                                    |Voice                                     |Bengaluru                          |ITES , BPO , KPO , LPO , Customer Service , Operations|IT-Software, Software Services                |Associate/Senior Associate -(Technical)|              |             |\n",
            "|138a9ab97a766d8048f5b246172f65ed| Technical Support                                            | Not Disclosed by Recruiter |1 - 5 yrs              | technical support| support services| application support| communication skills| voice based process| semi voice| semi voice process                                    |Voice                                     |Bengaluru                          |ITES , BPO , KPO , LPO , Customer Service , Operations|IT-Software, Software Services                |Associate/Senior Associate -(Technical)|              |             |\n",
            "|138a9ab97a766d8048f5b246172f65ed| Product Support                                              | Not Disclosed by Recruiter |1 - 5 yrs              | technical support| support services| application support| communication skills| voice based process| semi voice| semi voice process                                    |Voice                                     |Bengaluru                          |ITES , BPO , KPO , LPO , Customer Service , Operations|IT-Software, Software Services                |Associate/Senior Associate -(Technical)|              |             |\n",
            "|138a9ab97a766d8048f5b246172f65ed| Product Support                                              | Not Disclosed by Recruiter |1 - 5 yrs              | technical support| support services| application support| communication skills| voice based process| semi voice| semi voice process                                    |Voice                                     |Bengaluru                          |ITES , BPO , KPO , LPO , Customer Service , Operations|IT-Software, Software Services                |Associate/Senior Associate -(Technical)|              |             |\n",
            "|823c36988178cf5c9a6a34e4fc75d4e0| Executive Assistant To Chairman                              | 25,00,000 - 35,00,000 PA.  |5 - 10 yrs             | secretary| executive assistant| ea                                                                                                                                     |Corporate Planning/Consulting/Strategy    |Mumbai                             |Strategy , Management Consulting , Corporate Planning |Courier, Transportation, Freight , Warehousing|Corporate Planning/Strategy Manager    |25,00,000     |35,00,000    |\n",
            "|a607d6b0ce2e03b55463d12199932a86| SEO Executive                                                | Not Disclosed by Recruiter |1 - 6 yrs              | website| web analytics| xml| link building| google analytics| case studies| seo| social media| tracking| maintaining                                                   |Admin/Maintenance/Security/Datawarehousing|Noida,Delhi,Noida/Greater Noida    |IT Software - eCommerce , Internet Technologies       |IT-Software, Software Services                |Webmaster                              |              |             |\n",
            "|fe0f1e3bae37f5a698e27659797333ca| Workflow Coordinator                                         | Not Disclosed by Recruiter |2 - 7 yrs              | operations| workflow| tat| monitoring| mts| email                                                                                                                      |Operations                                |Delhi,Delhi                        |ITES , BPO , KPO , LPO , Customer Service , Operations|BPO, Call Centre, ITeS                        |Process Flow Analyst                   |              |             |\n",
            "|225c4680e3df32fbaf9c625ca18ae47c|Oracle IDAM                                                   |Openings: 1                 | 3 - 7 Years           |Oracle IDAM|OIM|OAM                                                                                                                                                     |Programming & Design                      |Bengaluru,Hyderabad,Kolkata,Chennai|IT Software - Application Programming , Maintenance   |IT-Software / Software Services               |Software Developer                     |              |             |\n",
            "+--------------------------------+--------------------------------------------------------------+----------------------------+-----------------------+------------------------------------------------------------------------------------------------------------------------------------------------------------------------+------------------------------------------+-----------------------------------+------------------------------------------------------+----------------------------------------------+---------------------------------------+--------------+-------------+\n",
            "only showing top 20 rows\n",
            "\n"
          ]
        }
      ],
      "source": [
        "# Assuming df is your existing DataFrame and extracted_salaries contains the relevant data\n",
        "\n",
        "# Joining df and extracted_salaries based on the common column \"Uniq Id\"\n",
        "joined_df = df.join(extracted_salaries, on=\"Uniq Id\", how=\"left\")\n",
        "\n",
        "# Showing the joined DataFrame\n",
        "joined_df.show(truncate=False)\n"
      ]
    },
    {
      "cell_type": "code",
      "execution_count": null,
      "metadata": {
        "colab": {
          "base_uri": "https://localhost:8080/"
        },
        "id": "OEyPNzvZVKRq",
        "outputId": "7af9a51a-f2b5-4c2f-c170-51b3847b7da3"
      },
      "outputs": [
        {
          "name": "stdout",
          "output_type": "stream",
          "text": [
            "+--------------------------------+-----------------------+-----------------------+\n",
            "|Uniq Id                         |Min Experience Required|Max Experience Required|\n",
            "+--------------------------------+-----------------------+-----------------------+\n",
            "|9be62c49a0b7ebe982a4af1edaa7bc5f|5                      |10                     |\n",
            "|3c52d436e39f596b22519da2612f6a56|2                      |5                      |\n",
            "|ffad8a2396c60be2bf6d0e2ff47c58d4|0                      |1                      |\n",
            "|ffad8a2396c60be2bf6d0e2ff47c58d4|0                      |1                      |\n",
            "|7b921f51b5c2fb862b4a5f7a54c37f75|0                      |5                      |\n",
            "|2d8b7d44e138a54d5dc841163138de50|2                      |5                      |\n",
            "|c9628ea8d9cfd2ca72e14d53783aca90|5                      |7                      |\n",
            "|2008eb365fa0ebcb1ccd9a50efc3da49|0                      |0                      |\n",
            "|9642bed00e26183e41ab73778bf48108|9                      |14                     |\n",
            "|2633768efe8c6f72d75158f1c173f893|2                      |7                      |\n",
            "|138a9ab97a766d8048f5b246172f65ed|1                      |5                      |\n",
            "|138a9ab97a766d8048f5b246172f65ed|1                      |5                      |\n",
            "|823c36988178cf5c9a6a34e4fc75d4e0|5                      |10                     |\n",
            "|a607d6b0ce2e03b55463d12199932a86|1                      |6                      |\n",
            "|fe0f1e3bae37f5a698e27659797333ca|2                      |7                      |\n",
            "|225c4680e3df32fbaf9c625ca18ae47c|                       |                       |\n",
            "|d3fac027fd78efae29c1f9394a6cd576|2                      |4                      |\n",
            "|d3fac027fd78efae29c1f9394a6cd576|2                      |4                      |\n",
            "|f501e8c72bdb217c4b61c712ed9c1361|2                      |7                      |\n",
            "|d3a1f8730445764ca02e01883fc7c39e|3                      |7                      |\n",
            "+--------------------------------+-----------------------+-----------------------+\n",
            "only showing top 20 rows\n",
            "\n"
          ]
        }
      ],
      "source": [
        "from pyspark.sql.functions import col, regexp_extract\n",
        "\n",
        "pattern = r'(\\d+) - (\\d+) yrs'\n",
        "\n",
        "# Extract minimum and maximum experience required using regular expression\n",
        "extracted_experience = df.select(\n",
        "    col(\"Uniq Id\"),\n",
        "    regexp_extract(col(\"Job Experience Required\"), pattern, 1).alias(\"Min Experience Required\"),\n",
        "    regexp_extract(col(\"Job Experience Required\"), pattern, 2).alias(\"Max Experience Required\")\n",
        ")\n",
        "\n",
        "# Show the extracted experience required\n",
        "extracted_experience.show(truncate=False)\n"
      ]
    },
    {
      "cell_type": "code",
      "execution_count": null,
      "metadata": {
        "colab": {
          "base_uri": "https://localhost:8080/"
        },
        "id": "WX2kOxcAVlbc",
        "outputId": "a6e1ed48-c4a8-4c0c-ac50-40d62bfdca19"
      },
      "outputs": [
        {
          "name": "stdout",
          "output_type": "stream",
          "text": [
            "+--------------------------------+--------------------------------------------------------------+----------------------------+-----------------------+------------------------------------------------------------------------------------------------------------------------------------------------------------------------+------------------------------------------+---------+------------------------------------------------------+-------------------------------------+---------------------------------------+--------------+-------------+-----------------------+-----------------------+\n",
            "|Uniq Id                         |Job Title                                                     |Job Salary                  |Job Experience Required|Key Skills                                                                                                                                                              |Role Category                             |Location |Functional Area                                       |Industry                             |Role                                   |Highest Salary|Lowest Salary|Min Experience Required|Max Experience Required|\n",
            "+--------------------------------+--------------------------------------------------------------+----------------------------+-----------------------+------------------------------------------------------------------------------------------------------------------------------------------------------------------------+------------------------------------------+---------+------------------------------------------------------+-------------------------------------+---------------------------------------+--------------+-------------+-----------------------+-----------------------+\n",
            "|9be62c49a0b7ebe982a4af1edaa7bc5f| Digital Media Planner                                        | Not Disclosed by Recruiter |5 - 10 yrs             | Media Planning| Digital Media                                                                                                                                          |Advertising                               |Mumbai   |Marketing , Advertising , MR , PR , Media Planning    |Advertising, PR, MR, Event Management|Media Planning Executive/Manager       |              |             |5                      |10                     |\n",
            "|3c52d436e39f596b22519da2612f6a56| Online Bidding Executive                                     | Not Disclosed by Recruiter |2 - 5 yrs              | pre sales| closing| software knowledge| clients| requirements| negotiating| client| online bidding| good communication| technology                                     |Retail Sales                              |Pune,Pune|Sales , Retail , Business Development                 |IT-Software, Software Services       |Sales Executive/Officer                |              |             |2                      |5                      |\n",
            "|ffad8a2396c60be2bf6d0e2ff47c58d4| Trainee Research                                             | Not Disclosed by Recruiter |0 - 1 yrs              | Computer science| Fabrication| Quality check| Intellectual property| Electronics| Support services| Research| Management| Human resource management| Research Executive|R&D                                       |Gurgaon  |Engineering Design , R&D                              |Recruitment, Staffing                |R&D Executive                          |              |             |0                      |1                      |\n",
            "|ffad8a2396c60be2bf6d0e2ff47c58d4| Trainee Research                                             | Not Disclosed by Recruiter |0 - 1 yrs              | Computer science| Fabrication| Quality check| Intellectual property| Electronics| Support services| Research| Management| Human resource management| Research Executive|R&D                                       |Gurgaon  |Engineering Design , R&D                              |Recruitment, Staffing                |R&D Executive                          |              |             |0                      |1                      |\n",
            "|ffad8a2396c60be2bf6d0e2ff47c58d4| Trainee Research                                             | Not Disclosed by Recruiter |0 - 1 yrs              | Computer science| Fabrication| Quality check| Intellectual property| Electronics| Support services| Research| Management| Human resource management| Research Executive|R&D                                       |Gurgaon  |Engineering Design , R&D                              |Recruitment, Staffing                |R&D Executive                          |              |             |0                      |1                      |\n",
            "|ffad8a2396c60be2bf6d0e2ff47c58d4| Trainee Research                                             | Not Disclosed by Recruiter |0 - 1 yrs              | Computer science| Fabrication| Quality check| Intellectual property| Electronics| Support services| Research| Management| Human resource management| Research Executive|R&D                                       |Gurgaon  |Engineering Design , R&D                              |Recruitment, Staffing                |R&D Executive                          |              |             |0                      |1                      |\n",
            "|ffad8a2396c60be2bf6d0e2ff47c58d4| Research Executive- Hi- Tech Operations                      | Not Disclosed by Recruiter |0 - 1 yrs              | Computer science| Fabrication| Quality check| Intellectual property| Electronics| Support services| Research| Management| Human resource management| Research Executive|R&D                                       |Gurgaon  |Engineering Design , R&D                              |Recruitment, Staffing                |R&D Executive                          |              |             |0                      |1                      |\n",
            "|ffad8a2396c60be2bf6d0e2ff47c58d4| Research Executive- Hi- Tech Operations                      | Not Disclosed by Recruiter |0 - 1 yrs              | Computer science| Fabrication| Quality check| Intellectual property| Electronics| Support services| Research| Management| Human resource management| Research Executive|R&D                                       |Gurgaon  |Engineering Design , R&D                              |Recruitment, Staffing                |R&D Executive                          |              |             |0                      |1                      |\n",
            "|ffad8a2396c60be2bf6d0e2ff47c58d4| Research Executive- Hi- Tech Operations                      | Not Disclosed by Recruiter |0 - 1 yrs              | Computer science| Fabrication| Quality check| Intellectual property| Electronics| Support services| Research| Management| Human resource management| Research Executive|R&D                                       |Gurgaon  |Engineering Design , R&D                              |Recruitment, Staffing                |R&D Executive                          |              |             |0                      |1                      |\n",
            "|ffad8a2396c60be2bf6d0e2ff47c58d4| Research Executive- Hi- Tech Operations                      | Not Disclosed by Recruiter |0 - 1 yrs              | Computer science| Fabrication| Quality check| Intellectual property| Electronics| Support services| Research| Management| Human resource management| Research Executive|R&D                                       |Gurgaon  |Engineering Design , R&D                              |Recruitment, Staffing                |R&D Executive                          |              |             |0                      |1                      |\n",
            "|7b921f51b5c2fb862b4a5f7a54c37f75| Technical Support                                            | 2,00,000 - 4,00,000 PA.    |0 - 5 yrs              | Technical Support                                                                                                                                                      |Admin/Maintenance/Security/Datawarehousing|Mumbai   |IT Software - Application Programming , Maintenance   |IT-Software, Software Services       |Technical Support Engineer             |2,00,000      |4,00,000     |0                      |5                      |\n",
            "|2d8b7d44e138a54d5dc841163138de50| Software Test Engineer -hyderabad                            | Not Disclosed by Recruiter |2 - 5 yrs              | manual testing| test engineering| test cases| web testing| web technologies                                                                                            |Programming & Design                      |Hyderabad|IT Software - QA & Testing                            |IT-Software, Software Services       |Testing Engineer                       |              |             |2                      |5                      |\n",
            "|c9628ea8d9cfd2ca72e14d53783aca90| Opening For Adobe Analytics Specialist                       | 7,00,000 - 17,00,000 PA.   |5 - 7 yrs              | adobe experience manager| digital| digital marketing| adobe analytics| data analytics| aem| adobe| sitecatalyst                                                        |Programming & Design                      |Pune     |IT Software - Application Programming , Maintenance   |IT-Software, Software Services       |System Analyst                         |7,00,000      |17,00,000    |5                      |7                      |\n",
            "|2008eb365fa0ebcb1ccd9a50efc3da49| Sales- Fresher-for Leading Property Consultant               | 2,00,000 - 3,00,000 PA.    |0 - 0 yrs              | channel partners| real estate| negotiation| property| Residential Sales                                                                                                |Retail Sales                              |Bengaluru|Sales , Retail , Business Development                 |Real Estate, Property                |Sales Executive/Officer                |2,00,000      |3,00,000     |0                      |0                      |\n",
            "|9642bed00e26183e41ab73778bf48108| Opportunity For Azure Devops Architect For Hyderabad Location| Not Disclosed by Recruiter |9 - 14 yrs             | TFS| Azure| Git| VSTS| Docker| DynaTrace| Splunk| AWS                                                                                                                  |Programming & Design                      |Hyderabad|IT Software - Application Programming , Maintenance   |IT-Software, Software Services       |Technical Architect                    |              |             |9                      |14                     |\n",
            "|2633768efe8c6f72d75158f1c173f893| BDE- PUNE                                                    | Not Disclosed by Recruiter |2 - 7 yrs              | Bde                                                                                                                                                                    |Institutional Sales                       |Pune     |Sales , Retail , Business Development                 |IT-Software, Software Services       |Sales Executive/Officer                |              |             |2                      |7                      |\n",
            "|138a9ab97a766d8048f5b246172f65ed| Technical Support                                            | Not Disclosed by Recruiter |1 - 5 yrs              | technical support| support services| application support| communication skills| voice based process| semi voice| semi voice process                                    |Voice                                     |Bengaluru|ITES , BPO , KPO , LPO , Customer Service , Operations|IT-Software, Software Services       |Associate/Senior Associate -(Technical)|              |             |1                      |5                      |\n",
            "|138a9ab97a766d8048f5b246172f65ed| Technical Support                                            | Not Disclosed by Recruiter |1 - 5 yrs              | technical support| support services| application support| communication skills| voice based process| semi voice| semi voice process                                    |Voice                                     |Bengaluru|ITES , BPO , KPO , LPO , Customer Service , Operations|IT-Software, Software Services       |Associate/Senior Associate -(Technical)|              |             |1                      |5                      |\n",
            "|138a9ab97a766d8048f5b246172f65ed| Technical Support                                            | Not Disclosed by Recruiter |1 - 5 yrs              | technical support| support services| application support| communication skills| voice based process| semi voice| semi voice process                                    |Voice                                     |Bengaluru|ITES , BPO , KPO , LPO , Customer Service , Operations|IT-Software, Software Services       |Associate/Senior Associate -(Technical)|              |             |1                      |5                      |\n",
            "|138a9ab97a766d8048f5b246172f65ed| Technical Support                                            | Not Disclosed by Recruiter |1 - 5 yrs              | technical support| support services| application support| communication skills| voice based process| semi voice| semi voice process                                    |Voice                                     |Bengaluru|ITES , BPO , KPO , LPO , Customer Service , Operations|IT-Software, Software Services       |Associate/Senior Associate -(Technical)|              |             |1                      |5                      |\n",
            "+--------------------------------+--------------------------------------------------------------+----------------------------+-----------------------+------------------------------------------------------------------------------------------------------------------------------------------------------------------------+------------------------------------------+---------+------------------------------------------------------+-------------------------------------+---------------------------------------+--------------+-------------+-----------------------+-----------------------+\n",
            "only showing top 20 rows\n",
            "\n"
          ]
        }
      ],
      "source": [
        "df = joined_df.join(extracted_experience, on=\"Uniq Id\", how=\"left\")\n",
        "\n",
        "# Showing the joined DataFrame\n",
        "df.show(truncate=False)"
      ]
    },
    {
      "cell_type": "code",
      "execution_count": null,
      "metadata": {
        "colab": {
          "base_uri": "https://localhost:8080/"
        },
        "id": "sB-I0BTsVzCf",
        "outputId": "dcdae912-4a27-4377-8228-0826bb110284"
      },
      "outputs": [
        {
          "name": "stdout",
          "output_type": "stream",
          "text": [
            "root\n",
            " |-- Uniq Id: string (nullable = true)\n",
            " |-- Job Title: string (nullable = false)\n",
            " |-- Job Salary: string (nullable = true)\n",
            " |-- Job Experience Required: string (nullable = true)\n",
            " |-- Key Skills: string (nullable = true)\n",
            " |-- Role Category: string (nullable = true)\n",
            " |-- Location: string (nullable = true)\n",
            " |-- Functional Area: string (nullable = true)\n",
            " |-- Industry: string (nullable = true)\n",
            " |-- Role: string (nullable = true)\n",
            " |-- Highest Salary: string (nullable = true)\n",
            " |-- Lowest Salary: string (nullable = true)\n",
            " |-- Min Experience Required: string (nullable = true)\n",
            " |-- Max Experience Required: string (nullable = true)\n",
            "\n"
          ]
        }
      ],
      "source": [
        "df.printSchema()"
      ]
    },
    {
      "cell_type": "code",
      "execution_count": null,
      "metadata": {
        "colab": {
          "base_uri": "https://localhost:8080/"
        },
        "id": "KrMCTlh1V86j",
        "outputId": "f7041ab6-876f-422d-d11a-91a3fddda89f"
      },
      "outputs": [
        {
          "name": "stdout",
          "output_type": "stream",
          "text": [
            "+--------------------+\n",
            "|          Key Skills|\n",
            "+--------------------+\n",
            "| Media Planning| ...|\n",
            "| pre sales| closi...|\n",
            "| Computer science...|\n",
            "| Computer science...|\n",
            "| Computer science...|\n",
            "| Computer science...|\n",
            "| Computer science...|\n",
            "| Computer science...|\n",
            "| Computer science...|\n",
            "| Computer science...|\n",
            "|   Technical Support|\n",
            "| manual testing| ...|\n",
            "| adobe experience...|\n",
            "| channel partners...|\n",
            "| TFS| Azure| Git|...|\n",
            "|                 Bde|\n",
            "| technical suppor...|\n",
            "| technical suppor...|\n",
            "| technical suppor...|\n",
            "| technical suppor...|\n",
            "+--------------------+\n",
            "only showing top 20 rows\n",
            "\n"
          ]
        }
      ],
      "source": [
        "df.select(\"Key Skills\").show()"
      ]
    },
    {
      "cell_type": "code",
      "execution_count": null,
      "metadata": {
        "colab": {
          "base_uri": "https://localhost:8080/"
        },
        "id": "ym4maxxbV_tI",
        "outputId": "381b62ef-9a05-446a-a41d-0998b57556e1"
      },
      "outputs": [
        {
          "name": "stdout",
          "output_type": "stream",
          "text": [
            "+--------------------+--------------------+--------------------+-----------------------+--------------------+--------------------+---------+--------------------+--------------------+--------------------+--------------+-------------+-----------------------+-----------------------+\n",
            "|             Uniq Id|           Job Title|          Job Salary|Job Experience Required|          Key Skills|       Role Category| Location|     Functional Area|            Industry|                Role|Highest Salary|Lowest Salary|Min Experience Required|Max Experience Required|\n",
            "+--------------------+--------------------+--------------------+-----------------------+--------------------+--------------------+---------+--------------------+--------------------+--------------------+--------------+-------------+-----------------------+-----------------------+\n",
            "|9be62c49a0b7ebe98...| Digital Media Pl...| Not Disclosed by...|             5 - 10 yrs| Media Planning| ...|         Advertising|   Mumbai|Marketing , Adver...|Advertising, PR, ...|Media Planning Ex...|              |             |                      5|                     10|\n",
            "|3c52d436e39f596b2...| Online Bidding E...| Not Disclosed by...|              2 - 5 yrs| pre sales| closi...|        Retail Sales|     Pune|Sales , Retail , ...|IT-Software, Soft...|Sales Executive/O...|              |             |                      2|                      5|\n",
            "|3c52d436e39f596b2...| Online Bidding E...| Not Disclosed by...|              2 - 5 yrs| pre sales| closi...|        Retail Sales|     Pune|Sales , Retail , ...|IT-Software, Soft...|Sales Executive/O...|              |             |                      2|                      5|\n",
            "|ffad8a2396c60be2b...|    Trainee Research| Not Disclosed by...|              0 - 1 yrs| Computer science...|                 R&D|  Gurgaon|Engineering Desig...|Recruitment, Staf...|       R&D Executive|              |             |                      0|                      1|\n",
            "|ffad8a2396c60be2b...|    Trainee Research| Not Disclosed by...|              0 - 1 yrs| Computer science...|                 R&D|  Gurgaon|Engineering Desig...|Recruitment, Staf...|       R&D Executive|              |             |                      0|                      1|\n",
            "|ffad8a2396c60be2b...|    Trainee Research| Not Disclosed by...|              0 - 1 yrs| Computer science...|                 R&D|  Gurgaon|Engineering Desig...|Recruitment, Staf...|       R&D Executive|              |             |                      0|                      1|\n",
            "|ffad8a2396c60be2b...|    Trainee Research| Not Disclosed by...|              0 - 1 yrs| Computer science...|                 R&D|  Gurgaon|Engineering Desig...|Recruitment, Staf...|       R&D Executive|              |             |                      0|                      1|\n",
            "|ffad8a2396c60be2b...| Research Executi...| Not Disclosed by...|              0 - 1 yrs| Computer science...|                 R&D|  Gurgaon|Engineering Desig...|Recruitment, Staf...|       R&D Executive|              |             |                      0|                      1|\n",
            "|ffad8a2396c60be2b...| Research Executi...| Not Disclosed by...|              0 - 1 yrs| Computer science...|                 R&D|  Gurgaon|Engineering Desig...|Recruitment, Staf...|       R&D Executive|              |             |                      0|                      1|\n",
            "|ffad8a2396c60be2b...| Research Executi...| Not Disclosed by...|              0 - 1 yrs| Computer science...|                 R&D|  Gurgaon|Engineering Desig...|Recruitment, Staf...|       R&D Executive|              |             |                      0|                      1|\n",
            "|ffad8a2396c60be2b...| Research Executi...| Not Disclosed by...|              0 - 1 yrs| Computer science...|                 R&D|  Gurgaon|Engineering Desig...|Recruitment, Staf...|       R&D Executive|              |             |                      0|                      1|\n",
            "|7b921f51b5c2fb862...|   Technical Support| 2,00,000 - 4,00,...|              0 - 5 yrs|   Technical Support|Admin/Maintenance...|   Mumbai|IT Software - App...|IT-Software, Soft...|Technical Support...|      2,00,000|     4,00,000|                      0|                      5|\n",
            "|2d8b7d44e138a54d5...| Software Test En...| Not Disclosed by...|              2 - 5 yrs| manual testing| ...|Programming & Design|Hyderabad|IT Software - QA ...|IT-Software, Soft...|    Testing Engineer|              |             |                      2|                      5|\n",
            "|c9628ea8d9cfd2ca7...| Opening For Adob...| 7,00,000 - 17,00...|              5 - 7 yrs| adobe experience...|Programming & Design|     Pune|IT Software - App...|IT-Software, Soft...|      System Analyst|      7,00,000|    17,00,000|                      5|                      7|\n",
            "|2008eb365fa0ebcb1...| Sales- Fresher-f...| 2,00,000 - 3,00,...|              0 - 0 yrs| channel partners...|        Retail Sales|Bengaluru|Sales , Retail , ...|Real Estate, Prop...|Sales Executive/O...|      2,00,000|     3,00,000|                      0|                      0|\n",
            "|9642bed00e26183e4...| Opportunity For ...| Not Disclosed by...|             9 - 14 yrs| TFS| Azure| Git|...|Programming & Design|Hyderabad|IT Software - App...|IT-Software, Soft...| Technical Architect|              |             |                      9|                     14|\n",
            "|2633768efe8c6f72d...|           BDE- PUNE| Not Disclosed by...|              2 - 7 yrs|                 Bde| Institutional Sales|     Pune|Sales , Retail , ...|IT-Software, Soft...|Sales Executive/O...|              |             |                      2|                      7|\n",
            "|138a9ab97a766d804...|   Technical Support| Not Disclosed by...|              1 - 5 yrs| technical suppor...|               Voice|Bengaluru|ITES , BPO , KPO ...|IT-Software, Soft...|Associate/Senior ...|              |             |                      1|                      5|\n",
            "|138a9ab97a766d804...|   Technical Support| Not Disclosed by...|              1 - 5 yrs| technical suppor...|               Voice|Bengaluru|ITES , BPO , KPO ...|IT-Software, Soft...|Associate/Senior ...|              |             |                      1|                      5|\n",
            "|138a9ab97a766d804...|   Technical Support| Not Disclosed by...|              1 - 5 yrs| technical suppor...|               Voice|Bengaluru|ITES , BPO , KPO ...|IT-Software, Soft...|Associate/Senior ...|              |             |                      1|                      5|\n",
            "+--------------------+--------------------+--------------------+-----------------------+--------------------+--------------------+---------+--------------------+--------------------+--------------------+--------------+-------------+-----------------------+-----------------------+\n",
            "only showing top 20 rows\n",
            "\n"
          ]
        }
      ],
      "source": [
        "from pyspark.sql.functions import split, explode\n",
        "df = df.withColumn(\"Location\", explode(split(posting[\"Location\"], \",\")))\n",
        "\n",
        "# Show the DataFrame with split \"Job Title\"\n",
        "df.show()"
      ]
    },
    {
      "cell_type": "code",
      "execution_count": null,
      "metadata": {
        "id": "hF0NqSMhZ043"
      },
      "outputs": [],
      "source": [
        "from pyspark.sql.functions import col, when\n",
        "\n",
        "# Convert empty spaces in \"Highest Salary\" column to \"Not disclosed\"\n",
        "df = df.withColumn(\"Highest Salary\", when(col(\"Highest Salary\") == \"\", \"Not disclosed\").otherwise(col(\"Highest Salary\")))\n"
      ]
    },
    {
      "cell_type": "code",
      "execution_count": null,
      "metadata": {
        "id": "9f4KPryHZ3Nt"
      },
      "outputs": [],
      "source": [
        "df = df.withColumn(\"Lowest Salary\", when(col(\"Lowest Salary\") == \"\", \"Not disclosed\").otherwise(col(\"Lowest Salary\")))"
      ]
    },
    {
      "cell_type": "code",
      "execution_count": null,
      "metadata": {
        "colab": {
          "base_uri": "https://localhost:8080/"
        },
        "id": "IgMKQUzuaDK2",
        "outputId": "5212cb4c-ced5-42e8-efcd-8c2aaf289586"
      },
      "outputs": [
        {
          "name": "stdout",
          "output_type": "stream",
          "text": [
            "+--------------------+--------------------+--------------------+-----------------------+--------------------+--------------------+---------+--------------------+--------------------+--------------------+--------------+-------------+-----------------------+-----------------------+\n",
            "|             Uniq Id|           Job Title|          Job Salary|Job Experience Required|          Key Skills|       Role Category| Location|     Functional Area|            Industry|                Role|Highest Salary|Lowest Salary|Min Experience Required|Max Experience Required|\n",
            "+--------------------+--------------------+--------------------+-----------------------+--------------------+--------------------+---------+--------------------+--------------------+--------------------+--------------+-------------+-----------------------+-----------------------+\n",
            "|9be62c49a0b7ebe98...| Digital Media Pl...| Not Disclosed by...|             5 - 10 yrs| Media Planning| ...|         Advertising|   Mumbai|Marketing , Adver...|Advertising, PR, ...|Media Planning Ex...| Not disclosed|Not disclosed|                      5|                     10|\n",
            "|3c52d436e39f596b2...| Online Bidding E...| Not Disclosed by...|              2 - 5 yrs| pre sales| closi...|        Retail Sales|     Pune|Sales , Retail , ...|IT-Software, Soft...|Sales Executive/O...| Not disclosed|Not disclosed|                      2|                      5|\n",
            "|3c52d436e39f596b2...| Online Bidding E...| Not Disclosed by...|              2 - 5 yrs| pre sales| closi...|        Retail Sales|     Pune|Sales , Retail , ...|IT-Software, Soft...|Sales Executive/O...| Not disclosed|Not disclosed|                      2|                      5|\n",
            "|ffad8a2396c60be2b...|    Trainee Research| Not Disclosed by...|              0 - 1 yrs| Computer science...|                 R&D|  Gurgaon|Engineering Desig...|Recruitment, Staf...|       R&D Executive| Not disclosed|Not disclosed|                      0|                      1|\n",
            "|ffad8a2396c60be2b...|    Trainee Research| Not Disclosed by...|              0 - 1 yrs| Computer science...|                 R&D|  Gurgaon|Engineering Desig...|Recruitment, Staf...|       R&D Executive| Not disclosed|Not disclosed|                      0|                      1|\n",
            "|ffad8a2396c60be2b...|    Trainee Research| Not Disclosed by...|              0 - 1 yrs| Computer science...|                 R&D|  Gurgaon|Engineering Desig...|Recruitment, Staf...|       R&D Executive| Not disclosed|Not disclosed|                      0|                      1|\n",
            "|ffad8a2396c60be2b...|    Trainee Research| Not Disclosed by...|              0 - 1 yrs| Computer science...|                 R&D|  Gurgaon|Engineering Desig...|Recruitment, Staf...|       R&D Executive| Not disclosed|Not disclosed|                      0|                      1|\n",
            "|ffad8a2396c60be2b...| Research Executi...| Not Disclosed by...|              0 - 1 yrs| Computer science...|                 R&D|  Gurgaon|Engineering Desig...|Recruitment, Staf...|       R&D Executive| Not disclosed|Not disclosed|                      0|                      1|\n",
            "|ffad8a2396c60be2b...| Research Executi...| Not Disclosed by...|              0 - 1 yrs| Computer science...|                 R&D|  Gurgaon|Engineering Desig...|Recruitment, Staf...|       R&D Executive| Not disclosed|Not disclosed|                      0|                      1|\n",
            "|ffad8a2396c60be2b...| Research Executi...| Not Disclosed by...|              0 - 1 yrs| Computer science...|                 R&D|  Gurgaon|Engineering Desig...|Recruitment, Staf...|       R&D Executive| Not disclosed|Not disclosed|                      0|                      1|\n",
            "|ffad8a2396c60be2b...| Research Executi...| Not Disclosed by...|              0 - 1 yrs| Computer science...|                 R&D|  Gurgaon|Engineering Desig...|Recruitment, Staf...|       R&D Executive| Not disclosed|Not disclosed|                      0|                      1|\n",
            "|7b921f51b5c2fb862...|   Technical Support| 2,00,000 - 4,00,...|              0 - 5 yrs|   Technical Support|Admin/Maintenance...|   Mumbai|IT Software - App...|IT-Software, Soft...|Technical Support...|      2,00,000|     4,00,000|                      0|                      5|\n",
            "|2d8b7d44e138a54d5...| Software Test En...| Not Disclosed by...|              2 - 5 yrs| manual testing| ...|Programming & Design|Hyderabad|IT Software - QA ...|IT-Software, Soft...|    Testing Engineer| Not disclosed|Not disclosed|                      2|                      5|\n",
            "|c9628ea8d9cfd2ca7...| Opening For Adob...| 7,00,000 - 17,00...|              5 - 7 yrs| adobe experience...|Programming & Design|     Pune|IT Software - App...|IT-Software, Soft...|      System Analyst|      7,00,000|    17,00,000|                      5|                      7|\n",
            "|2008eb365fa0ebcb1...| Sales- Fresher-f...| 2,00,000 - 3,00,...|              0 - 0 yrs| channel partners...|        Retail Sales|Bengaluru|Sales , Retail , ...|Real Estate, Prop...|Sales Executive/O...|      2,00,000|     3,00,000|                      0|                      0|\n",
            "|9642bed00e26183e4...| Opportunity For ...| Not Disclosed by...|             9 - 14 yrs| TFS| Azure| Git|...|Programming & Design|Hyderabad|IT Software - App...|IT-Software, Soft...| Technical Architect| Not disclosed|Not disclosed|                      9|                     14|\n",
            "|2633768efe8c6f72d...|           BDE- PUNE| Not Disclosed by...|              2 - 7 yrs|                 Bde| Institutional Sales|     Pune|Sales , Retail , ...|IT-Software, Soft...|Sales Executive/O...| Not disclosed|Not disclosed|                      2|                      7|\n",
            "|138a9ab97a766d804...|   Technical Support| Not Disclosed by...|              1 - 5 yrs| technical suppor...|               Voice|Bengaluru|ITES , BPO , KPO ...|IT-Software, Soft...|Associate/Senior ...| Not disclosed|Not disclosed|                      1|                      5|\n",
            "|138a9ab97a766d804...|   Technical Support| Not Disclosed by...|              1 - 5 yrs| technical suppor...|               Voice|Bengaluru|ITES , BPO , KPO ...|IT-Software, Soft...|Associate/Senior ...| Not disclosed|Not disclosed|                      1|                      5|\n",
            "|138a9ab97a766d804...|   Technical Support| Not Disclosed by...|              1 - 5 yrs| technical suppor...|               Voice|Bengaluru|ITES , BPO , KPO ...|IT-Software, Soft...|Associate/Senior ...| Not disclosed|Not disclosed|                      1|                      5|\n",
            "+--------------------+--------------------+--------------------+-----------------------+--------------------+--------------------+---------+--------------------+--------------------+--------------------+--------------+-------------+-----------------------+-----------------------+\n",
            "only showing top 20 rows\n",
            "\n"
          ]
        }
      ],
      "source": [
        "df.show()"
      ]
    },
    {
      "cell_type": "code",
      "execution_count": null,
      "metadata": {
        "colab": {
          "base_uri": "https://localhost:8080/"
        },
        "id": "vB5nmEh9YlH4",
        "outputId": "abaaf8f4-a64e-40c7-fe35-649227ec00e9"
      },
      "outputs": [
        {
          "name": "stdout",
          "output_type": "stream",
          "text": [
            "+--------------------+--------------------+--------------------+-----------------------+--------------------+--------------------+---------+--------------------+--------------------+--------------------+--------------+-------------+-----------------------+-----------------------+\n",
            "|             Uniq Id|           Job Title|          Job Salary|Job Experience Required|          Key Skills|       Role Category| Location|     Functional Area|            Industry|                Role|Highest Salary|Lowest Salary|Min Experience Required|Max Experience Required|\n",
            "+--------------------+--------------------+--------------------+-----------------------+--------------------+--------------------+---------+--------------------+--------------------+--------------------+--------------+-------------+-----------------------+-----------------------+\n",
            "|9be62c49a0b7ebe98...| Digital Media Pl...| Not Disclosed by...|             5 - 10 yrs| Media Planning| ...|         Advertising|   Mumbai|Marketing , Adver...|Advertising, PR, ...|Media Planning Ex...| Not disclosed|Not disclosed|                      5|                     10|\n",
            "|3c52d436e39f596b2...| Online Bidding E...| Not Disclosed by...|              2 - 5 yrs| pre sales| closi...|        Retail Sales|     Pune|Sales , Retail , ...|IT-Software, Soft...|Sales Executive/O...| Not disclosed|Not disclosed|                      2|                      5|\n",
            "|3c52d436e39f596b2...| Online Bidding E...| Not Disclosed by...|              2 - 5 yrs| pre sales| closi...|        Retail Sales|     Pune|Sales , Retail , ...|IT-Software, Soft...|Sales Executive/O...| Not disclosed|Not disclosed|                      2|                      5|\n",
            "|ffad8a2396c60be2b...|    Trainee Research| Not Disclosed by...|              0 - 1 yrs| Computer science...|                 R&D|  Gurgaon|Engineering Desig...|Recruitment, Staf...|       R&D Executive| Not disclosed|Not disclosed|                      0|                      1|\n",
            "|ffad8a2396c60be2b...|    Trainee Research| Not Disclosed by...|              0 - 1 yrs| Computer science...|                 R&D|  Gurgaon|Engineering Desig...|Recruitment, Staf...|       R&D Executive| Not disclosed|Not disclosed|                      0|                      1|\n",
            "|ffad8a2396c60be2b...|    Trainee Research| Not Disclosed by...|              0 - 1 yrs| Computer science...|                 R&D|  Gurgaon|Engineering Desig...|Recruitment, Staf...|       R&D Executive| Not disclosed|Not disclosed|                      0|                      1|\n",
            "|ffad8a2396c60be2b...|    Trainee Research| Not Disclosed by...|              0 - 1 yrs| Computer science...|                 R&D|  Gurgaon|Engineering Desig...|Recruitment, Staf...|       R&D Executive| Not disclosed|Not disclosed|                      0|                      1|\n",
            "|ffad8a2396c60be2b...| Research Executi...| Not Disclosed by...|              0 - 1 yrs| Computer science...|                 R&D|  Gurgaon|Engineering Desig...|Recruitment, Staf...|       R&D Executive| Not disclosed|Not disclosed|                      0|                      1|\n",
            "|ffad8a2396c60be2b...| Research Executi...| Not Disclosed by...|              0 - 1 yrs| Computer science...|                 R&D|  Gurgaon|Engineering Desig...|Recruitment, Staf...|       R&D Executive| Not disclosed|Not disclosed|                      0|                      1|\n",
            "|ffad8a2396c60be2b...| Research Executi...| Not Disclosed by...|              0 - 1 yrs| Computer science...|                 R&D|  Gurgaon|Engineering Desig...|Recruitment, Staf...|       R&D Executive| Not disclosed|Not disclosed|                      0|                      1|\n",
            "|ffad8a2396c60be2b...| Research Executi...| Not Disclosed by...|              0 - 1 yrs| Computer science...|                 R&D|  Gurgaon|Engineering Desig...|Recruitment, Staf...|       R&D Executive| Not disclosed|Not disclosed|                      0|                      1|\n",
            "|7b921f51b5c2fb862...|   Technical Support| 2,00,000 - 4,00,...|              0 - 5 yrs|   Technical Support|Admin/Maintenance...|   Mumbai|IT Software - App...|IT-Software, Soft...|Technical Support...|      2,00,000|     4,00,000|                      0|                      5|\n",
            "|2d8b7d44e138a54d5...| Software Test En...| Not Disclosed by...|              2 - 5 yrs| manual testing| ...|Programming & Design|Hyderabad|IT Software - QA ...|IT-Software, Soft...|    Testing Engineer| Not disclosed|Not disclosed|                      2|                      5|\n",
            "|c9628ea8d9cfd2ca7...| Opening For Adob...| 7,00,000 - 17,00...|              5 - 7 yrs| adobe experience...|Programming & Design|     Pune|IT Software - App...|IT-Software, Soft...|      System Analyst|      7,00,000|    17,00,000|                      5|                      7|\n",
            "|2008eb365fa0ebcb1...| Sales- Fresher-f...| 2,00,000 - 3,00,...|              0 - 0 yrs| channel partners...|        Retail Sales|Bengaluru|Sales , Retail , ...|Real Estate, Prop...|Sales Executive/O...|      2,00,000|     3,00,000|                      0|                      0|\n",
            "|9642bed00e26183e4...| Opportunity For ...| Not Disclosed by...|             9 - 14 yrs| TFS| Azure| Git|...|Programming & Design|Hyderabad|IT Software - App...|IT-Software, Soft...| Technical Architect| Not disclosed|Not disclosed|                      9|                     14|\n",
            "|2633768efe8c6f72d...|           BDE- PUNE| Not Disclosed by...|              2 - 7 yrs|                 Bde| Institutional Sales|     Pune|Sales , Retail , ...|IT-Software, Soft...|Sales Executive/O...| Not disclosed|Not disclosed|                      2|                      7|\n",
            "|138a9ab97a766d804...|   Technical Support| Not Disclosed by...|              1 - 5 yrs| technical suppor...|               Voice|Bengaluru|ITES , BPO , KPO ...|IT-Software, Soft...|Associate/Senior ...| Not disclosed|Not disclosed|                      1|                      5|\n",
            "|138a9ab97a766d804...|   Technical Support| Not Disclosed by...|              1 - 5 yrs| technical suppor...|               Voice|Bengaluru|ITES , BPO , KPO ...|IT-Software, Soft...|Associate/Senior ...| Not disclosed|Not disclosed|                      1|                      5|\n",
            "|138a9ab97a766d804...|   Technical Support| Not Disclosed by...|              1 - 5 yrs| technical suppor...|               Voice|Bengaluru|ITES , BPO , KPO ...|IT-Software, Soft...|Associate/Senior ...| Not disclosed|Not disclosed|                      1|                      5|\n",
            "+--------------------+--------------------+--------------------+-----------------------+--------------------+--------------------+---------+--------------------+--------------------+--------------------+--------------+-------------+-----------------------+-----------------------+\n",
            "only showing top 20 rows\n",
            "\n"
          ]
        }
      ],
      "source": [
        "df = df.filter(\n",
        "    ((col(\"Job Title\") != \"\") |\n",
        "     (col(\"Job Salary\") != \"\") |\n",
        "     (col(\"Job Experience Required\") != \"\") |\n",
        "     (col(\"Key Skills\") != \"\") |\n",
        "     (col(\"Role Category\") != \"\") |\n",
        "     (col(\"Location\") != \"\") |\n",
        "     (col(\"Functional Area\") != \"\") |\n",
        "     (col(\"Industry\") != \"\") |\n",
        "     (col(\"Role\") != \"\") |\n",
        "     (col(\"Highest Salary\") != \"\") |\n",
        "     (col(\"Lowest Salary\") != \"\") |\n",
        "     (col(\"Min Experience Required\") != \"\") |\n",
        "     (col(\"Max Experience Required\") != \"\"))\n",
        ")\n",
        "\n",
        "# Show the filtered DataFrame\n",
        "df.show()"
      ]
    },
    {
      "cell_type": "code",
      "execution_count": null,
      "metadata": {
        "colab": {
          "base_uri": "https://localhost:8080/"
        },
        "id": "ufg3sWEsWC4s",
        "outputId": "5aff22a5-5810-45ca-af51-8330431e2f37"
      },
      "outputs": [
        {
          "name": "stdout",
          "output_type": "stream",
          "text": [
            "+--------------------+--------------------+--------------------+-----------------------+--------------------+-------------+--------+--------------------+--------------------+--------------------+--------------+-------------+-----------------------+-----------------------+\n",
            "|             Uniq Id|           Job Title|          Job Salary|Job Experience Required|          Key Skills|Role Category|Location|     Functional Area|            Industry|                Role|Highest Salary|Lowest Salary|Min Experience Required|Max Experience Required|\n",
            "+--------------------+--------------------+--------------------+-----------------------+--------------------+-------------+--------+--------------------+--------------------+--------------------+--------------+-------------+-----------------------+-----------------------+\n",
            "|9be62c49a0b7ebe98...| Digital Media Pl...| Not Disclosed by...|             5 - 10 yrs| Media Planning| ...|  Advertising|  Mumbai|          Marketing |Advertising, PR, ...|Media Planning Ex...| Not disclosed|Not disclosed|                      5|                     10|\n",
            "|9be62c49a0b7ebe98...| Digital Media Pl...| Not Disclosed by...|             5 - 10 yrs| Media Planning| ...|  Advertising|  Mumbai|        Advertising |Advertising, PR, ...|Media Planning Ex...| Not disclosed|Not disclosed|                      5|                     10|\n",
            "|9be62c49a0b7ebe98...| Digital Media Pl...| Not Disclosed by...|             5 - 10 yrs| Media Planning| ...|  Advertising|  Mumbai|                 MR |Advertising, PR, ...|Media Planning Ex...| Not disclosed|Not disclosed|                      5|                     10|\n",
            "|9be62c49a0b7ebe98...| Digital Media Pl...| Not Disclosed by...|             5 - 10 yrs| Media Planning| ...|  Advertising|  Mumbai|                 PR |Advertising, PR, ...|Media Planning Ex...| Not disclosed|Not disclosed|                      5|                     10|\n",
            "|9be62c49a0b7ebe98...| Digital Media Pl...| Not Disclosed by...|             5 - 10 yrs| Media Planning| ...|  Advertising|  Mumbai|      Media Planning|Advertising, PR, ...|Media Planning Ex...| Not disclosed|Not disclosed|                      5|                     10|\n",
            "|3c52d436e39f596b2...| Online Bidding E...| Not Disclosed by...|              2 - 5 yrs| pre sales| closi...| Retail Sales|    Pune|              Sales |IT-Software, Soft...|Sales Executive/O...| Not disclosed|Not disclosed|                      2|                      5|\n",
            "|3c52d436e39f596b2...| Online Bidding E...| Not Disclosed by...|              2 - 5 yrs| pre sales| closi...| Retail Sales|    Pune|             Retail |IT-Software, Soft...|Sales Executive/O...| Not disclosed|Not disclosed|                      2|                      5|\n",
            "|3c52d436e39f596b2...| Online Bidding E...| Not Disclosed by...|              2 - 5 yrs| pre sales| closi...| Retail Sales|    Pune| Business Develop...|IT-Software, Soft...|Sales Executive/O...| Not disclosed|Not disclosed|                      2|                      5|\n",
            "|3c52d436e39f596b2...| Online Bidding E...| Not Disclosed by...|              2 - 5 yrs| pre sales| closi...| Retail Sales|    Pune|              Sales |IT-Software, Soft...|Sales Executive/O...| Not disclosed|Not disclosed|                      2|                      5|\n",
            "|3c52d436e39f596b2...| Online Bidding E...| Not Disclosed by...|              2 - 5 yrs| pre sales| closi...| Retail Sales|    Pune|             Retail |IT-Software, Soft...|Sales Executive/O...| Not disclosed|Not disclosed|                      2|                      5|\n",
            "|3c52d436e39f596b2...| Online Bidding E...| Not Disclosed by...|              2 - 5 yrs| pre sales| closi...| Retail Sales|    Pune| Business Develop...|IT-Software, Soft...|Sales Executive/O...| Not disclosed|Not disclosed|                      2|                      5|\n",
            "|ffad8a2396c60be2b...|    Trainee Research| Not Disclosed by...|              0 - 1 yrs| Computer science...|          R&D| Gurgaon| Engineering Design |Recruitment, Staf...|       R&D Executive| Not disclosed|Not disclosed|                      0|                      1|\n",
            "|ffad8a2396c60be2b...|    Trainee Research| Not Disclosed by...|              0 - 1 yrs| Computer science...|          R&D| Gurgaon|                 R&D|Recruitment, Staf...|       R&D Executive| Not disclosed|Not disclosed|                      0|                      1|\n",
            "|ffad8a2396c60be2b...|    Trainee Research| Not Disclosed by...|              0 - 1 yrs| Computer science...|          R&D| Gurgaon| Engineering Design |Recruitment, Staf...|       R&D Executive| Not disclosed|Not disclosed|                      0|                      1|\n",
            "|ffad8a2396c60be2b...|    Trainee Research| Not Disclosed by...|              0 - 1 yrs| Computer science...|          R&D| Gurgaon|                 R&D|Recruitment, Staf...|       R&D Executive| Not disclosed|Not disclosed|                      0|                      1|\n",
            "|ffad8a2396c60be2b...|    Trainee Research| Not Disclosed by...|              0 - 1 yrs| Computer science...|          R&D| Gurgaon| Engineering Design |Recruitment, Staf...|       R&D Executive| Not disclosed|Not disclosed|                      0|                      1|\n",
            "|ffad8a2396c60be2b...|    Trainee Research| Not Disclosed by...|              0 - 1 yrs| Computer science...|          R&D| Gurgaon|                 R&D|Recruitment, Staf...|       R&D Executive| Not disclosed|Not disclosed|                      0|                      1|\n",
            "|ffad8a2396c60be2b...|    Trainee Research| Not Disclosed by...|              0 - 1 yrs| Computer science...|          R&D| Gurgaon| Engineering Design |Recruitment, Staf...|       R&D Executive| Not disclosed|Not disclosed|                      0|                      1|\n",
            "|ffad8a2396c60be2b...|    Trainee Research| Not Disclosed by...|              0 - 1 yrs| Computer science...|          R&D| Gurgaon|                 R&D|Recruitment, Staf...|       R&D Executive| Not disclosed|Not disclosed|                      0|                      1|\n",
            "|ffad8a2396c60be2b...| Research Executi...| Not Disclosed by...|              0 - 1 yrs| Computer science...|          R&D| Gurgaon| Engineering Design |Recruitment, Staf...|       R&D Executive| Not disclosed|Not disclosed|                      0|                      1|\n",
            "+--------------------+--------------------+--------------------+-----------------------+--------------------+-------------+--------+--------------------+--------------------+--------------------+--------------+-------------+-----------------------+-----------------------+\n",
            "only showing top 20 rows\n",
            "\n"
          ]
        }
      ],
      "source": [
        "\n",
        "from pyspark.sql.functions import split, explode\n",
        "df = df.withColumn(\"Functional Area\", explode(split(posting[\"Functional Area\"], \",\")))\n",
        "\n",
        "# Show the DataFrame with split \"Job Title\"\n",
        "df.show()"
      ]
    },
    {
      "cell_type": "code",
      "execution_count": null,
      "metadata": {
        "colab": {
          "base_uri": "https://localhost:8080/"
        },
        "id": "YQAlrXNuWFPn",
        "outputId": "eefbf97e-4ee5-4912-fc0c-244582898f25"
      },
      "outputs": [
        {
          "name": "stdout",
          "output_type": "stream",
          "text": [
            "+--------------------+--------------------+--------------------+-----------------------+--------------------+-------------+--------+---------------+-----------------+--------------------+--------------+-------------+-----------------------+-----------------------+\n",
            "|             Uniq Id|           Job Title|          Job Salary|Job Experience Required|          Key Skills|Role Category|Location|Functional Area|         Industry|                Role|Highest Salary|Lowest Salary|Min Experience Required|Max Experience Required|\n",
            "+--------------------+--------------------+--------------------+-----------------------+--------------------+-------------+--------+---------------+-----------------+--------------------+--------------+-------------+-----------------------+-----------------------+\n",
            "|9be62c49a0b7ebe98...| Digital Media Pl...| Not Disclosed by...|             5 - 10 yrs| Media Planning| ...|  Advertising|  Mumbai|     Marketing |      Advertising|Media Planning Ex...| Not disclosed|Not disclosed|                      5|                     10|\n",
            "|9be62c49a0b7ebe98...| Digital Media Pl...| Not Disclosed by...|             5 - 10 yrs| Media Planning| ...|  Advertising|  Mumbai|     Marketing |               PR|Media Planning Ex...| Not disclosed|Not disclosed|                      5|                     10|\n",
            "|9be62c49a0b7ebe98...| Digital Media Pl...| Not Disclosed by...|             5 - 10 yrs| Media Planning| ...|  Advertising|  Mumbai|     Marketing |               MR|Media Planning Ex...| Not disclosed|Not disclosed|                      5|                     10|\n",
            "|9be62c49a0b7ebe98...| Digital Media Pl...| Not Disclosed by...|             5 - 10 yrs| Media Planning| ...|  Advertising|  Mumbai|     Marketing | Event Management|Media Planning Ex...| Not disclosed|Not disclosed|                      5|                     10|\n",
            "|9be62c49a0b7ebe98...| Digital Media Pl...| Not Disclosed by...|             5 - 10 yrs| Media Planning| ...|  Advertising|  Mumbai|   Advertising |      Advertising|Media Planning Ex...| Not disclosed|Not disclosed|                      5|                     10|\n",
            "|9be62c49a0b7ebe98...| Digital Media Pl...| Not Disclosed by...|             5 - 10 yrs| Media Planning| ...|  Advertising|  Mumbai|   Advertising |               PR|Media Planning Ex...| Not disclosed|Not disclosed|                      5|                     10|\n",
            "|9be62c49a0b7ebe98...| Digital Media Pl...| Not Disclosed by...|             5 - 10 yrs| Media Planning| ...|  Advertising|  Mumbai|   Advertising |               MR|Media Planning Ex...| Not disclosed|Not disclosed|                      5|                     10|\n",
            "|9be62c49a0b7ebe98...| Digital Media Pl...| Not Disclosed by...|             5 - 10 yrs| Media Planning| ...|  Advertising|  Mumbai|   Advertising | Event Management|Media Planning Ex...| Not disclosed|Not disclosed|                      5|                     10|\n",
            "|9be62c49a0b7ebe98...| Digital Media Pl...| Not Disclosed by...|             5 - 10 yrs| Media Planning| ...|  Advertising|  Mumbai|            MR |      Advertising|Media Planning Ex...| Not disclosed|Not disclosed|                      5|                     10|\n",
            "|9be62c49a0b7ebe98...| Digital Media Pl...| Not Disclosed by...|             5 - 10 yrs| Media Planning| ...|  Advertising|  Mumbai|            MR |               PR|Media Planning Ex...| Not disclosed|Not disclosed|                      5|                     10|\n",
            "|9be62c49a0b7ebe98...| Digital Media Pl...| Not Disclosed by...|             5 - 10 yrs| Media Planning| ...|  Advertising|  Mumbai|            MR |               MR|Media Planning Ex...| Not disclosed|Not disclosed|                      5|                     10|\n",
            "|9be62c49a0b7ebe98...| Digital Media Pl...| Not Disclosed by...|             5 - 10 yrs| Media Planning| ...|  Advertising|  Mumbai|            MR | Event Management|Media Planning Ex...| Not disclosed|Not disclosed|                      5|                     10|\n",
            "|9be62c49a0b7ebe98...| Digital Media Pl...| Not Disclosed by...|             5 - 10 yrs| Media Planning| ...|  Advertising|  Mumbai|            PR |      Advertising|Media Planning Ex...| Not disclosed|Not disclosed|                      5|                     10|\n",
            "|9be62c49a0b7ebe98...| Digital Media Pl...| Not Disclosed by...|             5 - 10 yrs| Media Planning| ...|  Advertising|  Mumbai|            PR |               PR|Media Planning Ex...| Not disclosed|Not disclosed|                      5|                     10|\n",
            "|9be62c49a0b7ebe98...| Digital Media Pl...| Not Disclosed by...|             5 - 10 yrs| Media Planning| ...|  Advertising|  Mumbai|            PR |               MR|Media Planning Ex...| Not disclosed|Not disclosed|                      5|                     10|\n",
            "|9be62c49a0b7ebe98...| Digital Media Pl...| Not Disclosed by...|             5 - 10 yrs| Media Planning| ...|  Advertising|  Mumbai|            PR | Event Management|Media Planning Ex...| Not disclosed|Not disclosed|                      5|                     10|\n",
            "|9be62c49a0b7ebe98...| Digital Media Pl...| Not Disclosed by...|             5 - 10 yrs| Media Planning| ...|  Advertising|  Mumbai| Media Planning|      Advertising|Media Planning Ex...| Not disclosed|Not disclosed|                      5|                     10|\n",
            "|9be62c49a0b7ebe98...| Digital Media Pl...| Not Disclosed by...|             5 - 10 yrs| Media Planning| ...|  Advertising|  Mumbai| Media Planning|               PR|Media Planning Ex...| Not disclosed|Not disclosed|                      5|                     10|\n",
            "|9be62c49a0b7ebe98...| Digital Media Pl...| Not Disclosed by...|             5 - 10 yrs| Media Planning| ...|  Advertising|  Mumbai| Media Planning|               MR|Media Planning Ex...| Not disclosed|Not disclosed|                      5|                     10|\n",
            "|9be62c49a0b7ebe98...| Digital Media Pl...| Not Disclosed by...|             5 - 10 yrs| Media Planning| ...|  Advertising|  Mumbai| Media Planning| Event Management|Media Planning Ex...| Not disclosed|Not disclosed|                      5|                     10|\n",
            "+--------------------+--------------------+--------------------+-----------------------+--------------------+-------------+--------+---------------+-----------------+--------------------+--------------+-------------+-----------------------+-----------------------+\n",
            "only showing top 20 rows\n",
            "\n"
          ]
        }
      ],
      "source": [
        "from pyspark.sql.functions import split, explode\n",
        "df = df.withColumn(\"Industry\", explode(split(posting[\"Industry\"], \",\")))\n",
        "\n",
        "# Show the DataFrame with split \"Job Title\"\n",
        "df.show()"
      ]
    },
    {
      "cell_type": "code",
      "execution_count": null,
      "metadata": {
        "colab": {
          "base_uri": "https://localhost:8080/"
        },
        "id": "etVqbbVMWo-8",
        "outputId": "b7db1749-20fd-4138-8dc4-1a311668e789"
      },
      "outputs": [
        {
          "name": "stdout",
          "output_type": "stream",
          "text": [
            "+--------------------+--------------------+--------------------+-----------------------+--------------------+-------------+--------+---------------+-----------------+--------------------+--------------+-------------+-----------------------+-----------------------+\n",
            "|             Uniq Id|           Job Title|          Job Salary|Job Experience Required|          Key Skills|Role Category|Location|Functional Area|         Industry|                Role|Highest Salary|Lowest Salary|Min Experience Required|Max Experience Required|\n",
            "+--------------------+--------------------+--------------------+-----------------------+--------------------+-------------+--------+---------------+-----------------+--------------------+--------------+-------------+-----------------------+-----------------------+\n",
            "|9be62c49a0b7ebe98...| Digital Media Pl...| Not Disclosed by...|             5 - 10 yrs| Media Planning| ...|  Advertising|  Mumbai|     Marketing |      Advertising|Media Planning Ex...| Not disclosed|Not disclosed|                      5|                     10|\n",
            "|9be62c49a0b7ebe98...| Digital Media Pl...| Not Disclosed by...|             5 - 10 yrs| Media Planning| ...|  Advertising|  Mumbai|     Marketing |               PR|Media Planning Ex...| Not disclosed|Not disclosed|                      5|                     10|\n",
            "|9be62c49a0b7ebe98...| Digital Media Pl...| Not Disclosed by...|             5 - 10 yrs| Media Planning| ...|  Advertising|  Mumbai|     Marketing |               MR|Media Planning Ex...| Not disclosed|Not disclosed|                      5|                     10|\n",
            "|9be62c49a0b7ebe98...| Digital Media Pl...| Not Disclosed by...|             5 - 10 yrs| Media Planning| ...|  Advertising|  Mumbai|     Marketing | Event Management|Media Planning Ex...| Not disclosed|Not disclosed|                      5|                     10|\n",
            "|9be62c49a0b7ebe98...| Digital Media Pl...| Not Disclosed by...|             5 - 10 yrs| Media Planning| ...|  Advertising|  Mumbai|   Advertising |      Advertising|Media Planning Ex...| Not disclosed|Not disclosed|                      5|                     10|\n",
            "|9be62c49a0b7ebe98...| Digital Media Pl...| Not Disclosed by...|             5 - 10 yrs| Media Planning| ...|  Advertising|  Mumbai|   Advertising |               PR|Media Planning Ex...| Not disclosed|Not disclosed|                      5|                     10|\n",
            "|9be62c49a0b7ebe98...| Digital Media Pl...| Not Disclosed by...|             5 - 10 yrs| Media Planning| ...|  Advertising|  Mumbai|   Advertising |               MR|Media Planning Ex...| Not disclosed|Not disclosed|                      5|                     10|\n",
            "|9be62c49a0b7ebe98...| Digital Media Pl...| Not Disclosed by...|             5 - 10 yrs| Media Planning| ...|  Advertising|  Mumbai|   Advertising | Event Management|Media Planning Ex...| Not disclosed|Not disclosed|                      5|                     10|\n",
            "|9be62c49a0b7ebe98...| Digital Media Pl...| Not Disclosed by...|             5 - 10 yrs| Media Planning| ...|  Advertising|  Mumbai|            MR |      Advertising|Media Planning Ex...| Not disclosed|Not disclosed|                      5|                     10|\n",
            "|9be62c49a0b7ebe98...| Digital Media Pl...| Not Disclosed by...|             5 - 10 yrs| Media Planning| ...|  Advertising|  Mumbai|            MR |               PR|Media Planning Ex...| Not disclosed|Not disclosed|                      5|                     10|\n",
            "|9be62c49a0b7ebe98...| Digital Media Pl...| Not Disclosed by...|             5 - 10 yrs| Media Planning| ...|  Advertising|  Mumbai|            MR |               MR|Media Planning Ex...| Not disclosed|Not disclosed|                      5|                     10|\n",
            "|9be62c49a0b7ebe98...| Digital Media Pl...| Not Disclosed by...|             5 - 10 yrs| Media Planning| ...|  Advertising|  Mumbai|            MR | Event Management|Media Planning Ex...| Not disclosed|Not disclosed|                      5|                     10|\n",
            "|9be62c49a0b7ebe98...| Digital Media Pl...| Not Disclosed by...|             5 - 10 yrs| Media Planning| ...|  Advertising|  Mumbai|            PR |      Advertising|Media Planning Ex...| Not disclosed|Not disclosed|                      5|                     10|\n",
            "|9be62c49a0b7ebe98...| Digital Media Pl...| Not Disclosed by...|             5 - 10 yrs| Media Planning| ...|  Advertising|  Mumbai|            PR |               PR|Media Planning Ex...| Not disclosed|Not disclosed|                      5|                     10|\n",
            "|9be62c49a0b7ebe98...| Digital Media Pl...| Not Disclosed by...|             5 - 10 yrs| Media Planning| ...|  Advertising|  Mumbai|            PR |               MR|Media Planning Ex...| Not disclosed|Not disclosed|                      5|                     10|\n",
            "|9be62c49a0b7ebe98...| Digital Media Pl...| Not Disclosed by...|             5 - 10 yrs| Media Planning| ...|  Advertising|  Mumbai|            PR | Event Management|Media Planning Ex...| Not disclosed|Not disclosed|                      5|                     10|\n",
            "|9be62c49a0b7ebe98...| Digital Media Pl...| Not Disclosed by...|             5 - 10 yrs| Media Planning| ...|  Advertising|  Mumbai| Media Planning|      Advertising|Media Planning Ex...| Not disclosed|Not disclosed|                      5|                     10|\n",
            "|9be62c49a0b7ebe98...| Digital Media Pl...| Not Disclosed by...|             5 - 10 yrs| Media Planning| ...|  Advertising|  Mumbai| Media Planning|               PR|Media Planning Ex...| Not disclosed|Not disclosed|                      5|                     10|\n",
            "|9be62c49a0b7ebe98...| Digital Media Pl...| Not Disclosed by...|             5 - 10 yrs| Media Planning| ...|  Advertising|  Mumbai| Media Planning|               MR|Media Planning Ex...| Not disclosed|Not disclosed|                      5|                     10|\n",
            "|9be62c49a0b7ebe98...| Digital Media Pl...| Not Disclosed by...|             5 - 10 yrs| Media Planning| ...|  Advertising|  Mumbai| Media Planning| Event Management|Media Planning Ex...| Not disclosed|Not disclosed|                      5|                     10|\n",
            "+--------------------+--------------------+--------------------+-----------------------+--------------------+-------------+--------+---------------+-----------------+--------------------+--------------+-------------+-----------------------+-----------------------+\n",
            "only showing top 20 rows\n",
            "\n"
          ]
        }
      ],
      "source": [
        "from pyspark.sql.functions import col\n",
        "\n",
        "\n",
        "df = df.filter(\n",
        "    ((col(\"Job Title\") != \"\") |\n",
        "     (col(\"Job Salary\") != \"\") |\n",
        "     (col(\"Job Experience Required\") != \"\") |\n",
        "     (col(\"Key Skills\") != \"\") |\n",
        "     (col(\"Role Category\") != \"\") |\n",
        "     (col(\"Location\") != \"\") |\n",
        "     (col(\"Functional Area\") != \"\") |\n",
        "     (col(\"Industry\") != \"\") |\n",
        "     (col(\"Role\") != \"\") |\n",
        "     (col(\"Highest Salary\") != \"\") |\n",
        "     (col(\"Lowest Salary\") != \"\") |\n",
        "     (col(\"Min Experience Required\") != \"\") |\n",
        "     (col(\"Max Experience Required\") != \"\"))\n",
        ")\n",
        "\n",
        "# Show the filtered DataFrame\n",
        "df.show()"
      ]
    },
    {
      "cell_type": "code",
      "execution_count": null,
      "metadata": {
        "id": "ACOfzwJsdVk8"
      },
      "outputs": [],
      "source": [
        "# prompt: download df as csv\n",
        "# Write DataFrame to a CSV file\n",
        "df.write.csv(\"/content/job_data.csv\", header=True, mode=\"overwrite\")\n"
      ]
    },
    {
      "cell_type": "code",
      "execution_count": null,
      "metadata": {
        "colab": {
          "base_uri": "https://localhost:8080/",
          "height": 1000
        },
        "id": "gBUwzLudWg2N",
        "outputId": "5890193e-95d5-4940-ad18-e7f83ea27885"
      },
      "outputs": [
        {
          "ename": "AnalysisException",
          "evalue": "[DATATYPE_MISMATCH.UNEXPECTED_INPUT_TYPE] Cannot resolve \"split(Key Skills, \\|, -1)\" due to data type mismatch: Parameter 1 requires the \"STRING\" type, however \"Key Skills\" has the type \"ARRAY<STRING>\".;\n'Project [Uniq Id#7791, Job Title#8189, Job Salary#7794, Job Experience Required#7795, split(Key Skills#9454, \\|, -1) AS Key Skills#9472, Role Category#7797, Location#8741, Functional Area#9027, Industry#9133, Role#7801, Highest Salary#9238, Lowest Salary#9253, Min Experience Required#8567, Max Experience Required#8568]\n+- Project [Uniq Id#7791, Job Title#8189, Job Salary#7794, Job Experience Required#7795, split(Key Skills#7796, \\|, -1) AS Key Skills#9454, Role Category#7797, Location#8741, Functional Area#9027, Industry#9133, Role#7801, Highest Salary#9238, Lowest Salary#9253, Min Experience Required#8567, Max Experience Required#8568]\n   +- Filter ((((((((((((NOT (Job Title#8189 = ) OR NOT (Job Salary#7794 = )) OR NOT (Job Experience Required#7795 = )) OR NOT (Key Skills#7796 = )) OR NOT (Role Category#7797 = )) OR NOT (Location#8741 = )) OR NOT (Functional Area#9027 = )) OR NOT (Industry#9133 = )) OR NOT (Role#7801 = )) OR NOT (Highest Salary#9238 = )) OR NOT (Lowest Salary#9253 = )) OR NOT (Min Experience Required#8567 = )) OR NOT (Max Experience Required#8568 = ))\n      +- Project [Uniq Id#7791, Job Title#8189, Job Salary#7794, Job Experience Required#7795, Key Skills#7796, Role Category#7797, Location#8741, Functional Area#9027, Industry#9133, Role#7801, Highest Salary#9238, CASE WHEN (Lowest Salary#8399 = ) THEN Not disclosed ELSE Lowest Salary#8399 END AS Lowest Salary#9253, Min Experience Required#8567, Max Experience Required#8568]\n         +- Project [Uniq Id#7791, Job Title#8189, Job Salary#7794, Job Experience Required#7795, Key Skills#7796, Role Category#7797, Location#8741, Functional Area#9027, Industry#9133, Role#7801, CASE WHEN (Highest Salary#8398 = ) THEN Not disclosed ELSE Highest Salary#8398 END AS Highest Salary#9238, Lowest Salary#8399, Min Experience Required#8567, Max Experience Required#8568]\n            +- Project [Uniq Id#7791, Job Title#8189, Job Salary#7794, Job Experience Required#7795, Key Skills#7796, Role Category#7797, Location#8741, Functional Area#9027, Industry#9133, Role#7801, Highest Salary#8398, Lowest Salary#8399, Min Experience Required#8567, Max Experience Required#8568]\n               +- Generate explode(split(Industry#7800, ,, -1)), false, [Industry#9133]\n                  +- Project [Uniq Id#7791, Job Title#8189, Job Salary#7794, Job Experience Required#7795, Key Skills#7796, Role Category#7797, Location#8741, Functional Area#9027, Industry#7800, Role#7801, Highest Salary#8398, Lowest Salary#8399, Min Experience Required#8567, Max Experience Required#8568]\n                     +- Generate explode(split(Functional Area#7799, ,, -1)), false, [Functional Area#9027]\n                        +- Filter ((((((((((((NOT (Job Title#8189 = ) OR NOT (Job Salary#7794 = )) OR NOT (Job Experience Required#7795 = )) OR NOT (Key Skills#7796 = )) OR NOT (Role Category#7797 = )) OR NOT (Location#8741 = )) OR NOT (Functional Area#7799 = )) OR NOT (Industry#7800 = )) OR NOT (Role#7801 = )) OR NOT (Highest Salary#8398 =  )) OR NOT (Lowest Salary#8399 =  )) OR NOT (Min Experience Required#8567 = )) OR NOT (Max Experience Required#8568 = ))\n                           +- Filter ((((((((((((NOT (Job Title#8189 = ) OR NOT (Job Salary#7794 = )) OR NOT (Job Experience Required#7795 = )) OR NOT (Key Skills#7796 = )) OR NOT (Role Category#7797 = )) OR NOT (Location#8741 = )) OR NOT (Functional Area#7799 = )) OR NOT (Industry#7800 = )) OR NOT (Role#7801 = )) OR NOT (Highest Salary#8398 = )) OR NOT (Lowest Salary#8399 = )) OR NOT (Min Experience Required#8567 = )) OR NOT (Max Experience Required#8568 = ))\n                              +- Project [Uniq Id#7791, Job Title#8189, Job Salary#7794, Job Experience Required#7795, Key Skills#7796, Role Category#7797, Location#8741, Functional Area#7799, Industry#7800, Role#7801, Highest Salary#8398, Lowest Salary#8399, Min Experience Required#8567, Max Experience Required#8568]\n                                 +- Generate explode(split(Location#7798, ,, -1)), false, [Location#8741]\n                                    +- Project [Uniq Id#7791, Job Title#8189, Job Salary#7794, Job Experience Required#7795, Key Skills#7796, Role Category#7797, Location#7798, Functional Area#7799, Industry#7800, Role#7801, Highest Salary#8398, Lowest Salary#8399, Min Experience Required#8567, Max Experience Required#8568]\n                                       +- Join LeftOuter, (Uniq Id#7791 = Uniq Id#8596)\n                                          :- Project [Uniq Id#7791, Job Title#8189, Job Salary#7794, Job Experience Required#7795, Key Skills#7796, Role Category#7797, Location#7798, Functional Area#7799, Industry#7800, Role#7801, Highest Salary#8398, Lowest Salary#8399]\n                                          :  +- Join LeftOuter, (Uniq Id#7791 = Uniq Id#8472)\n                                          :     :- Project [Uniq Id#7791, Job Title#8189, Job Salary#7794, Job Experience Required#7795, Key Skills#7796, Role Category#7797, Location#7798, Functional Area#7799, Industry#7800, Role#7801]\n                                          :     :  +- Project [Uniq Id#7791, Job Title#8189, Job Salary#7794, Job Experience Required#7795, Key Skills#7796, Role Category#7797, Location#7798, Functional Area#7799, Industry#7800, Role#7801, Highest Salary#8252, split(Job Salary#7794,  - , -1)[0] AS Lowest Salary#8264]\n                                          :     :     +- Project [Uniq Id#7791, Job Title#8189, Job Salary#7794, Job Experience Required#7795, Key Skills#7796, Role Category#7797, Location#7798, Functional Area#7799, Industry#7800, Role#7801, split(Job Salary#7794,  - , -1)[1] AS Highest Salary#8252]\n                                          :     :        +- Project [Uniq Id#7791, Job Title#8189, Job Salary#7794, Job Experience Required#7795, Key Skills#7796, Role Category#7797, Location#7798, Functional Area#7799, Industry#7800, Role#7801]\n                                          :     :           +- Generate explode(split(Job Title#7793, /, -1)), false, [Job Title#8189]\n                                          :     :              +- Project [Uniq Id#7791, Job Title#7793, Job Salary#7794, Job Experience Required#7795, Key Skills#7796, Role Category#7797, Location#7798, Functional Area#7799, Industry#7800, Role#7801]\n                                          :     :                 +- Filter (NOT (Uniq Id#7791 = ) AND ((((((((NOT (Job Title#7793 = ) OR NOT (Job Salary#7794 = )) OR NOT (Job Experience Required#7795 = )) OR NOT (Key Skills#7796 = )) OR NOT (Role Category#7797 = )) OR NOT (Location#7798 = )) OR NOT (Functional Area#7799 = )) OR NOT (Industry#7800 = )) OR NOT (Role#7801 = )))\n                                          :     :                    +- Filter atleastnnonnulls(11, Uniq Id#7791, Crawl Timestamp#7792, Job Title#7793, Job Salary#7794, Job Experience Required#7795, Key Skills#7796, Role Category#7797, Location#7798, Functional Area#7799, Industry#7800, Role#7801)\n                                          :     :                       +- Relation [Uniq Id#7791,Crawl Timestamp#7792,Job Title#7793,Job Salary#7794,Job Experience Required#7795,Key Skills#7796,Role Category#7797,Location#7798,Functional Area#7799,Industry#7800,Role#7801] csv\n                                          :     +- Project [Uniq Id#8472, regexp_extract(Job Salary#8475, (\\d{1,2},\\d{2},000) - (\\d{1,2},\\d{2},000) PA., 1) AS Highest Salary#8398, regexp_extract(Job Salary#8475, (\\d{1,2},\\d{2},000) - (\\d{1,2},\\d{2},000) PA., 2) AS Lowest Salary#8399]\n                                          :        +- Project [Uniq Id#8472, Job Title#8189, Job Salary#8475, Job Experience Required#8476, Key Skills#8477, Role Category#8478, Location#8479, Functional Area#8480, Industry#8481, Role#8482]\n                                          :           +- Project [Uniq Id#8472, Job Title#8189, Job Salary#8475, Job Experience Required#8476, Key Skills#8477, Role Category#8478, Location#8479, Functional Area#8480, Industry#8481, Role#8482, Highest Salary#8252, split(Job Salary#8475,  - , -1)[0] AS Lowest Salary#8264]\n                                          :              +- Project [Uniq Id#8472, Job Title#8189, Job Salary#8475, Job Experience Required#8476, Key Skills#8477, Role Category#8478, Location#8479, Functional Area#8480, Industry#8481, Role#8482, split(Job Salary#8475,  - , -1)[1] AS Highest Salary#8252]\n                                          :                 +- Project [Uniq Id#8472, Job Title#8189, Job Salary#8475, Job Experience Required#8476, Key Skills#8477, Role Category#8478, Location#8479, Functional Area#8480, Industry#8481, Role#8482]\n                                          :                    +- Generate explode(split(Job Title#8474, /, -1)), false, [Job Title#8189]\n                                          :                       +- Project [Uniq Id#8472, Job Title#8474, Job Salary#8475, Job Experience Required#8476, Key Skills#8477, Role Category#8478, Location#8479, Functional Area#8480, Industry#8481, Role#8482]\n                                          :                          +- Filter (NOT (Uniq Id#8472 = ) AND ((((((((NOT (Job Title#8474 = ) OR NOT (Job Salary#8475 = )) OR NOT (Job Experience Required#8476 = )) OR NOT (Key Skills#8477 = )) OR NOT (Role Category#8478 = )) OR NOT (Location#8479 = )) OR NOT (Functional Area#8480 = )) OR NOT (Industry#8481 = )) OR NOT (Role#8482 = )))\n                                          :                             +- Filter atleastnnonnulls(11, Uniq Id#8472, Crawl Timestamp#8473, Job Title#8474, Job Salary#8475, Job Experience Required#8476, Key Skills#8477, Role Category#8478, Location#8479, Functional Area#8480, Industry#8481, Role#8482)\n                                          :                                +- Relation [Uniq Id#8472,Crawl Timestamp#8473,Job Title#8474,Job Salary#8475,Job Experience Required#8476,Key Skills#8477,Role Category#8478,Location#8479,Functional Area#8480,Industry#8481,Role#8482] csv\n                                          +- Project [Uniq Id#8596, regexp_extract(Job Experience Required#8600, (\\d+) - (\\d+) yrs, 1) AS Min Experience Required#8567, regexp_extract(Job Experience Required#8600, (\\d+) - (\\d+) yrs, 2) AS Max Experience Required#8568]\n                                             +- Project [Uniq Id#8596, Job Title#8189, Job Salary#8599, Job Experience Required#8600, Key Skills#8601, Role Category#8602, Location#8603, Functional Area#8604, Industry#8605, Role#8606]\n                                                +- Project [Uniq Id#8596, Job Title#8189, Job Salary#8599, Job Experience Required#8600, Key Skills#8601, Role Category#8602, Location#8603, Functional Area#8604, Industry#8605, Role#8606, Highest Salary#8252, split(Job Salary#8599,  - , -1)[0] AS Lowest Salary#8264]\n                                                   +- Project [Uniq Id#8596, Job Title#8189, Job Salary#8599, Job Experience Required#8600, Key Skills#8601, Role Category#8602, Location#8603, Functional Area#8604, Industry#8605, Role#8606, split(Job Salary#8599,  - , -1)[1] AS Highest Salary#8252]\n                                                      +- Project [Uniq Id#8596, Job Title#8189, Job Salary#8599, Job Experience Required#8600, Key Skills#8601, Role Category#8602, Location#8603, Functional Area#8604, Industry#8605, Role#8606]\n                                                         +- Generate explode(split(Job Title#8598, /, -1)), false, [Job Title#8189]\n                                                            +- Project [Uniq Id#8596, Job Title#8598, Job Salary#8599, Job Experience Required#8600, Key Skills#8601, Role Category#8602, Location#8603, Functional Area#8604, Industry#8605, Role#8606]\n                                                               +- Filter (NOT (Uniq Id#8596 = ) AND ((((((((NOT (Job Title#8598 = ) OR NOT (Job Salary#8599 = )) OR NOT (Job Experience Required#8600 = )) OR NOT (Key Skills#8601 = )) OR NOT (Role Category#8602 = )) OR NOT (Location#8603 = )) OR NOT (Functional Area#8604 = )) OR NOT (Industry#8605 = )) OR NOT (Role#8606 = )))\n                                                                  +- Filter atleastnnonnulls(11, Uniq Id#8596, Crawl Timestamp#8597, Job Title#8598, Job Salary#8599, Job Experience Required#8600, Key Skills#8601, Role Category#8602, Location#8603, Functional Area#8604, Industry#8605, Role#8606)\n                                                                     +- Relation [Uniq Id#8596,Crawl Timestamp#8597,Job Title#8598,Job Salary#8599,Job Experience Required#8600,Key Skills#8601,Role Category#8602,Location#8603,Functional Area#8604,Industry#8605,Role#8606] csv\n",
          "output_type": "error",
          "traceback": [
            "\u001b[0;31m---------------------------------------------------------------------------\u001b[0m",
            "\u001b[0;31mAnalysisException\u001b[0m                         Traceback (most recent call last)",
            "\u001b[0;32m<ipython-input-286-1abfc75927f6>\u001b[0m in \u001b[0;36m<cell line: 4>\u001b[0;34m()\u001b[0m\n\u001b[1;32m      2\u001b[0m \u001b[0;34m\u001b[0m\u001b[0m\n\u001b[1;32m      3\u001b[0m \u001b[0;31m# Split the \"Key Skills\" column into an array based on the delimiter \"|\"\u001b[0m\u001b[0;34m\u001b[0m\u001b[0;34m\u001b[0m\u001b[0m\n\u001b[0;32m----> 4\u001b[0;31m \u001b[0mdf\u001b[0m \u001b[0;34m=\u001b[0m \u001b[0mdf\u001b[0m\u001b[0;34m.\u001b[0m\u001b[0mwithColumn\u001b[0m\u001b[0;34m(\u001b[0m\u001b[0;34m\"Key Skills\"\u001b[0m\u001b[0;34m,\u001b[0m \u001b[0msplit\u001b[0m\u001b[0;34m(\u001b[0m\u001b[0mdf\u001b[0m\u001b[0;34m[\u001b[0m\u001b[0;34m\"Key Skills\"\u001b[0m\u001b[0;34m]\u001b[0m\u001b[0;34m,\u001b[0m \u001b[0;34m\"\\\\|\"\u001b[0m\u001b[0;34m)\u001b[0m\u001b[0;34m)\u001b[0m\u001b[0;34m\u001b[0m\u001b[0;34m\u001b[0m\u001b[0m\n\u001b[0m\u001b[1;32m      5\u001b[0m \u001b[0;34m\u001b[0m\u001b[0m\n\u001b[1;32m      6\u001b[0m \u001b[0;31m# Explode the array elements while maintaining their position\u001b[0m\u001b[0;34m\u001b[0m\u001b[0;34m\u001b[0m\u001b[0m\n",
            "\u001b[0;32m/usr/local/lib/python3.10/dist-packages/pyspark/sql/dataframe.py\u001b[0m in \u001b[0;36mwithColumn\u001b[0;34m(self, colName, col)\u001b[0m\n\u001b[1;32m   5172\u001b[0m                 \u001b[0mmessage_parameters\u001b[0m\u001b[0;34m=\u001b[0m\u001b[0;34m{\u001b[0m\u001b[0;34m\"arg_name\"\u001b[0m\u001b[0;34m:\u001b[0m \u001b[0;34m\"col\"\u001b[0m\u001b[0;34m,\u001b[0m \u001b[0;34m\"arg_type\"\u001b[0m\u001b[0;34m:\u001b[0m \u001b[0mtype\u001b[0m\u001b[0;34m(\u001b[0m\u001b[0mcol\u001b[0m\u001b[0;34m)\u001b[0m\u001b[0;34m.\u001b[0m\u001b[0m__name__\u001b[0m\u001b[0;34m}\u001b[0m\u001b[0;34m,\u001b[0m\u001b[0;34m\u001b[0m\u001b[0;34m\u001b[0m\u001b[0m\n\u001b[1;32m   5173\u001b[0m             )\n\u001b[0;32m-> 5174\u001b[0;31m         \u001b[0;32mreturn\u001b[0m \u001b[0mDataFrame\u001b[0m\u001b[0;34m(\u001b[0m\u001b[0mself\u001b[0m\u001b[0;34m.\u001b[0m\u001b[0m_jdf\u001b[0m\u001b[0;34m.\u001b[0m\u001b[0mwithColumn\u001b[0m\u001b[0;34m(\u001b[0m\u001b[0mcolName\u001b[0m\u001b[0;34m,\u001b[0m \u001b[0mcol\u001b[0m\u001b[0;34m.\u001b[0m\u001b[0m_jc\u001b[0m\u001b[0;34m)\u001b[0m\u001b[0;34m,\u001b[0m \u001b[0mself\u001b[0m\u001b[0;34m.\u001b[0m\u001b[0msparkSession\u001b[0m\u001b[0;34m)\u001b[0m\u001b[0;34m\u001b[0m\u001b[0;34m\u001b[0m\u001b[0m\n\u001b[0m\u001b[1;32m   5175\u001b[0m \u001b[0;34m\u001b[0m\u001b[0m\n\u001b[1;32m   5176\u001b[0m     \u001b[0;32mdef\u001b[0m \u001b[0mwithColumnRenamed\u001b[0m\u001b[0;34m(\u001b[0m\u001b[0mself\u001b[0m\u001b[0;34m,\u001b[0m \u001b[0mexisting\u001b[0m\u001b[0;34m:\u001b[0m \u001b[0mstr\u001b[0m\u001b[0;34m,\u001b[0m \u001b[0mnew\u001b[0m\u001b[0;34m:\u001b[0m \u001b[0mstr\u001b[0m\u001b[0;34m)\u001b[0m \u001b[0;34m->\u001b[0m \u001b[0;34m\"DataFrame\"\u001b[0m\u001b[0;34m:\u001b[0m\u001b[0;34m\u001b[0m\u001b[0;34m\u001b[0m\u001b[0m\n",
            "\u001b[0;32m/usr/local/lib/python3.10/dist-packages/py4j/java_gateway.py\u001b[0m in \u001b[0;36m__call__\u001b[0;34m(self, *args)\u001b[0m\n\u001b[1;32m   1320\u001b[0m \u001b[0;34m\u001b[0m\u001b[0m\n\u001b[1;32m   1321\u001b[0m         \u001b[0manswer\u001b[0m \u001b[0;34m=\u001b[0m \u001b[0mself\u001b[0m\u001b[0;34m.\u001b[0m\u001b[0mgateway_client\u001b[0m\u001b[0;34m.\u001b[0m\u001b[0msend_command\u001b[0m\u001b[0;34m(\u001b[0m\u001b[0mcommand\u001b[0m\u001b[0;34m)\u001b[0m\u001b[0;34m\u001b[0m\u001b[0;34m\u001b[0m\u001b[0m\n\u001b[0;32m-> 1322\u001b[0;31m         return_value = get_return_value(\n\u001b[0m\u001b[1;32m   1323\u001b[0m             answer, self.gateway_client, self.target_id, self.name)\n\u001b[1;32m   1324\u001b[0m \u001b[0;34m\u001b[0m\u001b[0m\n",
            "\u001b[0;32m/usr/local/lib/python3.10/dist-packages/pyspark/errors/exceptions/captured.py\u001b[0m in \u001b[0;36mdeco\u001b[0;34m(*a, **kw)\u001b[0m\n\u001b[1;32m    183\u001b[0m                 \u001b[0;31m# Hide where the exception came from that shows a non-Pythonic\u001b[0m\u001b[0;34m\u001b[0m\u001b[0;34m\u001b[0m\u001b[0m\n\u001b[1;32m    184\u001b[0m                 \u001b[0;31m# JVM exception message.\u001b[0m\u001b[0;34m\u001b[0m\u001b[0;34m\u001b[0m\u001b[0m\n\u001b[0;32m--> 185\u001b[0;31m                 \u001b[0;32mraise\u001b[0m \u001b[0mconverted\u001b[0m \u001b[0;32mfrom\u001b[0m \u001b[0;32mNone\u001b[0m\u001b[0;34m\u001b[0m\u001b[0;34m\u001b[0m\u001b[0m\n\u001b[0m\u001b[1;32m    186\u001b[0m             \u001b[0;32melse\u001b[0m\u001b[0;34m:\u001b[0m\u001b[0;34m\u001b[0m\u001b[0;34m\u001b[0m\u001b[0m\n\u001b[1;32m    187\u001b[0m                 \u001b[0;32mraise\u001b[0m\u001b[0;34m\u001b[0m\u001b[0;34m\u001b[0m\u001b[0m\n",
            "\u001b[0;31mAnalysisException\u001b[0m: [DATATYPE_MISMATCH.UNEXPECTED_INPUT_TYPE] Cannot resolve \"split(Key Skills, \\|, -1)\" due to data type mismatch: Parameter 1 requires the \"STRING\" type, however \"Key Skills\" has the type \"ARRAY<STRING>\".;\n'Project [Uniq Id#7791, Job Title#8189, Job Salary#7794, Job Experience Required#7795, split(Key Skills#9454, \\|, -1) AS Key Skills#9472, Role Category#7797, Location#8741, Functional Area#9027, Industry#9133, Role#7801, Highest Salary#9238, Lowest Salary#9253, Min Experience Required#8567, Max Experience Required#8568]\n+- Project [Uniq Id#7791, Job Title#8189, Job Salary#7794, Job Experience Required#7795, split(Key Skills#7796, \\|, -1) AS Key Skills#9454, Role Category#7797, Location#8741, Functional Area#9027, Industry#9133, Role#7801, Highest Salary#9238, Lowest Salary#9253, Min Experience Required#8567, Max Experience Required#8568]\n   +- Filter ((((((((((((NOT (Job Title#8189 = ) OR NOT (Job Salary#7794 = )) OR NOT (Job Experience Required#7795 = )) OR NOT (Key Skills#7796 = )) OR NOT (Role Category#7797 = )) OR NOT (Location#8741 = )) OR NOT (Functional Area#9027 = )) OR NOT (Industry#9133 = )) OR NOT (Role#7801 = )) OR NOT (Highest Salary#9238 = )) OR NOT (Lowest Salary#9253 = )) OR NOT (Min Experience Required#8567 = )) OR NOT (Max Experience Required#8568 = ))\n      +- Project [Uniq Id#7791, Job Title#8189, Job Salary#7794, Job Experience Required#7795, Key Skills#7796, Role Category#7797, Location#8741, Functional Area#9027, Industry#9133, Role#7801, Highest Salary#9238, CASE WHEN (Lowest Salary#8399 = ) THEN Not disclosed ELSE Lowest Salary#8399 END AS Lowest Salary#9253, Min Experience Required#8567, Max Experience Required#8568]\n         +- Project [Uniq Id#7791, Job Title#8189, Job Salary#7794, Job Experience Required#7795, Key Skills#7796, Role Category#7797, Location#8741, Functional Area#9027, Industry#9133, Role#7801, CASE WHEN (Highest Salary#8398 = ) THEN Not disclosed ELSE Highest Salary#8398 END AS Highest Salary#9238, Lowest Salary#8399, Min Experience Required#8567, Max Experience Required#8568]\n            +- Project [Uniq Id#7791, Job Title#8189, Job Salary#7794, Job Experience Required#7795, Key Skills#7796, Role Category#7797, Location#8741, Functional Area#9027, Industry#9133, Role#7801, Highest Salary#8398, Lowest Salary#8399, Min Experience Required#8567, Max Experience Required#8568]\n               +- Generate explode(split(Industry#7800, ,, -1)), false, [Industry#9133]\n                  +- Project [Uniq Id#7791, Job Title#8189, Job Salary#7794, Job Experience Required#7795, Key Skills#7796, Role Category#7797, Location#8741, Functional Area#9027, Industry#7800, Role#7801, Highest Salary#8398, Lowest Salary#8399, Min Experience Required#8567, Max Experience Required#8568]\n                     +- Generate explode(split(Functional Area#7799, ,, -1)), false, [Functional Area#9027]\n                        +- Filter ((((((((((((NOT (Job Title#8189 = ) OR NOT (Job Salary#7794 = )) OR NOT (Job Experience Required#7795 = )) OR NOT (Key Skills#7796 = )) OR NOT (Role Category#7797 = )) OR NOT (Location#8741 = )) OR NOT (Functional Area#7799 = )) OR NOT (Industry#7800 = )) OR NOT (Role#7801 = )) OR NOT (Highest Salary#8398 =  )) OR NOT (Lowest Salary#8399 =  )) OR NOT (Min Experience Required#8567 = )) OR NOT (Max Experience Required#8568 = ))\n                           +- Filter ((((((((((((NOT (Job Title#8189 = ) OR NOT (Job Salary#7794 = )) OR NOT (Job Experience Required#7795 = )) OR NOT (Key Skills#7796 = )) OR NOT (Role Category#7797 = )) OR NOT (Location#8741 = )) OR NOT (Functional Area#7799 = )) OR NOT (Industry#7800 = )) OR NOT (Role#7801 = )) OR NOT (Highest Salary#8398 = )) OR NOT (Lowest Salary#8399 = )) OR NOT (Min Experience Required#8567 = )) OR NOT (Max Experience Required#8568 = ))\n                              +- Project [Uniq Id#7791, Job Title#8189, Job Salary#7794, Job Experience Required#7795, Key Skills#7796, Role Category#7797, Location#8741, Functional Area#7799, Industry#7800, Role#7801, Highest Salary#8398, Lowest Salary#8399, Min Experience Required#8567, Max Experience Required#8568]\n                                 +- Generate explode(split(Location#7798, ,, -1)), false, [Location#8741]\n                                    +- Project [Uniq Id#7791, Job Title#8189, Job Salary#7794, Job Experience Required#7795, Key Skills#7796, Role Category#7797, Location#7798, Functional Area#7799, Industry#7800, Role#7801, Highest Salary#8398, Lowest Salary#8399, Min Experience Required#8567, Max Experience Required#8568]\n                                       +- Join LeftOuter, (Uniq Id#7791 = Uniq Id#8596)\n                                          :- Project [Uniq Id#7791, Job Title#8189, Job Salary#7794, Job Experience Required#7795, Key Skills#7796, Role Category#7797, Location#7798, Functional Area#7799, Industry#7800, Role#7801, Highest Salary#8398, Lowest Salary#8399]\n                                          :  +- Join LeftOuter, (Uniq Id#7791 = Uniq Id#8472)\n                                          :     :- Project [Uniq Id#7791, Job Title#8189, Job Salary#7794, Job Experience Required#7795, Key Skills#7796, Role Category#7797, Location#7798, Functional Area#7799, Industry#7800, Role#7801]\n                                          :     :  +- Project [Uniq Id#7791, Job Title#8189, Job Salary#7794, Job Experience Required#7795, Key Skills#7796, Role Category#7797, Location#7798, Functional Area#7799, Industry#7800, Role#7801, Highest Salary#8252, split(Job Salary#7794,  - , -1)[0] AS Lowest Salary#8264]\n                                          :     :     +- Project [Uniq Id#7791, Job Title#8189, Job Salary#7794, Job Experience Required#7795, Key Skills#7796, Role Category#7797, Location#7798, Functional Area#7799, Industry#7800, Role#7801, split(Job Salary#7794,  - , -1)[1] AS Highest Salary#8252]\n                                          :     :        +- Project [Uniq Id#7791, Job Title#8189, Job Salary#7794, Job Experience Required#7795, Key Skills#7796, Role Category#7797, Location#7798, Functional Area#7799, Industry#7800, Role#7801]\n                                          :     :           +- Generate explode(split(Job Title#7793, /, -1)), false, [Job Title#8189]\n                                          :     :              +- Project [Uniq Id#7791, Job Title#7793, Job Salary#7794, Job Experience Required#7795, Key Skills#7796, Role Category#7797, Location#7798, Functional Area#7799, Industry#7800, Role#7801]\n                                          :     :                 +- Filter (NOT (Uniq Id#7791 = ) AND ((((((((NOT (Job Title#7793 = ) OR NOT (Job Salary#7794 = )) OR NOT (Job Experience Required#7795 = )) OR NOT (Key Skills#7796 = )) OR NOT (Role Category#7797 = )) OR NOT (Location#7798 = )) OR NOT (Functional Area#7799 = )) OR NOT (Industry#7800 = )) OR NOT (Role#7801 = )))\n                                          :     :                    +- Filter atleastnnonnulls(11, Uniq Id#7791, Crawl Timestamp#7792, Job Title#7793, Job Salary#7794, Job Experience Required#7795, Key Skills#7796, Role Category#7797, Location#7798, Functional Area#7799, Industry#7800, Role#7801)\n                                          :     :                       +- Relation [Uniq Id#7791,Crawl Timestamp#7792,Job Title#7793,Job Salary#7794,Job Experience Required#7795,Key Skills#7796,Role Category#7797,Location#7798,Functional Area#7799,Industry#7800,Role#7801] csv\n                                          :     +- Project [Uniq Id#8472, regexp_extract(Job Salary#8475, (\\d{1,2},\\d{2},000) - (\\d{1,2},\\d{2},000) PA., 1) AS Highest Salary#8398, regexp_extract(Job Salary#8475, (\\d{1,2},\\d{2},000) - (\\d{1,2},\\d{2},000) PA., 2) AS Lowest Salary#8399]\n                                          :        +- Project [Uniq Id#8472, Job Title#8189, Job Salary#8475, Job Experience Required#8476, Key Skills#8477, Role Category#8478, Location#8479, Functional Area#8480, Industry#8481, Role#8482]\n                                          :           +- Project [Uniq Id#8472, Job Title#8189, Job Salary#8475, Job Experience Required#8476, Key Skills#8477, Role Category#8478, Location#8479, Functional Area#8480, Industry#8481, Role#8482, Highest Salary#8252, split(Job Salary#8475,  - , -1)[0] AS Lowest Salary#8264]\n                                          :              +- Project [Uniq Id#8472, Job Title#8189, Job Salary#8475, Job Experience Required#8476, Key Skills#8477, Role Category#8478, Location#8479, Functional Area#8480, Industry#8481, Role#8482, split(Job Salary#8475,  - , -1)[1] AS Highest Salary#8252]\n                                          :                 +- Project [Uniq Id#8472, Job Title#8189, Job Salary#8475, Job Experience Required#8476, Key Skills#8477, Role Category#8478, Location#8479, Functional Area#8480, Industry#8481, Role#8482]\n                                          :                    +- Generate explode(split(Job Title#8474, /, -1)), false, [Job Title#8189]\n                                          :                       +- Project [Uniq Id#8472, Job Title#8474, Job Salary#8475, Job Experience Required#8476, Key Skills#8477, Role Category#8478, Location#8479, Functional Area#8480, Industry#8481, Role#8482]\n                                          :                          +- Filter (NOT (Uniq Id#8472 = ) AND ((((((((NOT (Job Title#8474 = ) OR NOT (Job Salary#8475 = )) OR NOT (Job Experience Required#8476 = )) OR NOT (Key Skills#8477 = )) OR NOT (Role Category#8478 = )) OR NOT (Location#8479 = )) OR NOT (Functional Area#8480 = )) OR NOT (Industry#8481 = )) OR NOT (Role#8482 = )))\n                                          :                             +- Filter atleastnnonnulls(11, Uniq Id#8472, Crawl Timestamp#8473, Job Title#8474, Job Salary#8475, Job Experience Required#8476, Key Skills#8477, Role Category#8478, Location#8479, Functional Area#8480, Industry#8481, Role#8482)\n                                          :                                +- Relation [Uniq Id#8472,Crawl Timestamp#8473,Job Title#8474,Job Salary#8475,Job Experience Required#8476,Key Skills#8477,Role Category#8478,Location#8479,Functional Area#8480,Industry#8481,Role#8482] csv\n                                          +- Project [Uniq Id#8596, regexp_extract(Job Experience Required#8600, (\\d+) - (\\d+) yrs, 1) AS Min Experience Required#8567, regexp_extract(Job Experience Required#8600, (\\d+) - (\\d+) yrs, 2) AS Max Experience Required#8568]\n                                             +- Project [Uniq Id#8596, Job Title#8189, Job Salary#8599, Job Experience Required#8600, Key Skills#8601, Role Category#8602, Location#8603, Functional Area#8604, Industry#8605, Role#8606]\n                                                +- Project [Uniq Id#8596, Job Title#8189, Job Salary#8599, Job Experience Required#8600, Key Skills#8601, Role Category#8602, Location#8603, Functional Area#8604, Industry#8605, Role#8606, Highest Salary#8252, split(Job Salary#8599,  - , -1)[0] AS Lowest Salary#8264]\n                                                   +- Project [Uniq Id#8596, Job Title#8189, Job Salary#8599, Job Experience Required#8600, Key Skills#8601, Role Category#8602, Location#8603, Functional Area#8604, Industry#8605, Role#8606, split(Job Salary#8599,  - , -1)[1] AS Highest Salary#8252]\n                                                      +- Project [Uniq Id#8596, Job Title#8189, Job Salary#8599, Job Experience Required#8600, Key Skills#8601, Role Category#8602, Location#8603, Functional Area#8604, Industry#8605, Role#8606]\n                                                         +- Generate explode(split(Job Title#8598, /, -1)), false, [Job Title#8189]\n                                                            +- Project [Uniq Id#8596, Job Title#8598, Job Salary#8599, Job Experience Required#8600, Key Skills#8601, Role Category#8602, Location#8603, Functional Area#8604, Industry#8605, Role#8606]\n                                                               +- Filter (NOT (Uniq Id#8596 = ) AND ((((((((NOT (Job Title#8598 = ) OR NOT (Job Salary#8599 = )) OR NOT (Job Experience Required#8600 = )) OR NOT (Key Skills#8601 = )) OR NOT (Role Category#8602 = )) OR NOT (Location#8603 = )) OR NOT (Functional Area#8604 = )) OR NOT (Industry#8605 = )) OR NOT (Role#8606 = )))\n                                                                  +- Filter atleastnnonnulls(11, Uniq Id#8596, Crawl Timestamp#8597, Job Title#8598, Job Salary#8599, Job Experience Required#8600, Key Skills#8601, Role Category#8602, Location#8603, Functional Area#8604, Industry#8605, Role#8606)\n                                                                     +- Relation [Uniq Id#8596,Crawl Timestamp#8597,Job Title#8598,Job Salary#8599,Job Experience Required#8600,Key Skills#8601,Role Category#8602,Location#8603,Functional Area#8604,Industry#8605,Role#8606] csv\n"
          ]
        }
      ],
      "source": [
        "from pyspark.sql.functions import split, posexplode\n",
        "\n",
        "# Split the \"Key Skills\" column into an array based on the delimiter \"|\"\n",
        "df = df.withColumn(\"Key Skills\", split(df[\"Key Skills\"], \"\\\\|\"))\n",
        "\n",
        "# Explode the array elements while maintaining their position\n",
        "df = df.selectExpr(\"*\", \"posexplode(`Key Skills`) as (pos, skill)\")\n",
        "\n",
        "# Filter out odd indices to keep only the skills and remove the indices\n",
        "df = df.filter(df[\"pos\"] % 2 != 0).drop(\"pos\")\n",
        "\n",
        "# Show the DataFrame with split \"Key Skills\"\n",
        "df.show(truncate=False)\n"
      ]
    },
    {
      "cell_type": "code",
      "execution_count": null,
      "metadata": {
        "colab": {
          "base_uri": "https://localhost:8080/"
        },
        "id": "2GEnigF7ccdM",
        "outputId": "b7e58d35-90a3-4b8b-e6c6-b303b3880e7c"
      },
      "outputs": [
        {
          "name": "stdout",
          "output_type": "stream",
          "text": [
            "+--------------------------------+----------------------+----------------------------+-----------------------+---------------------------------+-------------+--------+---------------+-----------------+--------------------------------+--------------+-------------+-----------------------+-----------------------+--------------+\n",
            "|Uniq Id                         |Job Title             |Job Salary                  |Job Experience Required|Key Skills                       |Role Category|Location|Functional Area|Industry         |Role                            |Highest Salary|Lowest Salary|Min Experience Required|Max Experience Required|skill         |\n",
            "+--------------------------------+----------------------+----------------------------+-----------------------+---------------------------------+-------------+--------+---------------+-----------------+--------------------------------+--------------+-------------+-----------------------+-----------------------+--------------+\n",
            "|9be62c49a0b7ebe982a4af1edaa7bc5f| Digital Media Planner| Not Disclosed by Recruiter |5 - 10 yrs             |[ Media Planning,  Digital Media]|Advertising  |Mumbai  |Marketing      |Advertising      |Media Planning Executive/Manager|Not disclosed |Not disclosed|5                      |10                     | Digital Media|\n",
            "|9be62c49a0b7ebe982a4af1edaa7bc5f| Digital Media Planner| Not Disclosed by Recruiter |5 - 10 yrs             |[ Media Planning,  Digital Media]|Advertising  |Mumbai  |Marketing      | PR              |Media Planning Executive/Manager|Not disclosed |Not disclosed|5                      |10                     | Digital Media|\n",
            "|9be62c49a0b7ebe982a4af1edaa7bc5f| Digital Media Planner| Not Disclosed by Recruiter |5 - 10 yrs             |[ Media Planning,  Digital Media]|Advertising  |Mumbai  |Marketing      | MR              |Media Planning Executive/Manager|Not disclosed |Not disclosed|5                      |10                     | Digital Media|\n",
            "|9be62c49a0b7ebe982a4af1edaa7bc5f| Digital Media Planner| Not Disclosed by Recruiter |5 - 10 yrs             |[ Media Planning,  Digital Media]|Advertising  |Mumbai  |Marketing      | Event Management|Media Planning Executive/Manager|Not disclosed |Not disclosed|5                      |10                     | Digital Media|\n",
            "|9be62c49a0b7ebe982a4af1edaa7bc5f| Digital Media Planner| Not Disclosed by Recruiter |5 - 10 yrs             |[ Media Planning,  Digital Media]|Advertising  |Mumbai  | Advertising   |Advertising      |Media Planning Executive/Manager|Not disclosed |Not disclosed|5                      |10                     | Digital Media|\n",
            "|9be62c49a0b7ebe982a4af1edaa7bc5f| Digital Media Planner| Not Disclosed by Recruiter |5 - 10 yrs             |[ Media Planning,  Digital Media]|Advertising  |Mumbai  | Advertising   | PR              |Media Planning Executive/Manager|Not disclosed |Not disclosed|5                      |10                     | Digital Media|\n",
            "|9be62c49a0b7ebe982a4af1edaa7bc5f| Digital Media Planner| Not Disclosed by Recruiter |5 - 10 yrs             |[ Media Planning,  Digital Media]|Advertising  |Mumbai  | Advertising   | MR              |Media Planning Executive/Manager|Not disclosed |Not disclosed|5                      |10                     | Digital Media|\n",
            "|9be62c49a0b7ebe982a4af1edaa7bc5f| Digital Media Planner| Not Disclosed by Recruiter |5 - 10 yrs             |[ Media Planning,  Digital Media]|Advertising  |Mumbai  | Advertising   | Event Management|Media Planning Executive/Manager|Not disclosed |Not disclosed|5                      |10                     | Digital Media|\n",
            "|9be62c49a0b7ebe982a4af1edaa7bc5f| Digital Media Planner| Not Disclosed by Recruiter |5 - 10 yrs             |[ Media Planning,  Digital Media]|Advertising  |Mumbai  | MR            |Advertising      |Media Planning Executive/Manager|Not disclosed |Not disclosed|5                      |10                     | Digital Media|\n",
            "|9be62c49a0b7ebe982a4af1edaa7bc5f| Digital Media Planner| Not Disclosed by Recruiter |5 - 10 yrs             |[ Media Planning,  Digital Media]|Advertising  |Mumbai  | MR            | PR              |Media Planning Executive/Manager|Not disclosed |Not disclosed|5                      |10                     | Digital Media|\n",
            "|9be62c49a0b7ebe982a4af1edaa7bc5f| Digital Media Planner| Not Disclosed by Recruiter |5 - 10 yrs             |[ Media Planning,  Digital Media]|Advertising  |Mumbai  | MR            | MR              |Media Planning Executive/Manager|Not disclosed |Not disclosed|5                      |10                     | Digital Media|\n",
            "|9be62c49a0b7ebe982a4af1edaa7bc5f| Digital Media Planner| Not Disclosed by Recruiter |5 - 10 yrs             |[ Media Planning,  Digital Media]|Advertising  |Mumbai  | MR            | Event Management|Media Planning Executive/Manager|Not disclosed |Not disclosed|5                      |10                     | Digital Media|\n",
            "|9be62c49a0b7ebe982a4af1edaa7bc5f| Digital Media Planner| Not Disclosed by Recruiter |5 - 10 yrs             |[ Media Planning,  Digital Media]|Advertising  |Mumbai  | PR            |Advertising      |Media Planning Executive/Manager|Not disclosed |Not disclosed|5                      |10                     | Digital Media|\n",
            "|9be62c49a0b7ebe982a4af1edaa7bc5f| Digital Media Planner| Not Disclosed by Recruiter |5 - 10 yrs             |[ Media Planning,  Digital Media]|Advertising  |Mumbai  | PR            | PR              |Media Planning Executive/Manager|Not disclosed |Not disclosed|5                      |10                     | Digital Media|\n",
            "|9be62c49a0b7ebe982a4af1edaa7bc5f| Digital Media Planner| Not Disclosed by Recruiter |5 - 10 yrs             |[ Media Planning,  Digital Media]|Advertising  |Mumbai  | PR            | MR              |Media Planning Executive/Manager|Not disclosed |Not disclosed|5                      |10                     | Digital Media|\n",
            "|9be62c49a0b7ebe982a4af1edaa7bc5f| Digital Media Planner| Not Disclosed by Recruiter |5 - 10 yrs             |[ Media Planning,  Digital Media]|Advertising  |Mumbai  | PR            | Event Management|Media Planning Executive/Manager|Not disclosed |Not disclosed|5                      |10                     | Digital Media|\n",
            "|9be62c49a0b7ebe982a4af1edaa7bc5f| Digital Media Planner| Not Disclosed by Recruiter |5 - 10 yrs             |[ Media Planning,  Digital Media]|Advertising  |Mumbai  | Media Planning|Advertising      |Media Planning Executive/Manager|Not disclosed |Not disclosed|5                      |10                     | Digital Media|\n",
            "|9be62c49a0b7ebe982a4af1edaa7bc5f| Digital Media Planner| Not Disclosed by Recruiter |5 - 10 yrs             |[ Media Planning,  Digital Media]|Advertising  |Mumbai  | Media Planning| PR              |Media Planning Executive/Manager|Not disclosed |Not disclosed|5                      |10                     | Digital Media|\n",
            "|9be62c49a0b7ebe982a4af1edaa7bc5f| Digital Media Planner| Not Disclosed by Recruiter |5 - 10 yrs             |[ Media Planning,  Digital Media]|Advertising  |Mumbai  | Media Planning| MR              |Media Planning Executive/Manager|Not disclosed |Not disclosed|5                      |10                     | Digital Media|\n",
            "|9be62c49a0b7ebe982a4af1edaa7bc5f| Digital Media Planner| Not Disclosed by Recruiter |5 - 10 yrs             |[ Media Planning,  Digital Media]|Advertising  |Mumbai  | Media Planning| Event Management|Media Planning Executive/Manager|Not disclosed |Not disclosed|5                      |10                     | Digital Media|\n",
            "+--------------------------------+----------------------+----------------------------+-----------------------+---------------------------------+-------------+--------+---------------+-----------------+--------------------------------+--------------+-------------+-----------------------+-----------------------+--------------+\n",
            "only showing top 20 rows\n",
            "\n"
          ]
        }
      ],
      "source": [
        "# Explode the array elements while maintaining their position\n",
        "df = df.selectExpr(\"*\", \"posexplode(`Key Skills`) as (pos, skill)\")\n",
        "\n",
        "# Filter out odd indices to keep only the skills and remove the indices\n",
        "df = df.filter(df[\"pos\"] % 2 != 0).drop(\"pos\")\n",
        "\n",
        "# Show the DataFrame with split \"Key Skills\"\n",
        "df.show(truncate=False)"
      ]
    },
    {
      "cell_type": "code",
      "execution_count": null,
      "metadata": {
        "colab": {
          "base_uri": "https://localhost:8080/"
        },
        "id": "hCcYt9kkWjdI",
        "outputId": "2c7cb14f-2fb3-475c-beb4-c4a41a37a32f"
      },
      "outputs": [
        {
          "name": "stdout",
          "output_type": "stream",
          "text": [
            "root\n",
            " |-- Uniq Id: string (nullable = true)\n",
            " |-- Job Title: string (nullable = false)\n",
            " |-- Job Salary: string (nullable = true)\n",
            " |-- Job Experience Required: string (nullable = true)\n",
            " |-- Key Skills: string (nullable = false)\n",
            " |-- Role Category: string (nullable = true)\n",
            " |-- Location: string (nullable = false)\n",
            " |-- Functional Area: string (nullable = false)\n",
            " |-- Industry: string (nullable = false)\n",
            " |-- Role: string (nullable = true)\n",
            " |-- Highest Salary: string (nullable = true)\n",
            " |-- Lowest Salary: string (nullable = true)\n",
            " |-- Highest Salary: string (nullable = true)\n",
            " |-- Lowest Salary: string (nullable = true)\n",
            " |-- Min Experience Required: string (nullable = true)\n",
            " |-- Max Experience Required: string (nullable = true)\n",
            "\n"
          ]
        }
      ],
      "source": [
        "df.printSchema()"
      ]
    },
    {
      "cell_type": "code",
      "execution_count": null,
      "metadata": {
        "colab": {
          "base_uri": "https://localhost:8080/"
        },
        "id": "1n-Imw06Wsc9",
        "outputId": "a49786dd-9479-49cd-8e4b-cb21c1d720d1"
      },
      "outputs": [
        {
          "name": "stdout",
          "output_type": "stream",
          "text": [
            "+--------------------------------+----------------------+----------------------------+-----------------------+---------------------------------+-------------+--------+---------------+-----------------+--------------------------------+--------------+-------------+-----------------------+-----------------------+\n",
            "|Uniq Id                         |Job Title             |Job Salary                  |Job Experience Required|Key Skills                       |Role Category|Location|Functional Area|Industry         |Role                            |Highest Salary|Lowest Salary|Min Experience Required|Max Experience Required|\n",
            "+--------------------------------+----------------------+----------------------------+-----------------------+---------------------------------+-------------+--------+---------------+-----------------+--------------------------------+--------------+-------------+-----------------------+-----------------------+\n",
            "|9be62c49a0b7ebe982a4af1edaa7bc5f| Digital Media Planner| Not Disclosed by Recruiter |5 - 10 yrs             |[ Media Planning,  Digital Media]|Advertising  |Mumbai  |Marketing      |Advertising      |Media Planning Executive/Manager|Not disclosed |Not disclosed|5                      |10                     |\n",
            "|9be62c49a0b7ebe982a4af1edaa7bc5f| Digital Media Planner| Not Disclosed by Recruiter |5 - 10 yrs             |[ Media Planning,  Digital Media]|Advertising  |Mumbai  |Marketing      | PR              |Media Planning Executive/Manager|Not disclosed |Not disclosed|5                      |10                     |\n",
            "|9be62c49a0b7ebe982a4af1edaa7bc5f| Digital Media Planner| Not Disclosed by Recruiter |5 - 10 yrs             |[ Media Planning,  Digital Media]|Advertising  |Mumbai  |Marketing      | MR              |Media Planning Executive/Manager|Not disclosed |Not disclosed|5                      |10                     |\n",
            "|9be62c49a0b7ebe982a4af1edaa7bc5f| Digital Media Planner| Not Disclosed by Recruiter |5 - 10 yrs             |[ Media Planning,  Digital Media]|Advertising  |Mumbai  |Marketing      | Event Management|Media Planning Executive/Manager|Not disclosed |Not disclosed|5                      |10                     |\n",
            "|9be62c49a0b7ebe982a4af1edaa7bc5f| Digital Media Planner| Not Disclosed by Recruiter |5 - 10 yrs             |[ Media Planning,  Digital Media]|Advertising  |Mumbai  | Advertising   |Advertising      |Media Planning Executive/Manager|Not disclosed |Not disclosed|5                      |10                     |\n",
            "|9be62c49a0b7ebe982a4af1edaa7bc5f| Digital Media Planner| Not Disclosed by Recruiter |5 - 10 yrs             |[ Media Planning,  Digital Media]|Advertising  |Mumbai  | Advertising   | PR              |Media Planning Executive/Manager|Not disclosed |Not disclosed|5                      |10                     |\n",
            "|9be62c49a0b7ebe982a4af1edaa7bc5f| Digital Media Planner| Not Disclosed by Recruiter |5 - 10 yrs             |[ Media Planning,  Digital Media]|Advertising  |Mumbai  | Advertising   | MR              |Media Planning Executive/Manager|Not disclosed |Not disclosed|5                      |10                     |\n",
            "|9be62c49a0b7ebe982a4af1edaa7bc5f| Digital Media Planner| Not Disclosed by Recruiter |5 - 10 yrs             |[ Media Planning,  Digital Media]|Advertising  |Mumbai  | Advertising   | Event Management|Media Planning Executive/Manager|Not disclosed |Not disclosed|5                      |10                     |\n",
            "|9be62c49a0b7ebe982a4af1edaa7bc5f| Digital Media Planner| Not Disclosed by Recruiter |5 - 10 yrs             |[ Media Planning,  Digital Media]|Advertising  |Mumbai  | MR            |Advertising      |Media Planning Executive/Manager|Not disclosed |Not disclosed|5                      |10                     |\n",
            "|9be62c49a0b7ebe982a4af1edaa7bc5f| Digital Media Planner| Not Disclosed by Recruiter |5 - 10 yrs             |[ Media Planning,  Digital Media]|Advertising  |Mumbai  | MR            | PR              |Media Planning Executive/Manager|Not disclosed |Not disclosed|5                      |10                     |\n",
            "|9be62c49a0b7ebe982a4af1edaa7bc5f| Digital Media Planner| Not Disclosed by Recruiter |5 - 10 yrs             |[ Media Planning,  Digital Media]|Advertising  |Mumbai  | MR            | MR              |Media Planning Executive/Manager|Not disclosed |Not disclosed|5                      |10                     |\n",
            "|9be62c49a0b7ebe982a4af1edaa7bc5f| Digital Media Planner| Not Disclosed by Recruiter |5 - 10 yrs             |[ Media Planning,  Digital Media]|Advertising  |Mumbai  | MR            | Event Management|Media Planning Executive/Manager|Not disclosed |Not disclosed|5                      |10                     |\n",
            "|9be62c49a0b7ebe982a4af1edaa7bc5f| Digital Media Planner| Not Disclosed by Recruiter |5 - 10 yrs             |[ Media Planning,  Digital Media]|Advertising  |Mumbai  | PR            |Advertising      |Media Planning Executive/Manager|Not disclosed |Not disclosed|5                      |10                     |\n",
            "|9be62c49a0b7ebe982a4af1edaa7bc5f| Digital Media Planner| Not Disclosed by Recruiter |5 - 10 yrs             |[ Media Planning,  Digital Media]|Advertising  |Mumbai  | PR            | PR              |Media Planning Executive/Manager|Not disclosed |Not disclosed|5                      |10                     |\n",
            "|9be62c49a0b7ebe982a4af1edaa7bc5f| Digital Media Planner| Not Disclosed by Recruiter |5 - 10 yrs             |[ Media Planning,  Digital Media]|Advertising  |Mumbai  | PR            | MR              |Media Planning Executive/Manager|Not disclosed |Not disclosed|5                      |10                     |\n",
            "|9be62c49a0b7ebe982a4af1edaa7bc5f| Digital Media Planner| Not Disclosed by Recruiter |5 - 10 yrs             |[ Media Planning,  Digital Media]|Advertising  |Mumbai  | PR            | Event Management|Media Planning Executive/Manager|Not disclosed |Not disclosed|5                      |10                     |\n",
            "|9be62c49a0b7ebe982a4af1edaa7bc5f| Digital Media Planner| Not Disclosed by Recruiter |5 - 10 yrs             |[ Media Planning,  Digital Media]|Advertising  |Mumbai  | Media Planning|Advertising      |Media Planning Executive/Manager|Not disclosed |Not disclosed|5                      |10                     |\n",
            "|9be62c49a0b7ebe982a4af1edaa7bc5f| Digital Media Planner| Not Disclosed by Recruiter |5 - 10 yrs             |[ Media Planning,  Digital Media]|Advertising  |Mumbai  | Media Planning| PR              |Media Planning Executive/Manager|Not disclosed |Not disclosed|5                      |10                     |\n",
            "|9be62c49a0b7ebe982a4af1edaa7bc5f| Digital Media Planner| Not Disclosed by Recruiter |5 - 10 yrs             |[ Media Planning,  Digital Media]|Advertising  |Mumbai  | Media Planning| MR              |Media Planning Executive/Manager|Not disclosed |Not disclosed|5                      |10                     |\n",
            "|9be62c49a0b7ebe982a4af1edaa7bc5f| Digital Media Planner| Not Disclosed by Recruiter |5 - 10 yrs             |[ Media Planning,  Digital Media]|Advertising  |Mumbai  | Media Planning| Event Management|Media Planning Executive/Manager|Not disclosed |Not disclosed|5                      |10                     |\n",
            "+--------------------------------+----------------------+----------------------------+-----------------------+---------------------------------+-------------+--------+---------------+-----------------+--------------------------------+--------------+-------------+-----------------------+-----------------------+\n",
            "only showing top 20 rows\n",
            "\n"
          ]
        }
      ],
      "source": [
        "df.show(truncate=False)"
      ]
    },
    {
      "cell_type": "code",
      "execution_count": null,
      "metadata": {
        "colab": {
          "base_uri": "https://localhost:8080/"
        },
        "id": "ZZBN0KbAXFyA",
        "outputId": "22dc8d34-62b8-4345-b267-ebbfa37904eb"
      },
      "outputs": [
        {
          "name": "stdout",
          "output_type": "stream",
          "text": [
            "+--------------------+\n",
            "|          key Skills|\n",
            "+--------------------+\n",
            "|[ Media Planning,...|\n",
            "|[ Media Planning,...|\n",
            "|[ Media Planning,...|\n",
            "|[ Media Planning,...|\n",
            "|[ Media Planning,...|\n",
            "|[ Media Planning,...|\n",
            "|[ Media Planning,...|\n",
            "|[ Media Planning,...|\n",
            "|[ Media Planning,...|\n",
            "|[ Media Planning,...|\n",
            "|[ Media Planning,...|\n",
            "|[ Media Planning,...|\n",
            "|[ Media Planning,...|\n",
            "|[ Media Planning,...|\n",
            "|[ Media Planning,...|\n",
            "|[ Media Planning,...|\n",
            "|[ Media Planning,...|\n",
            "|[ Media Planning,...|\n",
            "|[ Media Planning,...|\n",
            "|[ Media Planning,...|\n",
            "+--------------------+\n",
            "only showing top 20 rows\n",
            "\n"
          ]
        }
      ],
      "source": [
        "df.select(\"key Skills\").show()"
      ]
    },
    {
      "cell_type": "code",
      "execution_count": null,
      "metadata": {
        "colab": {
          "base_uri": "https://localhost:8080/",
          "height": 304
        },
        "id": "IxfzEcjhdK6Y",
        "outputId": "f86349e9-fa82-4714-b2b0-e257c7380626"
      },
      "outputs": [
        {
          "ename": "AnalysisException",
          "evalue": "Column `Key Skills` has a data type of array<string>, which is not supported by CSV.",
          "output_type": "error",
          "traceback": [
            "\u001b[0;31m---------------------------------------------------------------------------\u001b[0m",
            "\u001b[0;31mAnalysisException\u001b[0m                         Traceback (most recent call last)",
            "\u001b[0;32m<ipython-input-291-a7be7c1471e4>\u001b[0m in \u001b[0;36m<cell line: 2>\u001b[0;34m()\u001b[0m\n\u001b[1;32m      1\u001b[0m \u001b[0;31m# Write DataFrame to a CSV file\u001b[0m\u001b[0;34m\u001b[0m\u001b[0;34m\u001b[0m\u001b[0m\n\u001b[0;32m----> 2\u001b[0;31m \u001b[0mdf\u001b[0m\u001b[0;34m.\u001b[0m\u001b[0mwrite\u001b[0m\u001b[0;34m.\u001b[0m\u001b[0mcsv\u001b[0m\u001b[0;34m(\u001b[0m\u001b[0;34m\"/content/job_data.csv\"\u001b[0m\u001b[0;34m,\u001b[0m \u001b[0mheader\u001b[0m\u001b[0;34m=\u001b[0m\u001b[0;32mTrue\u001b[0m\u001b[0;34m,\u001b[0m \u001b[0mmode\u001b[0m\u001b[0;34m=\u001b[0m\u001b[0;34m\"overwrite\"\u001b[0m\u001b[0;34m)\u001b[0m\u001b[0;34m\u001b[0m\u001b[0;34m\u001b[0m\u001b[0m\n\u001b[0m",
            "\u001b[0;32m/usr/local/lib/python3.10/dist-packages/pyspark/sql/readwriter.py\u001b[0m in \u001b[0;36mcsv\u001b[0;34m(self, path, mode, compression, sep, quote, escape, header, nullValue, escapeQuotes, quoteAll, dateFormat, timestampFormat, ignoreLeadingWhiteSpace, ignoreTrailingWhiteSpace, charToEscapeQuoteEscaping, encoding, emptyValue, lineSep)\u001b[0m\n\u001b[1;32m   1862\u001b[0m             \u001b[0mlineSep\u001b[0m\u001b[0;34m=\u001b[0m\u001b[0mlineSep\u001b[0m\u001b[0;34m,\u001b[0m\u001b[0;34m\u001b[0m\u001b[0;34m\u001b[0m\u001b[0m\n\u001b[1;32m   1863\u001b[0m         )\n\u001b[0;32m-> 1864\u001b[0;31m         \u001b[0mself\u001b[0m\u001b[0;34m.\u001b[0m\u001b[0m_jwrite\u001b[0m\u001b[0;34m.\u001b[0m\u001b[0mcsv\u001b[0m\u001b[0;34m(\u001b[0m\u001b[0mpath\u001b[0m\u001b[0;34m)\u001b[0m\u001b[0;34m\u001b[0m\u001b[0;34m\u001b[0m\u001b[0m\n\u001b[0m\u001b[1;32m   1865\u001b[0m \u001b[0;34m\u001b[0m\u001b[0m\n\u001b[1;32m   1866\u001b[0m     def orc(\n",
            "\u001b[0;32m/usr/local/lib/python3.10/dist-packages/py4j/java_gateway.py\u001b[0m in \u001b[0;36m__call__\u001b[0;34m(self, *args)\u001b[0m\n\u001b[1;32m   1320\u001b[0m \u001b[0;34m\u001b[0m\u001b[0m\n\u001b[1;32m   1321\u001b[0m         \u001b[0manswer\u001b[0m \u001b[0;34m=\u001b[0m \u001b[0mself\u001b[0m\u001b[0;34m.\u001b[0m\u001b[0mgateway_client\u001b[0m\u001b[0;34m.\u001b[0m\u001b[0msend_command\u001b[0m\u001b[0;34m(\u001b[0m\u001b[0mcommand\u001b[0m\u001b[0;34m)\u001b[0m\u001b[0;34m\u001b[0m\u001b[0;34m\u001b[0m\u001b[0m\n\u001b[0;32m-> 1322\u001b[0;31m         return_value = get_return_value(\n\u001b[0m\u001b[1;32m   1323\u001b[0m             answer, self.gateway_client, self.target_id, self.name)\n\u001b[1;32m   1324\u001b[0m \u001b[0;34m\u001b[0m\u001b[0m\n",
            "\u001b[0;32m/usr/local/lib/python3.10/dist-packages/pyspark/errors/exceptions/captured.py\u001b[0m in \u001b[0;36mdeco\u001b[0;34m(*a, **kw)\u001b[0m\n\u001b[1;32m    183\u001b[0m                 \u001b[0;31m# Hide where the exception came from that shows a non-Pythonic\u001b[0m\u001b[0;34m\u001b[0m\u001b[0;34m\u001b[0m\u001b[0m\n\u001b[1;32m    184\u001b[0m                 \u001b[0;31m# JVM exception message.\u001b[0m\u001b[0;34m\u001b[0m\u001b[0;34m\u001b[0m\u001b[0m\n\u001b[0;32m--> 185\u001b[0;31m                 \u001b[0;32mraise\u001b[0m \u001b[0mconverted\u001b[0m \u001b[0;32mfrom\u001b[0m \u001b[0;32mNone\u001b[0m\u001b[0;34m\u001b[0m\u001b[0;34m\u001b[0m\u001b[0m\n\u001b[0m\u001b[1;32m    186\u001b[0m             \u001b[0;32melse\u001b[0m\u001b[0;34m:\u001b[0m\u001b[0;34m\u001b[0m\u001b[0;34m\u001b[0m\u001b[0m\n\u001b[1;32m    187\u001b[0m                 \u001b[0;32mraise\u001b[0m\u001b[0;34m\u001b[0m\u001b[0;34m\u001b[0m\u001b[0m\n",
            "\u001b[0;31mAnalysisException\u001b[0m: Column `Key Skills` has a data type of array<string>, which is not supported by CSV."
          ]
        }
      ],
      "source": [
        "# Write DataFrame to a CSV file\n",
        "df.write.csv(\"/content/job_data.csv\", header=True, mode=\"overwrite\")\n"
      ]
    },
    {
      "cell_type": "code",
      "execution_count": null,
      "metadata": {
        "colab": {
          "background_save": true
        },
        "id": "iquMAmNedfRa",
        "outputId": "601f5ebd-563a-4a98-a880-e68ec3fd1765"
      },
      "outputs": [
        {
          "ename": "Py4JError",
          "evalue": "An error occurred while calling o2633.pandasStructHandlingMode. Trace:\npy4j.Py4JException: Method pandasStructHandlingMode([]) does not exist\n\tat py4j.reflection.ReflectionEngine.getMethod(ReflectionEngine.java:321)\n\tat py4j.reflection.ReflectionEngine.getMethod(ReflectionEngine.java:329)\n\tat py4j.Gateway.invoke(Gateway.java:274)\n\tat py4j.commands.AbstractCommand.invokeMethod(AbstractCommand.java:132)\n\tat py4j.commands.CallCommand.execute(CallCommand.java:79)\n\tat py4j.ClientServerConnection.waitForCommands(ClientServerConnection.java:182)\n\tat py4j.ClientServerConnection.run(ClientServerConnection.java:106)\n\tat java.base/java.lang.Thread.run(Thread.java:829)\n\n",
          "output_type": "error",
          "traceback": [
            "\u001b[0;31m---------------------------------------------------------------------------\u001b[0m",
            "\u001b[0;31mPy4JError\u001b[0m                                 Traceback (most recent call last)",
            "\u001b[0;32m<ipython-input-331-3c0bf717a6d2>\u001b[0m in \u001b[0;36m<cell line: 9>\u001b[0;34m()\u001b[0m\n\u001b[1;32m      7\u001b[0m \u001b[0;34m\u001b[0m\u001b[0m\n\u001b[1;32m      8\u001b[0m \u001b[0;31m# Convert Spark DataFrame to pandas DataFrame\u001b[0m\u001b[0;34m\u001b[0m\u001b[0;34m\u001b[0m\u001b[0m\n\u001b[0;32m----> 9\u001b[0;31m \u001b[0mdf_pandas\u001b[0m \u001b[0;34m=\u001b[0m \u001b[0mdf_combined\u001b[0m\u001b[0;34m.\u001b[0m\u001b[0mtoPandas\u001b[0m\u001b[0;34m(\u001b[0m\u001b[0;34m)\u001b[0m\u001b[0;34m\u001b[0m\u001b[0;34m\u001b[0m\u001b[0m\n\u001b[0m\u001b[1;32m     10\u001b[0m \u001b[0;34m\u001b[0m\u001b[0m\n\u001b[1;32m     11\u001b[0m \u001b[0;31m# Print the pandas DataFrame\u001b[0m\u001b[0;34m\u001b[0m\u001b[0;34m\u001b[0m\u001b[0m\n",
            "\u001b[0;32m/usr/local/lib/python3.10/dist-packages/pyspark/sql/pandas/conversion.py\u001b[0m in \u001b[0;36mtoPandas\u001b[0;34m(self)\u001b[0m\n\u001b[1;32m    210\u001b[0m         \u001b[0;32mif\u001b[0m \u001b[0mlen\u001b[0m\u001b[0;34m(\u001b[0m\u001b[0mpdf\u001b[0m\u001b[0;34m.\u001b[0m\u001b[0mcolumns\u001b[0m\u001b[0;34m)\u001b[0m \u001b[0;34m>\u001b[0m \u001b[0;36m0\u001b[0m\u001b[0;34m:\u001b[0m\u001b[0;34m\u001b[0m\u001b[0;34m\u001b[0m\u001b[0m\n\u001b[1;32m    211\u001b[0m             \u001b[0mtimezone\u001b[0m \u001b[0;34m=\u001b[0m \u001b[0mjconf\u001b[0m\u001b[0;34m.\u001b[0m\u001b[0msessionLocalTimeZone\u001b[0m\u001b[0;34m(\u001b[0m\u001b[0;34m)\u001b[0m\u001b[0;34m\u001b[0m\u001b[0;34m\u001b[0m\u001b[0m\n\u001b[0;32m--> 212\u001b[0;31m             \u001b[0mstruct_in_pandas\u001b[0m \u001b[0;34m=\u001b[0m \u001b[0mjconf\u001b[0m\u001b[0;34m.\u001b[0m\u001b[0mpandasStructHandlingMode\u001b[0m\u001b[0;34m(\u001b[0m\u001b[0;34m)\u001b[0m\u001b[0;34m\u001b[0m\u001b[0;34m\u001b[0m\u001b[0m\n\u001b[0m\u001b[1;32m    213\u001b[0m \u001b[0;34m\u001b[0m\u001b[0m\n\u001b[1;32m    214\u001b[0m             return pd.concat(\n",
            "\u001b[0;32m/usr/local/lib/python3.10/dist-packages/py4j/java_gateway.py\u001b[0m in \u001b[0;36m__call__\u001b[0;34m(self, *args)\u001b[0m\n\u001b[1;32m   1320\u001b[0m \u001b[0;34m\u001b[0m\u001b[0m\n\u001b[1;32m   1321\u001b[0m         \u001b[0manswer\u001b[0m \u001b[0;34m=\u001b[0m \u001b[0mself\u001b[0m\u001b[0;34m.\u001b[0m\u001b[0mgateway_client\u001b[0m\u001b[0;34m.\u001b[0m\u001b[0msend_command\u001b[0m\u001b[0;34m(\u001b[0m\u001b[0mcommand\u001b[0m\u001b[0;34m)\u001b[0m\u001b[0;34m\u001b[0m\u001b[0;34m\u001b[0m\u001b[0m\n\u001b[0;32m-> 1322\u001b[0;31m         return_value = get_return_value(\n\u001b[0m\u001b[1;32m   1323\u001b[0m             answer, self.gateway_client, self.target_id, self.name)\n\u001b[1;32m   1324\u001b[0m \u001b[0;34m\u001b[0m\u001b[0m\n",
            "\u001b[0;32m/usr/local/lib/python3.10/dist-packages/pyspark/errors/exceptions/captured.py\u001b[0m in \u001b[0;36mdeco\u001b[0;34m(*a, **kw)\u001b[0m\n\u001b[1;32m    177\u001b[0m     \u001b[0;32mdef\u001b[0m \u001b[0mdeco\u001b[0m\u001b[0;34m(\u001b[0m\u001b[0;34m*\u001b[0m\u001b[0ma\u001b[0m\u001b[0;34m:\u001b[0m \u001b[0mAny\u001b[0m\u001b[0;34m,\u001b[0m \u001b[0;34m**\u001b[0m\u001b[0mkw\u001b[0m\u001b[0;34m:\u001b[0m \u001b[0mAny\u001b[0m\u001b[0;34m)\u001b[0m \u001b[0;34m->\u001b[0m \u001b[0mAny\u001b[0m\u001b[0;34m:\u001b[0m\u001b[0;34m\u001b[0m\u001b[0;34m\u001b[0m\u001b[0m\n\u001b[1;32m    178\u001b[0m         \u001b[0;32mtry\u001b[0m\u001b[0;34m:\u001b[0m\u001b[0;34m\u001b[0m\u001b[0;34m\u001b[0m\u001b[0m\n\u001b[0;32m--> 179\u001b[0;31m             \u001b[0;32mreturn\u001b[0m \u001b[0mf\u001b[0m\u001b[0;34m(\u001b[0m\u001b[0;34m*\u001b[0m\u001b[0ma\u001b[0m\u001b[0;34m,\u001b[0m \u001b[0;34m**\u001b[0m\u001b[0mkw\u001b[0m\u001b[0;34m)\u001b[0m\u001b[0;34m\u001b[0m\u001b[0;34m\u001b[0m\u001b[0m\n\u001b[0m\u001b[1;32m    180\u001b[0m         \u001b[0;32mexcept\u001b[0m \u001b[0mPy4JJavaError\u001b[0m \u001b[0;32mas\u001b[0m \u001b[0me\u001b[0m\u001b[0;34m:\u001b[0m\u001b[0;34m\u001b[0m\u001b[0;34m\u001b[0m\u001b[0m\n\u001b[1;32m    181\u001b[0m             \u001b[0mconverted\u001b[0m \u001b[0;34m=\u001b[0m \u001b[0mconvert_exception\u001b[0m\u001b[0;34m(\u001b[0m\u001b[0me\u001b[0m\u001b[0;34m.\u001b[0m\u001b[0mjava_exception\u001b[0m\u001b[0;34m)\u001b[0m\u001b[0;34m\u001b[0m\u001b[0;34m\u001b[0m\u001b[0m\n",
            "\u001b[0;32m/usr/local/lib/python3.10/dist-packages/py4j/protocol.py\u001b[0m in \u001b[0;36mget_return_value\u001b[0;34m(answer, gateway_client, target_id, name)\u001b[0m\n\u001b[1;32m    328\u001b[0m                     format(target_id, \".\", name), value)\n\u001b[1;32m    329\u001b[0m             \u001b[0;32melse\u001b[0m\u001b[0;34m:\u001b[0m\u001b[0;34m\u001b[0m\u001b[0;34m\u001b[0m\u001b[0m\n\u001b[0;32m--> 330\u001b[0;31m                 raise Py4JError(\n\u001b[0m\u001b[1;32m    331\u001b[0m                     \u001b[0;34m\"An error occurred while calling {0}{1}{2}. Trace:\\n{3}\\n\"\u001b[0m\u001b[0;34m.\u001b[0m\u001b[0;34m\u001b[0m\u001b[0;34m\u001b[0m\u001b[0m\n\u001b[1;32m    332\u001b[0m                     format(target_id, \".\", name, value))\n",
            "\u001b[0;31mPy4JError\u001b[0m: An error occurred while calling o2633.pandasStructHandlingMode. Trace:\npy4j.Py4JException: Method pandasStructHandlingMode([]) does not exist\n\tat py4j.reflection.ReflectionEngine.getMethod(ReflectionEngine.java:321)\n\tat py4j.reflection.ReflectionEngine.getMethod(ReflectionEngine.java:329)\n\tat py4j.Gateway.invoke(Gateway.java:274)\n\tat py4j.commands.AbstractCommand.invokeMethod(AbstractCommand.java:132)\n\tat py4j.commands.CallCommand.execute(CallCommand.java:79)\n\tat py4j.ClientServerConnection.waitForCommands(ClientServerConnection.java:182)\n\tat py4j.ClientServerConnection.run(ClientServerConnection.java:106)\n\tat java.base/java.lang.Thread.run(Thread.java:829)\n\n"
          ]
        }
      ],
      "source": [
        "# Read the CSV files using Spark\n",
        "df1 = spark.read.csv(\"/content/job_data.csv/part-00000-7f39cf96-5fe7-40fe-a6b8-eb85a9517c67-c000.csv\", header=True)\n",
        "df2 = spark.read.csv(\"/content/job_data.csv/part-00001-7f39cf96-5fe7-40fe-a6b8-eb85a9517c67-c000.csv\", header=True)\n",
        "\n",
        "# Concatenate the DataFrames\n",
        "df_combined = df1.union(df2)\n",
        "\n",
        "# Convert Spark DataFrame to pandas DataFrame\n",
        "df_pandas = df_combined.toPandas()\n",
        "\n",
        "# Print the pandas DataFrame\n",
        "print(df_pandas)"
      ]
    },
    {
      "cell_type": "code",
      "execution_count": null,
      "metadata": {
        "id": "aAKZsUa6hBWt"
      },
      "outputs": [],
      "source": []
    }
  ],
  "metadata": {
    "colab": {
      "provenance": []
    },
    "kernelspec": {
      "display_name": "Python 3",
      "name": "python3"
    },
    "language_info": {
      "name": "python"
    }
  },
  "nbformat": 4,
  "nbformat_minor": 0
}